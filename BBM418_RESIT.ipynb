{
  "nbformat": 4,
  "nbformat_minor": 0,
  "metadata": {
    "colab": {
      "provenance": [],
      "gpuType": "T4",
      "machine_shape": "hm"
    },
    "kernelspec": {
      "name": "python3",
      "display_name": "Python 3"
    },
    "language_info": {
      "name": "python"
    },
    "accelerator": "GPU"
  },
  "cells": [
    {
      "cell_type": "code",
      "execution_count": 1,
      "metadata": {
        "id": "oqTo-NlRAVpM",
        "colab": {
          "base_uri": "https://localhost:8080/"
        },
        "outputId": "07a1d25b-bbd9-4aba-aeea-b4617f719c9e"
      },
      "outputs": [
        {
          "output_type": "stream",
          "name": "stdout",
          "text": [
            "Mounted at /content/drive\n"
          ]
        }
      ],
      "source": [
        "from google.colab import drive\n",
        "drive.mount('/content/drive')"
      ]
    },
    {
      "cell_type": "code",
      "source": [
        "import glob\n",
        "import os\n",
        "import cv2\n",
        "\n",
        "video_frame_files = glob.glob('/content/drive/MyDrive/Colab Notebooks/Resit/sequences/*/')\n",
        "video_frame_files.sort()\n",
        "consecutive_frame_pairs_all = []\n",
        "print(len(video_frame_files))\n",
        "print(video_frame_files)"
      ],
      "metadata": {
        "colab": {
          "base_uri": "https://localhost:8080/"
        },
        "id": "VfLTz74Tx-6T",
        "outputId": "8e9d4bab-97a2-454d-ea0a-f74ef0bd3715"
      },
      "execution_count": 2,
      "outputs": [
        {
          "output_type": "stream",
          "name": "stdout",
          "text": [
            "62\n",
            "['/content/drive/MyDrive/Colab Notebooks/Resit/sequences/agility/', '/content/drive/MyDrive/Colab Notebooks/Resit/sequences/animal/', '/content/drive/MyDrive/Colab Notebooks/Resit/sequences/ants1/', '/content/drive/MyDrive/Colab Notebooks/Resit/sequences/bag/', '/content/drive/MyDrive/Colab Notebooks/Resit/sequences/ball2/', '/content/drive/MyDrive/Colab Notebooks/Resit/sequences/ball3/', '/content/drive/MyDrive/Colab Notebooks/Resit/sequences/basketball/', '/content/drive/MyDrive/Colab Notebooks/Resit/sequences/birds1/', '/content/drive/MyDrive/Colab Notebooks/Resit/sequences/birds2/', '/content/drive/MyDrive/Colab Notebooks/Resit/sequences/bolt1/', '/content/drive/MyDrive/Colab Notebooks/Resit/sequences/book/', '/content/drive/MyDrive/Colab Notebooks/Resit/sequences/bubble/', '/content/drive/MyDrive/Colab Notebooks/Resit/sequences/butterfly/', '/content/drive/MyDrive/Colab Notebooks/Resit/sequences/car1/', '/content/drive/MyDrive/Colab Notebooks/Resit/sequences/conduction1/', '/content/drive/MyDrive/Colab Notebooks/Resit/sequences/crabs1/', '/content/drive/MyDrive/Colab Notebooks/Resit/sequences/dinosaur/', '/content/drive/MyDrive/Colab Notebooks/Resit/sequences/diver/', '/content/drive/MyDrive/Colab Notebooks/Resit/sequences/drone1/', '/content/drive/MyDrive/Colab Notebooks/Resit/sequences/drone_across/', '/content/drive/MyDrive/Colab Notebooks/Resit/sequences/fernando/', '/content/drive/MyDrive/Colab Notebooks/Resit/sequences/fish1/', '/content/drive/MyDrive/Colab Notebooks/Resit/sequences/fish2/', '/content/drive/MyDrive/Colab Notebooks/Resit/sequences/flamingo1/', '/content/drive/MyDrive/Colab Notebooks/Resit/sequences/frisbee/', '/content/drive/MyDrive/Colab Notebooks/Resit/sequences/girl/', '/content/drive/MyDrive/Colab Notebooks/Resit/sequences/graduate/', '/content/drive/MyDrive/Colab Notebooks/Resit/sequences/gymnastics1/', '/content/drive/MyDrive/Colab Notebooks/Resit/sequences/gymnastics2/', '/content/drive/MyDrive/Colab Notebooks/Resit/sequences/gymnastics3/', '/content/drive/MyDrive/Colab Notebooks/Resit/sequences/hand/', '/content/drive/MyDrive/Colab Notebooks/Resit/sequences/hand2/', '/content/drive/MyDrive/Colab Notebooks/Resit/sequences/handball1/', '/content/drive/MyDrive/Colab Notebooks/Resit/sequences/handball2/', '/content/drive/MyDrive/Colab Notebooks/Resit/sequences/helicopter/', '/content/drive/MyDrive/Colab Notebooks/Resit/sequences/iceskater1/', '/content/drive/MyDrive/Colab Notebooks/Resit/sequences/iceskater2/', '/content/drive/MyDrive/Colab Notebooks/Resit/sequences/kangaroo/', '/content/drive/MyDrive/Colab Notebooks/Resit/sequences/lamb/', '/content/drive/MyDrive/Colab Notebooks/Resit/sequences/leaves/', '/content/drive/MyDrive/Colab Notebooks/Resit/sequences/marathon/', '/content/drive/MyDrive/Colab Notebooks/Resit/sequences/matrix/', '/content/drive/MyDrive/Colab Notebooks/Resit/sequences/monkey/', '/content/drive/MyDrive/Colab Notebooks/Resit/sequences/motocross1/', '/content/drive/MyDrive/Colab Notebooks/Resit/sequences/nature/', '/content/drive/MyDrive/Colab Notebooks/Resit/sequences/polo/', '/content/drive/MyDrive/Colab Notebooks/Resit/sequences/rabbit/', '/content/drive/MyDrive/Colab Notebooks/Resit/sequences/rabbit2/', '/content/drive/MyDrive/Colab Notebooks/Resit/sequences/rowing/', '/content/drive/MyDrive/Colab Notebooks/Resit/sequences/shaking/', '/content/drive/MyDrive/Colab Notebooks/Resit/sequences/singer2/', '/content/drive/MyDrive/Colab Notebooks/Resit/sequences/singer3/', '/content/drive/MyDrive/Colab Notebooks/Resit/sequences/snake/', '/content/drive/MyDrive/Colab Notebooks/Resit/sequences/soccer1/', '/content/drive/MyDrive/Colab Notebooks/Resit/sequences/soccer2/', '/content/drive/MyDrive/Colab Notebooks/Resit/sequences/soldier/', '/content/drive/MyDrive/Colab Notebooks/Resit/sequences/surfing/', '/content/drive/MyDrive/Colab Notebooks/Resit/sequences/tennis/', '/content/drive/MyDrive/Colab Notebooks/Resit/sequences/tiger/', '/content/drive/MyDrive/Colab Notebooks/Resit/sequences/wheel/', '/content/drive/MyDrive/Colab Notebooks/Resit/sequences/wiper/', '/content/drive/MyDrive/Colab Notebooks/Resit/sequences/zebrafish1/']\n"
          ]
        }
      ]
    },
    {
      "cell_type": "code",
      "source": [
        "for i in range(5):\n",
        "    color_file = os.path.join(video_frame_files[i], 'color')\n",
        "    dosyalar = os.listdir(color_file)\n",
        "    dosyalar.sort()\n",
        "    jpg_dosyalari = [dosya for dosya in dosyalar if dosya.endswith(\".jpg\")]\n",
        "    jpg_dosyalari.sort()\n",
        "\n",
        "    consecutive_frame_pairs = []\n",
        "    #for i in range(len(jpg_dosyalari) - 1):\n",
        "    for i in range(len(jpg_dosyalari)):\n",
        "         frame_path = os.path.join(color_file, jpg_dosyalari[i])\n",
        "\n",
        "         frame = cv2.imread(frame_path, cv2.COLOR_BGR2RGB)  # Görüntüyü okuyun\n",
        "         #second_frame = cv2.imread(second_frame_path)  # İkinci görüntüyü okuyun\n",
        "\n",
        "        #consecutive_frame_pairs.append((frame, second_frame))\n",
        "         consecutive_frame_pairs.append(frame)\n",
        "    print(len(consecutive_frame_pairs))\n",
        "\n",
        "    consecutive_frame_pairs_all.append(consecutive_frame_pairs)"
      ],
      "metadata": {
        "id": "z_7m5eVZxxtv",
        "colab": {
          "base_uri": "https://localhost:8080/"
        },
        "outputId": "0c88c8ab-f389-4d71-e930-bd9ac6b63e61"
      },
      "execution_count": 3,
      "outputs": [
        {
          "output_type": "stream",
          "name": "stdout",
          "text": [
            "100\n",
            "100\n",
            "325\n",
            "311\n",
            "41\n"
          ]
        }
      ]
    },
    {
      "cell_type": "code",
      "source": [
        "print(len(consecutive_frame_pairs_all))"
      ],
      "metadata": {
        "colab": {
          "base_uri": "https://localhost:8080/"
        },
        "id": "4wQhX2E4ynij",
        "outputId": "d7a2723f-a05a-4ba2-a506-97d11d9b7303"
      },
      "execution_count": 4,
      "outputs": [
        {
          "output_type": "stream",
          "name": "stdout",
          "text": [
            "5\n"
          ]
        }
      ]
    },
    {
      "cell_type": "code",
      "source": [
        "import numpy as np\n",
        "import torch\n",
        "\n",
        "\n",
        "bounding_box_folder = '/content/drive/MyDrive/Colab Notebooks/Resit/sequences/*/groundtruth.txt'  # Bounding box dosyalarının bulunduğu klasör\n",
        "bounding_box_datas = []  # Bounding box bilgilerini içeren frame çiftleri listesi\n",
        "\n",
        "ground_truth_files = glob.glob(bounding_box_folder)\n",
        "ground_truth_files.sort()\n",
        "#print(ground_truth_files)\n",
        "for file in range(5):\n",
        "\n",
        "    with open(ground_truth_files[file], 'r') as file:\n",
        "       bounding_box_lines = file.readlines()\n",
        "       new_box=[]\n",
        "       for bounding_box in bounding_box_lines:\n",
        "          bbox_values = bounding_box.strip().split(',')\n",
        "\n",
        "          # Bounding box değerlerini float'a dönüştürün\n",
        "          bbox_values = [float(value) for value in bbox_values]\n",
        "          resize_ratio=512/512\n",
        "          # Bounding box koordinatlarını boyutlandırma oranıyla çarpın\n",
        "          resized_bounding_box =[value * resize_ratio for value in bbox_values]\n",
        "          tensor_bounding_box = torch.tensor(resized_bounding_box)\n",
        "          #print(resized_bounding_box)\n",
        "          new_box.append(tensor_bounding_box)\n",
        "       bounding_box_datas.append(new_box)\n",
        "       #print(len(new_box))\n",
        "\n",
        "       #print(len(bounding_box_lines))\n",
        "\n",
        "\n",
        "#print(bounding_box_datas[0])\n",
        "print(len(bounding_box_datas))\n"
      ],
      "metadata": {
        "id": "7Wq3_mSXcl1d",
        "colab": {
          "base_uri": "https://localhost:8080/"
        },
        "outputId": "66a50a32-3652-4246-c95f-1d5a1496181f"
      },
      "execution_count": 5,
      "outputs": [
        {
          "output_type": "stream",
          "name": "stdout",
          "text": [
            "5\n"
          ]
        }
      ]
    },
    {
      "cell_type": "code",
      "source": [
        "print(bounding_box_datas[0][0])\n"
      ],
      "metadata": {
        "colab": {
          "base_uri": "https://localhost:8080/"
        },
        "id": "8rKovqHKaryn",
        "outputId": "0dc4d2f5-0284-45ce-b2da-d78c13d6d8b1"
      },
      "execution_count": 6,
      "outputs": [
        {
          "output_type": "stream",
          "name": "stdout",
          "text": [
            "tensor([549., 249.,  23.,  57.])\n"
          ]
        }
      ]
    },
    {
      "cell_type": "code",
      "source": [
        "\n",
        "import cv2\n",
        "import torchvision.transforms as transforms\n",
        "\n",
        "# Hedef boyut\n",
        "target_size = (512, 512)\n",
        "\n",
        "# Transform işlemlerini tanımlayın\n",
        "transform = transforms.Resize(target_size)\n",
        "\n",
        "# Görüntüleri boyutlandırın\n",
        "resized_images = []\n",
        "for images in consecutive_frame_pairs_all:\n",
        "  new_images=[]\n",
        "  for image in images:\n",
        "    pil_image = transforms.ToPILImage()(image)  # Görüntüyü PIL.Image formatına dönüştürün\n",
        "    resized_image = transform(pil_image)\n",
        "    resized_image = transforms.ToTensor()(resized_image)  # Görüntüyü Tensor formatına dönüştürün\n",
        "    new_images.append(resized_image)\n",
        "  resized_images.append(new_images)\n",
        "\n",
        "print(len(resized_images))\n",
        "consecutive_frame_pairs_all=[]\n"
      ],
      "metadata": {
        "colab": {
          "base_uri": "https://localhost:8080/"
        },
        "id": "FMYGmj9KbCaw",
        "outputId": "7ad49fe0-ac59-4f61-a340-68451349aebb"
      },
      "execution_count": 7,
      "outputs": [
        {
          "output_type": "stream",
          "name": "stdout",
          "text": [
            "5\n"
          ]
        }
      ]
    },
    {
      "cell_type": "code",
      "source": [
        "consecutive_frame_2 = []\n",
        "consecutive_frame_1 = []\n",
        "\n",
        "for consecutive_frame_pairs in resized_images:\n",
        "    consecutive_frame_pairs_2= consecutive_frame_pairs[1:]\n",
        "    consecutive_frame_2.append(consecutive_frame_pairs_2)\n",
        "\n",
        "for consecutive_frame_pairs_ in resized_images:\n",
        "    consecutive_frame_pairs_1= consecutive_frame_pairs_[:-1]\n",
        "    consecutive_frame_1.append(consecutive_frame_pairs_1)\n",
        "\n",
        "print(consecutive_frame_1[0][0].shape)\n"
      ],
      "metadata": {
        "id": "sFwcWwSMbhFe",
        "colab": {
          "base_uri": "https://localhost:8080/"
        },
        "outputId": "584b1cb0-c68b-4c0f-c916-da6b4d95220f"
      },
      "execution_count": 8,
      "outputs": [
        {
          "output_type": "stream",
          "name": "stdout",
          "text": [
            "torch.Size([3, 512, 512])\n"
          ]
        }
      ]
    },
    {
      "cell_type": "code",
      "source": [
        "\n",
        "bounding_box_datas_2 = []\n",
        "bounding_box_datas_1 = []\n",
        "\n",
        "for bounding_box_data in bounding_box_datas:\n",
        "    bounding_box_data_2= bounding_box_data[1:]\n",
        "    bounding_box_datas_2.append(bounding_box_data_2)\n",
        "\n",
        "for bounding_box_data_ in bounding_box_datas:\n",
        "    bounding_box_datas_= bounding_box_data_[:-1]\n",
        "    bounding_box_datas_1.append(bounding_box_datas_)\n",
        "\n",
        "print(len(bounding_box_datas_1[0]))\n",
        "print(len(bounding_box_datas_2[0]))\n",
        "print(bounding_box_datas_1[0])\n",
        "print(bounding_box_datas_2[0])"
      ],
      "metadata": {
        "colab": {
          "base_uri": "https://localhost:8080/"
        },
        "id": "dvutIP3Asdep",
        "outputId": "69b11a95-28d8-4967-87b6-37b9d832436e"
      },
      "execution_count": 9,
      "outputs": [
        {
          "output_type": "stream",
          "name": "stdout",
          "text": [
            "99\n",
            "99\n",
            "[tensor([549., 249.,  23.,  57.]), tensor([553., 242.,  24.,  40.]), tensor([558., 241.,  21.,  37.]), tensor([557., 244.,  27.,  42.]), tensor([558., 255.,  25.,  50.]), tensor([551., 270.,  29.,  36.]), tensor([537., 275.,  33.,  36.]), tensor([524., 280.,  33.,  34.]), tensor([509., 280.,  33.,  35.]), tensor([496., 274.,  37.,  37.]), tensor([494., 275.,  33.,  32.]), tensor([487., 273.,  35.,  34.]), tensor([479., 275.,  42.,  34.]), tensor([487., 275.,  27.,  32.]), tensor([495., 283.,  15.,  23.]), tensor([0., 0., 0., 0.]), tensor([454., 284.,  18.,  26.]), tensor([441., 266.,  36.,  43.]), tensor([422., 255.,  58.,  55.]), tensor([400., 242.,  58.,  47.]), tensor([390., 250.,  57.,  41.]), tensor([373., 256.,  64.,  54.]), tensor([371., 269.,  64.,  51.]), tensor([368., 293.,  65.,  25.]), tensor([359., 290.,  72.,  28.]), tensor([330., 288.,  77.,  39.]), tensor([314., 294.,  70.,  43.]), tensor([292., 292.,  78.,  47.]), tensor([270., 291.,  62.,  44.]), tensor([247., 296.,  83.,  42.]), tensor([224., 307.,  80.,  37.]), tensor([211., 312.,  57.,  37.]), tensor([198., 321.,  64.,  35.]), tensor([195., 322.,  47.,  37.]), tensor([189., 314.,  36.,  47.]), tensor([188., 324.,  31.,  35.]), tensor([188., 326.,  35.,  29.]), tensor([188., 312.,  37.,  36.]), tensor([201., 303.,  42.,  39.]), tensor([213., 303.,  41.,  37.]), tensor([229., 303.,  45.,  34.]), tensor([247., 297.,  43.,  37.]), tensor([264., 298.,  42.,  32.]), tensor([276., 296.,  46.,  30.]), tensor([309., 278.,  36.,  42.]), tensor([315., 268.,  46.,  52.]), tensor([329., 262.,  46.,  37.]), tensor([352., 251.,  41.,  30.]), tensor([352., 261.,  47.,  35.]), tensor([371., 267.,  29.,  32.]), tensor([415., 288.,  34.,  33.]), tensor([408., 289.,  57.,  30.]), tensor([419., 289.,  64.,  26.]), tensor([444., 282.,  47.,  30.]), tensor([452., 278.,  52.,  33.]), tensor([464., 284.,  44.,  23.]), tensor([478., 268.,  31.,  36.]), tensor([464., 278.,  36.,  27.]), tensor([447., 281.,  48.,  25.]), tensor([439., 280.,  49.,  27.]), tensor([416., 283.,  73.,  28.]), tensor([414., 279.,  53.,  33.]), tensor([397., 282.,  61.,  30.]), tensor([371., 284.,  75.,  35.]), tensor([357., 282.,  57.,  36.]), tensor([331., 286.,  76.,  33.]), tensor([309., 288.,  74.,  40.]), tensor([295., 298.,  53.,  33.]), tensor([266., 299.,  83.,  31.]), tensor([247., 305.,  59.,  30.]), tensor([227., 300.,  79.,  33.]), tensor([216., 297.,  64.,  38.]), tensor([208., 275.,  82.,  47.]), tensor([236., 263.,  42.,  29.]), tensor([200., 251.,  71.,  41.]), tensor([212., 232.,  28.,  36.]), tensor([222., 209.,  51.,  50.]), tensor([224., 202.,  73.,  51.]), tensor([235., 191.,  68.,  45.]), tensor([231., 166.,  88.,  70.]), tensor([227., 161.,  78.,  57.]), tensor([231., 144.,  70.,  59.]), tensor([222., 126.,  79.,  59.]), tensor([224., 114.,  71.,  61.]), tensor([220., 114.,  76.,  50.]), tensor([213., 125.,  83.,  46.]), tensor([220., 128.,  69.,  49.]), tensor([215., 135.,  82.,  44.]), tensor([213., 138.,  83.,  46.]), tensor([217., 141.,  75.,  44.]), tensor([214., 147.,  82.,  36.]), tensor([209., 132.,  70.,  50.]), tensor([194., 136.,  93.,  46.]), tensor([186., 132.,  83.,  49.]), tensor([189., 128.,  83.,  54.]), tensor([188., 133.,  94.,  47.]), tensor([197., 136.,  77.,  44.]), tensor([208., 140.,  82.,  45.]), tensor([225., 146.,  73.,  42.])]\n",
            "[tensor([553., 242.,  24.,  40.]), tensor([558., 241.,  21.,  37.]), tensor([557., 244.,  27.,  42.]), tensor([558., 255.,  25.,  50.]), tensor([551., 270.,  29.,  36.]), tensor([537., 275.,  33.,  36.]), tensor([524., 280.,  33.,  34.]), tensor([509., 280.,  33.,  35.]), tensor([496., 274.,  37.,  37.]), tensor([494., 275.,  33.,  32.]), tensor([487., 273.,  35.,  34.]), tensor([479., 275.,  42.,  34.]), tensor([487., 275.,  27.,  32.]), tensor([495., 283.,  15.,  23.]), tensor([0., 0., 0., 0.]), tensor([454., 284.,  18.,  26.]), tensor([441., 266.,  36.,  43.]), tensor([422., 255.,  58.,  55.]), tensor([400., 242.,  58.,  47.]), tensor([390., 250.,  57.,  41.]), tensor([373., 256.,  64.,  54.]), tensor([371., 269.,  64.,  51.]), tensor([368., 293.,  65.,  25.]), tensor([359., 290.,  72.,  28.]), tensor([330., 288.,  77.,  39.]), tensor([314., 294.,  70.,  43.]), tensor([292., 292.,  78.,  47.]), tensor([270., 291.,  62.,  44.]), tensor([247., 296.,  83.,  42.]), tensor([224., 307.,  80.,  37.]), tensor([211., 312.,  57.,  37.]), tensor([198., 321.,  64.,  35.]), tensor([195., 322.,  47.,  37.]), tensor([189., 314.,  36.,  47.]), tensor([188., 324.,  31.,  35.]), tensor([188., 326.,  35.,  29.]), tensor([188., 312.,  37.,  36.]), tensor([201., 303.,  42.,  39.]), tensor([213., 303.,  41.,  37.]), tensor([229., 303.,  45.,  34.]), tensor([247., 297.,  43.,  37.]), tensor([264., 298.,  42.,  32.]), tensor([276., 296.,  46.,  30.]), tensor([309., 278.,  36.,  42.]), tensor([315., 268.,  46.,  52.]), tensor([329., 262.,  46.,  37.]), tensor([352., 251.,  41.,  30.]), tensor([352., 261.,  47.,  35.]), tensor([371., 267.,  29.,  32.]), tensor([415., 288.,  34.,  33.]), tensor([408., 289.,  57.,  30.]), tensor([419., 289.,  64.,  26.]), tensor([444., 282.,  47.,  30.]), tensor([452., 278.,  52.,  33.]), tensor([464., 284.,  44.,  23.]), tensor([478., 268.,  31.,  36.]), tensor([464., 278.,  36.,  27.]), tensor([447., 281.,  48.,  25.]), tensor([439., 280.,  49.,  27.]), tensor([416., 283.,  73.,  28.]), tensor([414., 279.,  53.,  33.]), tensor([397., 282.,  61.,  30.]), tensor([371., 284.,  75.,  35.]), tensor([357., 282.,  57.,  36.]), tensor([331., 286.,  76.,  33.]), tensor([309., 288.,  74.,  40.]), tensor([295., 298.,  53.,  33.]), tensor([266., 299.,  83.,  31.]), tensor([247., 305.,  59.,  30.]), tensor([227., 300.,  79.,  33.]), tensor([216., 297.,  64.,  38.]), tensor([208., 275.,  82.,  47.]), tensor([236., 263.,  42.,  29.]), tensor([200., 251.,  71.,  41.]), tensor([212., 232.,  28.,  36.]), tensor([222., 209.,  51.,  50.]), tensor([224., 202.,  73.,  51.]), tensor([235., 191.,  68.,  45.]), tensor([231., 166.,  88.,  70.]), tensor([227., 161.,  78.,  57.]), tensor([231., 144.,  70.,  59.]), tensor([222., 126.,  79.,  59.]), tensor([224., 114.,  71.,  61.]), tensor([220., 114.,  76.,  50.]), tensor([213., 125.,  83.,  46.]), tensor([220., 128.,  69.,  49.]), tensor([215., 135.,  82.,  44.]), tensor([213., 138.,  83.,  46.]), tensor([217., 141.,  75.,  44.]), tensor([214., 147.,  82.,  36.]), tensor([209., 132.,  70.,  50.]), tensor([194., 136.,  93.,  46.]), tensor([186., 132.,  83.,  49.]), tensor([189., 128.,  83.,  54.]), tensor([188., 133.,  94.,  47.]), tensor([197., 136.,  77.,  44.]), tensor([208., 140.,  82.,  45.]), tensor([225., 146.,  73.,  42.]), tensor([245., 144.,  75.,  46.])]\n"
          ]
        }
      ]
    },
    {
      "cell_type": "code",
      "source": [
        "import torch\n",
        "\n",
        "\n",
        "frame1_tensor = []\n",
        "for frame_array in consecutive_frame_1:\n",
        "    for frame in frame_array:\n",
        "        frame1_tensor.append(frame)\n",
        "        #print(type(frame))\n",
        "print(len(frame1_tensor))\n",
        "print(frame1_tensor[0].shape)\n",
        "\n",
        "\n",
        "\n",
        "frame2_tensor = []\n",
        "for frame_array in consecutive_frame_2:\n",
        "    for frame in frame_array:\n",
        "        frame2_tensor.append(frame)\n",
        "print(len(frame2_tensor))\n",
        "\n",
        "\n",
        "\n",
        "\n",
        "bounding_box1_tensor = []\n",
        "for bounding_box_array in bounding_box_datas_1:\n",
        "  for bounding_box in bounding_box_array:\n",
        "    bounding_box1_tensor.append(bounding_box)\n",
        "print(len(bounding_box1_tensor))\n",
        "\n",
        "\n",
        "\n",
        "bounding_box2_tensor = []\n",
        "for bounding_box_array in bounding_box_datas_2:\n",
        "  for bounding_box in bounding_box_array:\n",
        "    bounding_box2_tensor.append(bounding_box)\n",
        "print(len(bounding_box2_tensor))"
      ],
      "metadata": {
        "colab": {
          "base_uri": "https://localhost:8080/"
        },
        "id": "grWzfQsbgokD",
        "outputId": "1bb61966-8b33-40f3-d96a-efa52b34ff4b"
      },
      "execution_count": 10,
      "outputs": [
        {
          "output_type": "stream",
          "name": "stdout",
          "text": [
            "872\n",
            "torch.Size([3, 512, 512])\n",
            "872\n",
            "872\n",
            "872\n"
          ]
        }
      ]
    },
    {
      "cell_type": "code",
      "source": [
        "def crop_frame(frame, bbox):\n",
        "    # Bounding box değerlerini alalım\n",
        "    x, y, width, height = bbox.squeeze().tolist()\n",
        "\n",
        "    # Orta noktayı hesaplayalım\n",
        "    center_x = x + (width / 2)\n",
        "    center_y = y + (height / 2)\n",
        "\n",
        "    # Büyütülmüş bbox boyutlarını hesaplayalım\n",
        "    enlarged_width = width * 2\n",
        "    enlarged_height = height * 2\n",
        "\n",
        "    # Kırpılmış çerçeveyi hesaplayalım\n",
        "    cropped_frame = frame[:,:,int(center_y - (enlarged_height / 2)):int(center_y + (enlarged_height / 2)),\n",
        "                          int(center_x - (enlarged_width / 2)):int(center_x + (enlarged_width / 2))]\n",
        "\n",
        "\n",
        "    #resize_transform = transforms.Resize((224, 224))\n",
        "    #cropped_frame = resize_transform(cropped_frame)\n",
        "    # Kanal boyutunu kontrol et\n",
        "    #assert cropped_frame.shape[2] == 3, \"The cropped frame should have 3 channels.\"\n",
        "\n",
        "    return cropped_frame\n"
      ],
      "metadata": {
        "id": "WWgUCxx7C3k0"
      },
      "execution_count": 11,
      "outputs": []
    },
    {
      "cell_type": "code",
      "source": [
        "print(len(frame1_tensor))\n",
        "\n",
        "  #print(frame1_tensor[i].shape)\n",
        "  #print(frame2_tensor[i].shape)\n",
        "#print(frame2_tensor[0])\n",
        "\n",
        "print(bounding_box1_tensor[0])\n",
        "print(len(bounding_box2_tensor))"
      ],
      "metadata": {
        "colab": {
          "base_uri": "https://localhost:8080/"
        },
        "id": "wj3QofnQh_bg",
        "outputId": "0a75eeb5-b0a8-4ebe-8905-9e0dbee147b1"
      },
      "execution_count": 44,
      "outputs": [
        {
          "output_type": "stream",
          "name": "stdout",
          "text": [
            "872\n",
            "tensor([308.5714, 139.9532,  12.9274,  32.0375])\n",
            "872\n"
          ]
        }
      ]
    },
    {
      "cell_type": "code",
      "source": [
        "frame1_tensor = torch.stack(frame1_tensor)\n",
        "frame2_tensor = torch.stack(frame2_tensor)\n",
        "bounding_box1_tensor = torch.stack(bounding_box1_tensor)\n",
        "bounding_box2_tensor = torch.stack(bounding_box2_tensor)\n"
      ],
      "metadata": {
        "id": "j3n09R3Iopqs"
      },
      "execution_count": 12,
      "outputs": []
    },
    {
      "cell_type": "code",
      "source": [
        "import torch\n",
        "from torchvision.models import resnet34\n",
        "import torch.nn as nn\n",
        "\n",
        "\n",
        "# Install the pre-trained ResNet-34 model\n",
        "model = resnet34(pretrained=True)\n",
        "\n",
        "#num_features = model.fc.in_features\n",
        "#model.fc = torch.nn.Linear(num_features*2, 4)  # Adjust the output size to 4 for the bounding box coordinates\n",
        "\n",
        "\n",
        "\n",
        "\n",
        "# Create training installer\n",
        "#dataset = torch.utils.data.TensorDataset(frame1_tensor, frame2_tensor, bounding_box1_tensor, bounding_box2_tensor)\n",
        "dataset = torch.utils.data.TensorDataset(frame1_tensor, frame2_tensor, bounding_box1_tensor, bounding_box2_tensor)\n",
        "loader = torch.utils.data.DataLoader(dataset, batch_size=1, shuffle=True)\n",
        "\n",
        "print(dataset[0][0].shape)\n",
        "print(dataset[1][0].shape)\n",
        "# Train Model\n",
        "criterion = torch.nn.MSELoss()  # Kayıp fonksiyonu olarak MSE kullanıyoruz\n",
        "optimizer = torch.optim.SGD(model.parameters(), lr=0.001)  # SGD optimizerini kullanıyoruz\n",
        "\n",
        "epoch=10 #train for 10 epochs\n",
        "for epoch in range(epoch):\n",
        "    running_loss = 0.0\n",
        "\n",
        "    for frame1, frame2, bounding_box1, bounding_box2 in loader:\n",
        "        optimizer.zero_grad()\n",
        "\n",
        "        resized_transform = transforms.Resize((224, 224))\n",
        "\n",
        "        # Clipping and feature extraction for the first frame\n",
        "\n",
        "        #cropped_frame_1 = crop_frame(frame1.squeeze(0), bounding_box1)\n",
        "        cropped_frame_1 = crop_frame(frame1, bounding_box1)  # Crop the first frame\n",
        "        if cropped_frame_1.size(0) > 0 and cropped_frame_1.size(1) > 0:\n",
        "            resized_transform = transforms.Resize((224, 224))\n",
        "            resized_frame_1 = resized_transform(cropped_frame_1)\n",
        "            resized_frame_1 = resized_frame_1.unsqueeze(0)  # Add batch dimension\n",
        "            features_1 = model(resized_frame_1)\n",
        "            features_1 = features_1.view(features_1.size(0), -1)\n",
        "\n",
        "        #print(cropped_frame_1.permute(2, 0, 1).unsqueeze(0))\n",
        "        #features_1 = model(cropped_frame_1)  # Feature extraction\n",
        "\n",
        "        # Clipping and feature extraction for the first frame\n",
        "        cropped_frame_2 = crop_frame(frame2 ,bounding_box1)  # Crop the second frame\n",
        "\n",
        "        if cropped_frame_2.size(0) > 0 and cropped_frame_2.size(1) > 0:\n",
        "            resized_frame_2 = resized_transform(cropped_frame_2)\n",
        "            resized_frame_2 = resized_frame_2.unsqueeze(0)  # Add batch dimension\n",
        "            features_2 = model(resized_frame_2)\n",
        "            features_2 = features_2.view(features_2.size(0), -1)\n",
        "        #features_2 = model(cropped_frame_2)  # Feature extraction\n",
        "        #print(features_2.shape)\n",
        "\n",
        "        # Combining feature vectors\n",
        "        combined_features = torch.cat((features_1, features_2), dim=1)\n",
        "\n",
        "\n",
        "        print(combined_features.shape)\n",
        "        # Predictions\n",
        "        #predictions =model.fc(combined_features)\n",
        "        predictions = model.fc(combined_features.view(combined_features.size(0), -1))\n",
        "        print(predictions)\n",
        "\n",
        "        # lass calculation and back propagation\n",
        "        loss = criterion(predictions, bounding_box2)\n",
        "        loss.backward()\n",
        "\n",
        "\n",
        "        optimizer.step()\n",
        "\n",
        "        running_loss += loss.item()\n",
        "\n",
        "    epoch_loss = running_loss / len(loader)\n",
        "    print(f\"Epoch {epoch+1} Loss: {epoch_loss}\")\n"
      ],
      "metadata": {
        "colab": {
          "base_uri": "https://localhost:8080/",
          "height": 660
        },
        "id": "bLfdopDbJWAH",
        "outputId": "1c740f88-c1cf-454f-c298-da1707233e28"
      },
      "execution_count": 13,
      "outputs": [
        {
          "output_type": "stream",
          "name": "stderr",
          "text": [
            "/usr/local/lib/python3.10/dist-packages/torchvision/models/_utils.py:208: UserWarning: The parameter 'pretrained' is deprecated since 0.13 and may be removed in the future, please use 'weights' instead.\n",
            "  warnings.warn(\n",
            "/usr/local/lib/python3.10/dist-packages/torchvision/models/_utils.py:223: UserWarning: Arguments other than a weight enum or `None` for 'weights' are deprecated since 0.13 and may be removed in the future. The current behavior is equivalent to passing `weights=ResNet34_Weights.IMAGENET1K_V1`. You can also use `weights=ResNet34_Weights.DEFAULT` to get the most up-to-date weights.\n",
            "  warnings.warn(msg)\n",
            "Downloading: \"https://download.pytorch.org/models/resnet34-b627a593.pth\" to /root/.cache/torch/hub/checkpoints/resnet34-b627a593.pth\n",
            "100%|██████████| 83.3M/83.3M [00:00<00:00, 325MB/s]\n",
            "/usr/local/lib/python3.10/dist-packages/torchvision/transforms/functional.py:1603: UserWarning: The default value of the antialias parameter of all the resizing transforms (Resize(), RandomResizedCrop(), etc.) will change from None to True in v0.17, in order to be consistent across the PIL and Tensor backends. To suppress this warning, directly pass antialias=True (recommended, future default), antialias=None (current default, which means False for Tensors and True for PIL), or antialias=False (only works on Tensors - PIL will still use antialiasing). This also applies if you are using the inference transforms from the models weights: update the call to weights.transforms(antialias=True).\n",
            "  warnings.warn(\n"
          ]
        },
        {
          "output_type": "stream",
          "name": "stdout",
          "text": [
            "torch.Size([3, 512, 512])\n",
            "torch.Size([3, 512, 512])\n"
          ]
        },
        {
          "output_type": "error",
          "ename": "RuntimeError",
          "evalue": "ignored",
          "traceback": [
            "\u001b[0;31m---------------------------------------------------------------------------\u001b[0m",
            "\u001b[0;31mRuntimeError\u001b[0m                              Traceback (most recent call last)",
            "\u001b[0;32m<ipython-input-13-d477e605065c>\u001b[0m in \u001b[0;36m<cell line: 27>\u001b[0;34m()\u001b[0m\n\u001b[1;32m     39\u001b[0m         \u001b[0;32mif\u001b[0m \u001b[0mcropped_frame_1\u001b[0m\u001b[0;34m.\u001b[0m\u001b[0msize\u001b[0m\u001b[0;34m(\u001b[0m\u001b[0;36m0\u001b[0m\u001b[0;34m)\u001b[0m \u001b[0;34m>\u001b[0m \u001b[0;36m0\u001b[0m \u001b[0;32mand\u001b[0m \u001b[0mcropped_frame_1\u001b[0m\u001b[0;34m.\u001b[0m\u001b[0msize\u001b[0m\u001b[0;34m(\u001b[0m\u001b[0;36m1\u001b[0m\u001b[0;34m)\u001b[0m \u001b[0;34m>\u001b[0m \u001b[0;36m0\u001b[0m\u001b[0;34m:\u001b[0m\u001b[0;34m\u001b[0m\u001b[0;34m\u001b[0m\u001b[0m\n\u001b[1;32m     40\u001b[0m             \u001b[0mresized_transform\u001b[0m \u001b[0;34m=\u001b[0m \u001b[0mtransforms\u001b[0m\u001b[0;34m.\u001b[0m\u001b[0mResize\u001b[0m\u001b[0;34m(\u001b[0m\u001b[0;34m(\u001b[0m\u001b[0;36m224\u001b[0m\u001b[0;34m,\u001b[0m \u001b[0;36m224\u001b[0m\u001b[0;34m)\u001b[0m\u001b[0;34m)\u001b[0m\u001b[0;34m\u001b[0m\u001b[0;34m\u001b[0m\u001b[0m\n\u001b[0;32m---> 41\u001b[0;31m             \u001b[0mresized_frame_1\u001b[0m \u001b[0;34m=\u001b[0m \u001b[0mresized_transform\u001b[0m\u001b[0;34m(\u001b[0m\u001b[0mcropped_frame_1\u001b[0m\u001b[0;34m)\u001b[0m\u001b[0;34m\u001b[0m\u001b[0;34m\u001b[0m\u001b[0m\n\u001b[0m\u001b[1;32m     42\u001b[0m             \u001b[0mresized_frame_1\u001b[0m \u001b[0;34m=\u001b[0m \u001b[0mresized_frame_1\u001b[0m\u001b[0;34m.\u001b[0m\u001b[0munsqueeze\u001b[0m\u001b[0;34m(\u001b[0m\u001b[0;36m0\u001b[0m\u001b[0;34m)\u001b[0m  \u001b[0;31m# Add batch dimension\u001b[0m\u001b[0;34m\u001b[0m\u001b[0;34m\u001b[0m\u001b[0m\n\u001b[1;32m     43\u001b[0m             \u001b[0mfeatures_1\u001b[0m \u001b[0;34m=\u001b[0m \u001b[0mmodel\u001b[0m\u001b[0;34m(\u001b[0m\u001b[0mresized_frame_1\u001b[0m\u001b[0;34m)\u001b[0m\u001b[0;34m\u001b[0m\u001b[0;34m\u001b[0m\u001b[0m\n",
            "\u001b[0;32m/usr/local/lib/python3.10/dist-packages/torch/nn/modules/module.py\u001b[0m in \u001b[0;36m_call_impl\u001b[0;34m(self, *args, **kwargs)\u001b[0m\n\u001b[1;32m   1499\u001b[0m                 \u001b[0;32mor\u001b[0m \u001b[0m_global_backward_pre_hooks\u001b[0m \u001b[0;32mor\u001b[0m \u001b[0m_global_backward_hooks\u001b[0m\u001b[0;34m\u001b[0m\u001b[0;34m\u001b[0m\u001b[0m\n\u001b[1;32m   1500\u001b[0m                 or _global_forward_hooks or _global_forward_pre_hooks):\n\u001b[0;32m-> 1501\u001b[0;31m             \u001b[0;32mreturn\u001b[0m \u001b[0mforward_call\u001b[0m\u001b[0;34m(\u001b[0m\u001b[0;34m*\u001b[0m\u001b[0margs\u001b[0m\u001b[0;34m,\u001b[0m \u001b[0;34m**\u001b[0m\u001b[0mkwargs\u001b[0m\u001b[0;34m)\u001b[0m\u001b[0;34m\u001b[0m\u001b[0;34m\u001b[0m\u001b[0m\n\u001b[0m\u001b[1;32m   1502\u001b[0m         \u001b[0;31m# Do not call functions when jit is used\u001b[0m\u001b[0;34m\u001b[0m\u001b[0;34m\u001b[0m\u001b[0m\n\u001b[1;32m   1503\u001b[0m         \u001b[0mfull_backward_hooks\u001b[0m\u001b[0;34m,\u001b[0m \u001b[0mnon_full_backward_hooks\u001b[0m \u001b[0;34m=\u001b[0m \u001b[0;34m[\u001b[0m\u001b[0;34m]\u001b[0m\u001b[0;34m,\u001b[0m \u001b[0;34m[\u001b[0m\u001b[0;34m]\u001b[0m\u001b[0;34m\u001b[0m\u001b[0;34m\u001b[0m\u001b[0m\n",
            "\u001b[0;32m/usr/local/lib/python3.10/dist-packages/torchvision/transforms/transforms.py\u001b[0m in \u001b[0;36mforward\u001b[0;34m(self, img)\u001b[0m\n\u001b[1;32m    359\u001b[0m             \u001b[0mPIL\u001b[0m \u001b[0mImage\u001b[0m \u001b[0;32mor\u001b[0m \u001b[0mTensor\u001b[0m\u001b[0;34m:\u001b[0m \u001b[0mRescaled\u001b[0m \u001b[0mimage\u001b[0m\u001b[0;34m.\u001b[0m\u001b[0;34m\u001b[0m\u001b[0;34m\u001b[0m\u001b[0m\n\u001b[1;32m    360\u001b[0m         \"\"\"\n\u001b[0;32m--> 361\u001b[0;31m         \u001b[0;32mreturn\u001b[0m \u001b[0mF\u001b[0m\u001b[0;34m.\u001b[0m\u001b[0mresize\u001b[0m\u001b[0;34m(\u001b[0m\u001b[0mimg\u001b[0m\u001b[0;34m,\u001b[0m \u001b[0mself\u001b[0m\u001b[0;34m.\u001b[0m\u001b[0msize\u001b[0m\u001b[0;34m,\u001b[0m \u001b[0mself\u001b[0m\u001b[0;34m.\u001b[0m\u001b[0minterpolation\u001b[0m\u001b[0;34m,\u001b[0m \u001b[0mself\u001b[0m\u001b[0;34m.\u001b[0m\u001b[0mmax_size\u001b[0m\u001b[0;34m,\u001b[0m \u001b[0mself\u001b[0m\u001b[0;34m.\u001b[0m\u001b[0mantialias\u001b[0m\u001b[0;34m)\u001b[0m\u001b[0;34m\u001b[0m\u001b[0;34m\u001b[0m\u001b[0m\n\u001b[0m\u001b[1;32m    362\u001b[0m \u001b[0;34m\u001b[0m\u001b[0m\n\u001b[1;32m    363\u001b[0m     \u001b[0;32mdef\u001b[0m \u001b[0m__repr__\u001b[0m\u001b[0;34m(\u001b[0m\u001b[0mself\u001b[0m\u001b[0;34m)\u001b[0m \u001b[0;34m->\u001b[0m \u001b[0mstr\u001b[0m\u001b[0;34m:\u001b[0m\u001b[0;34m\u001b[0m\u001b[0;34m\u001b[0m\u001b[0m\n",
            "\u001b[0;32m/usr/local/lib/python3.10/dist-packages/torchvision/transforms/functional.py\u001b[0m in \u001b[0;36mresize\u001b[0;34m(img, size, interpolation, max_size, antialias)\u001b[0m\n\u001b[1;32m    490\u001b[0m         \u001b[0;32mreturn\u001b[0m \u001b[0mF_pil\u001b[0m\u001b[0;34m.\u001b[0m\u001b[0mresize\u001b[0m\u001b[0;34m(\u001b[0m\u001b[0mimg\u001b[0m\u001b[0;34m,\u001b[0m \u001b[0msize\u001b[0m\u001b[0;34m=\u001b[0m\u001b[0moutput_size\u001b[0m\u001b[0;34m,\u001b[0m \u001b[0minterpolation\u001b[0m\u001b[0;34m=\u001b[0m\u001b[0mpil_interpolation\u001b[0m\u001b[0;34m)\u001b[0m\u001b[0;34m\u001b[0m\u001b[0;34m\u001b[0m\u001b[0m\n\u001b[1;32m    491\u001b[0m \u001b[0;34m\u001b[0m\u001b[0m\n\u001b[0;32m--> 492\u001b[0;31m     \u001b[0;32mreturn\u001b[0m \u001b[0mF_t\u001b[0m\u001b[0;34m.\u001b[0m\u001b[0mresize\u001b[0m\u001b[0;34m(\u001b[0m\u001b[0mimg\u001b[0m\u001b[0;34m,\u001b[0m \u001b[0msize\u001b[0m\u001b[0;34m=\u001b[0m\u001b[0moutput_size\u001b[0m\u001b[0;34m,\u001b[0m \u001b[0minterpolation\u001b[0m\u001b[0;34m=\u001b[0m\u001b[0minterpolation\u001b[0m\u001b[0;34m.\u001b[0m\u001b[0mvalue\u001b[0m\u001b[0;34m,\u001b[0m \u001b[0mantialias\u001b[0m\u001b[0;34m=\u001b[0m\u001b[0mantialias\u001b[0m\u001b[0;34m)\u001b[0m\u001b[0;34m\u001b[0m\u001b[0;34m\u001b[0m\u001b[0m\n\u001b[0m\u001b[1;32m    493\u001b[0m \u001b[0;34m\u001b[0m\u001b[0m\n\u001b[1;32m    494\u001b[0m \u001b[0;34m\u001b[0m\u001b[0m\n",
            "\u001b[0;32m/usr/local/lib/python3.10/dist-packages/torchvision/transforms/_functional_tensor.py\u001b[0m in \u001b[0;36mresize\u001b[0;34m(img, size, interpolation, antialias)\u001b[0m\n\u001b[1;32m    465\u001b[0m     \u001b[0malign_corners\u001b[0m \u001b[0;34m=\u001b[0m \u001b[0;32mFalse\u001b[0m \u001b[0;32mif\u001b[0m \u001b[0minterpolation\u001b[0m \u001b[0;32min\u001b[0m \u001b[0;34m[\u001b[0m\u001b[0;34m\"bilinear\"\u001b[0m\u001b[0;34m,\u001b[0m \u001b[0;34m\"bicubic\"\u001b[0m\u001b[0;34m]\u001b[0m \u001b[0;32melse\u001b[0m \u001b[0;32mNone\u001b[0m\u001b[0;34m\u001b[0m\u001b[0;34m\u001b[0m\u001b[0m\n\u001b[1;32m    466\u001b[0m \u001b[0;34m\u001b[0m\u001b[0m\n\u001b[0;32m--> 467\u001b[0;31m     \u001b[0mimg\u001b[0m \u001b[0;34m=\u001b[0m \u001b[0minterpolate\u001b[0m\u001b[0;34m(\u001b[0m\u001b[0mimg\u001b[0m\u001b[0;34m,\u001b[0m \u001b[0msize\u001b[0m\u001b[0;34m=\u001b[0m\u001b[0msize\u001b[0m\u001b[0;34m,\u001b[0m \u001b[0mmode\u001b[0m\u001b[0;34m=\u001b[0m\u001b[0minterpolation\u001b[0m\u001b[0;34m,\u001b[0m \u001b[0malign_corners\u001b[0m\u001b[0;34m=\u001b[0m\u001b[0malign_corners\u001b[0m\u001b[0;34m,\u001b[0m \u001b[0mantialias\u001b[0m\u001b[0;34m=\u001b[0m\u001b[0mantialias\u001b[0m\u001b[0;34m)\u001b[0m\u001b[0;34m\u001b[0m\u001b[0;34m\u001b[0m\u001b[0m\n\u001b[0m\u001b[1;32m    468\u001b[0m \u001b[0;34m\u001b[0m\u001b[0m\n\u001b[1;32m    469\u001b[0m     \u001b[0;32mif\u001b[0m \u001b[0minterpolation\u001b[0m \u001b[0;34m==\u001b[0m \u001b[0;34m\"bicubic\"\u001b[0m \u001b[0;32mand\u001b[0m \u001b[0mout_dtype\u001b[0m \u001b[0;34m==\u001b[0m \u001b[0mtorch\u001b[0m\u001b[0;34m.\u001b[0m\u001b[0muint8\u001b[0m\u001b[0;34m:\u001b[0m\u001b[0;34m\u001b[0m\u001b[0;34m\u001b[0m\u001b[0m\n",
            "\u001b[0;32m/usr/local/lib/python3.10/dist-packages/torch/nn/functional.py\u001b[0m in \u001b[0;36minterpolate\u001b[0;34m(input, size, scale_factor, mode, align_corners, recompute_scale_factor, antialias)\u001b[0m\n\u001b[1;32m   3957\u001b[0m         \u001b[0;32mif\u001b[0m \u001b[0mantialias\u001b[0m\u001b[0;34m:\u001b[0m\u001b[0;34m\u001b[0m\u001b[0;34m\u001b[0m\u001b[0m\n\u001b[1;32m   3958\u001b[0m             \u001b[0;32mreturn\u001b[0m \u001b[0mtorch\u001b[0m\u001b[0;34m.\u001b[0m\u001b[0m_C\u001b[0m\u001b[0;34m.\u001b[0m\u001b[0m_nn\u001b[0m\u001b[0;34m.\u001b[0m\u001b[0m_upsample_bilinear2d_aa\u001b[0m\u001b[0;34m(\u001b[0m\u001b[0minput\u001b[0m\u001b[0;34m,\u001b[0m \u001b[0moutput_size\u001b[0m\u001b[0;34m,\u001b[0m \u001b[0malign_corners\u001b[0m\u001b[0;34m,\u001b[0m \u001b[0mscale_factors\u001b[0m\u001b[0;34m)\u001b[0m\u001b[0;34m\u001b[0m\u001b[0;34m\u001b[0m\u001b[0m\n\u001b[0;32m-> 3959\u001b[0;31m         \u001b[0;32mreturn\u001b[0m \u001b[0mtorch\u001b[0m\u001b[0;34m.\u001b[0m\u001b[0m_C\u001b[0m\u001b[0;34m.\u001b[0m\u001b[0m_nn\u001b[0m\u001b[0;34m.\u001b[0m\u001b[0mupsample_bilinear2d\u001b[0m\u001b[0;34m(\u001b[0m\u001b[0minput\u001b[0m\u001b[0;34m,\u001b[0m \u001b[0moutput_size\u001b[0m\u001b[0;34m,\u001b[0m \u001b[0malign_corners\u001b[0m\u001b[0;34m,\u001b[0m \u001b[0mscale_factors\u001b[0m\u001b[0;34m)\u001b[0m\u001b[0;34m\u001b[0m\u001b[0;34m\u001b[0m\u001b[0m\n\u001b[0m\u001b[1;32m   3960\u001b[0m     \u001b[0;32mif\u001b[0m \u001b[0minput\u001b[0m\u001b[0;34m.\u001b[0m\u001b[0mdim\u001b[0m\u001b[0;34m(\u001b[0m\u001b[0;34m)\u001b[0m \u001b[0;34m==\u001b[0m \u001b[0;36m5\u001b[0m \u001b[0;32mand\u001b[0m \u001b[0mmode\u001b[0m \u001b[0;34m==\u001b[0m \u001b[0;34m\"trilinear\"\u001b[0m\u001b[0;34m:\u001b[0m\u001b[0;34m\u001b[0m\u001b[0;34m\u001b[0m\u001b[0m\n\u001b[1;32m   3961\u001b[0m         \u001b[0;32massert\u001b[0m \u001b[0malign_corners\u001b[0m \u001b[0;32mis\u001b[0m \u001b[0;32mnot\u001b[0m \u001b[0;32mNone\u001b[0m\u001b[0;34m\u001b[0m\u001b[0;34m\u001b[0m\u001b[0m\n",
            "\u001b[0;31mRuntimeError\u001b[0m: Input and output sizes should be greater than 0, but got input (H: 146, W: 0) output (H: 224, W: 224)"
          ]
        }
      ]
    },
    {
      "cell_type": "code",
      "source": [],
      "metadata": {
        "id": "-QoC8GJrJWtB"
      },
      "execution_count": null,
      "outputs": []
    },
    {
      "cell_type": "code",
      "source": [],
      "metadata": {
        "id": "aHPiYoO9JWv4"
      },
      "execution_count": null,
      "outputs": []
    },
    {
      "cell_type": "code",
      "source": [],
      "metadata": {
        "id": "OkgHeToSJWzj"
      },
      "execution_count": null,
      "outputs": []
    },
    {
      "cell_type": "code",
      "source": [],
      "metadata": {
        "id": "kzs6sx3LJW1d"
      },
      "execution_count": null,
      "outputs": []
    },
    {
      "cell_type": "code",
      "source": [],
      "metadata": {
        "id": "wNTafkx3JW5N"
      },
      "execution_count": null,
      "outputs": []
    },
    {
      "cell_type": "code",
      "source": [],
      "metadata": {
        "id": "5fTkD5mWJW7-"
      },
      "execution_count": null,
      "outputs": []
    },
    {
      "cell_type": "code",
      "source": [],
      "metadata": {
        "id": "NLL9d1QzJW9-"
      },
      "execution_count": null,
      "outputs": []
    },
    {
      "cell_type": "code",
      "source": [
        "cropped_frame1=[]\n",
        "for i in range(10):\n",
        "  cropped_frames=[]\n",
        "  for j in range(len(frame2_path_all[i])):\n",
        "    ground_truth=np.array(list(map(float, bounding_box1_all[i][j].split(','))))\n",
        "    enlarged_bbox = ground_truth * 2  # Bounding box'u 2 kat büyütün\n",
        "    bbox_center = (ground_truth[0] + ground_truth[2] / 2, ground_truth[1] + ground_truth[3] / 2)  # Bounding box'un merkezini hesaplayın\n",
        "    bbox_size = (enlarged_bbox[2], enlarged_bbox[3])  # Bounding box'un boyutunu alın\n",
        "    x1 = int(bbox_center[0] - bbox_size[0] / 2)  # Bounding box'un sol üst köşesinin x koordinatını hesaplayın\n",
        "    y1 = int(bbox_center[1] - bbox_size[1] / 2)  # Bounding box'un sol üst köşesinin y koordinatını hesaplayın\n",
        "    x2 = int(bbox_center[0] + bbox_size[0] / 2)  # Bounding box'un sağ alt köşesinin x koordinatını hesaplayın\n",
        "    y2 = int(bbox_center[1] + bbox_size[1] / 2)  # Bounding box'un sağ alt köşesinin y koordinatını hesaplayın\n",
        "\n",
        "    cropped_frame = frame[y1:y2, x1:x2]\n",
        "    cropped_frames.append(cropped_frame)\n",
        "  print(len(cropped_frames))\n",
        "  cropped_frame1.append(cropped_frames)\n",
        "print(len(cropped_frame1))\n",
        "\n"
      ],
      "metadata": {
        "colab": {
          "base_uri": "https://localhost:8080/"
        },
        "id": "IUz5MtbIxDSi",
        "outputId": "85ecd662-be4e-4df2-88a2-d9de43e21c8c"
      },
      "execution_count": 42,
      "outputs": [
        {
          "output_type": "stream",
          "name": "stdout",
          "text": [
            "99\n",
            "99\n",
            "324\n",
            "310\n",
            "40\n",
            "170\n",
            "724\n",
            "338\n",
            "79\n",
            "349\n",
            "10\n"
          ]
        }
      ]
    },
    {
      "cell_type": "code",
      "source": [
        "import torch\n",
        "import torchvision.models as models\n",
        "import torchvision.transforms as transforms\n",
        "from PIL import Image\n",
        "import torch.nn as nn\n",
        "import torch.optim as optim\n",
        "\n",
        "# 1. Eğitim veri yükleyicisi oluşturma\n",
        "# TODO: Eğitim veri yükleyicisini hazırlayın\n",
        "\n",
        "# 2. Frame kırpması\n",
        "def crop_frame(frame, bbox):\n",
        "    x1 = int(bbox[0] - bbox[2] / 2)\n",
        "    y1 = int(bbox[1] - bbox[3] / 2)\n",
        "    x2 = int(bbox[0] + bbox[2] / 2)\n",
        "    y2 = int(bbox[1] + bbox[3] / 2)\n",
        "    return frame[y1:y2, x1:x2]\n",
        "\n",
        "# 3. Pre-trained ResNet-34 modelinin yüklenmesi\n",
        "model = models.resnet34(pretrained=True)\n",
        "model.eval()\n",
        "\n",
        "# 4. Özellik çıkarma\n",
        "def extract_features(image, model):\n",
        "    transform = transforms.Compose([\n",
        "        transforms.Resize(256),\n",
        "        transforms.CenterCrop(224),\n",
        "        transforms.ToTensor(),\n",
        "        transforms.Normalize(mean=[0.485, 0.456, 0.406], std=[0.229, 0.224, 0.225])\n",
        "    ])\n",
        "    input_tensor = transform(image)\n",
        "    input_batch = input_tensor.unsqueeze(0)\n",
        "    with torch.no_grad():\n",
        "        features = model(input_batch)\n",
        "    return features\n",
        "\n",
        "# 5. Özellik birleştirme\n",
        "class FeatureConcatenation(nn.Module):\n",
        "    def __init__(self):\n",
        "        super(FeatureConcatenation, self).__init__()\n",
        "\n",
        "    def forward(self, features1, features2):\n",
        "        return torch.cat((features1, features2), dim=1)\n",
        "\n",
        "# 6. Tam bağlantılı katmanlar ve kayıp fonksiyonu\n",
        "class BoundingBoxPrediction(nn.Module):\n",
        "    def __init__(self, input_size, hidden_size):\n",
        "        super(BoundingBoxPrediction, self).__init__()\n",
        "        self.fc1 = nn.Linear(input_size, hidden_size)\n",
        "        self.fc2 = nn.Linear(hidden_size, hidden_size)\n",
        "        self.fc3 = nn.Linear(hidden_size, 4)\n",
        "\n",
        "    def forward(self, x):\n",
        "        x = nn.ReLU()(self.fc1(x))\n",
        "        x = nn.ReLU()(self.fc2(x))\n",
        "        x = self.fc3(x)\n",
        "        return x\n",
        "\n",
        "# Hyperparametreler\n",
        "input_size = 2 * model.fc.in_features\n",
        "hidden_size = 512\n",
        "learning_rate = 0.001\n",
        "num_epochs = 10\n",
        "\n",
        "# Model oluşturma\n",
        "concatenation = FeatureConcatenation()\n",
        "bounding_box_prediction = BoundingBoxPrediction(input_size, hidden_size)\n",
        "\n",
        "# Optimizer ve kayıp fonksiyonu\n",
        "optimizer = optim.Adam(list(concatenation.parameters()) + list(bounding_box_prediction.parameters()), lr=learning_rate)\n",
        "criterion = nn.MSELoss()\n",
        "\n",
        "# Eğitim döngüsü\n",
        "for epoch in range(num_epochs):\n",
        "    for frames in dataloader:  # 1. adımda oluşturulan eğitim veri yükleyicisini kullanarak frame çiftlerini alın\n",
        "        t0, t1 = frames  # Örnek olarak sadece iki frame kullanıldı\n",
        "\n",
        "        # 2. Frame kırpması\n",
        "        cropped_frame1 = crop_frame(t0, padded_ground_truth_bbox)  # İlk frame'in kırpılması\n",
        "        cropped_frame2 = crop_frame(t1, search_region_bbox)  # İkinci frame'in kırpılması\n",
        "\n",
        "        # 3. Özellik çıkarma\n",
        "        features1 = extract_features(cropped_frame1, model)\n",
        "        features2 = extract_features(cropped_frame2, model)\n",
        "\n",
        "        # 4. Özellik birleştirme\n",
        "        concatenated_features = concatenation(features1, features2)\n",
        "\n",
        "        # 5. Tahmin ve kayıp hesaplama\n",
        "        predicted_bbox = bounding_box_prediction(concatenated_features)\n",
        "        loss = criterion(predicted_bbox, ground_truth_bbox)\n",
        "\n",
        "        # Geriye yayılım ve optimizasyon\n",
        "        optimizer.zero_grad()\n",
        "        loss.backward()\n",
        "        optimizer.step()\n",
        "\n",
        "    print(f\"Epoch: {epoch+1}, Loss: {loss.item()}\")\n",
        "\n",
        "# Eğitimi tamamladıktan sonra, modeliniz eğitilmiş olacak ve tahminler yapabilirsiniz.\n"
      ],
      "metadata": {
        "id": "GFI4EPGD6eV0"
      },
      "execution_count": null,
      "outputs": []
    },
    {
      "cell_type": "code",
      "source": [
        "import cv2\n",
        "\n",
        "frame1_cropped=[]\n",
        "print(len(bounding_box1_all))\n",
        "for frame1_path, bounding_box1 in zip(frame1_path_all, bounding_box1_all):\n",
        "\n",
        "  #print(frame1_path)\n",
        "  frame1_img=[]\n",
        "  for frame1_path_ , bounding_box1_ in zip(frame1_path, bounding_box1):\n",
        "     frame1= cv2.imread(frame1_path_)\n",
        "     #print(frame1)\n",
        "     #print(bounding_box1_)\n",
        "     x1, y1, w1, h1 = map(float, bounding_box1_.split(','))\n",
        "     frame_height, frame_width, _ = frame1.shape  # Kare boyutunu alın\n",
        "     center_x = x1 + w1 / 2  # Bounding box'un merkezinin x koordinatı\n",
        "     center_y = y1 + h1 / 2  # Bounding box'un merkezinin y koordinatı\n",
        "     enlarged_width = int(w1 * 2)  # Genişlik 2 kat büyütülecek\n",
        "     enlarged_height = int(h1 * 2)  # Yükseklik 2 kat büyütülecek\n",
        "     x_crop = int(center_x - enlarged_width / 2)  # Kırpma için sol üst köşenin x koordinatı\n",
        "     y_crop = int(center_y - enlarged_height / 2)  # Kırpma için sol üst köşenin y koordinatı\n",
        "\n",
        "     # Kırpma işlemini gerçekleştirin\n",
        "     cropped_frame = frame1[y_crop:y_crop + enlarged_height, x_crop:x_crop + enlarged_width]\n",
        "     frame1_img.append(cropped_frame)\n",
        "  frame1_cropped.append(frame1_img)\n",
        "  print(len(frame1_img))\n",
        "\n",
        "\n",
        "\n",
        "\n",
        "\n",
        "\n",
        "\n",
        "# İlk frame'i yükleyin\n",
        "#frame1 = cv2.imread(frame1_path)\n",
        "\n",
        "# Ground-truth sınırlayıcı kutudan koordinatları alın\n",
        "#x1, y1, w1, h1 = bounding_box1\n",
        "\n",
        "# Sınırlayıcı kutuyu 2 kat büyütün\n",
        "#x1 -= int(w1 / 2)\n",
        "#y1 -= int(h1 / 2)\n",
        "#w1 *= 2\n",
        "#h1 *= 2\n",
        "\n",
        "# Büyütülmüş sınırlayıcı kutuyla ilk frame'i kırpın\n",
        "#cropped_frame1 = frame1[y1:y1+h1, x1:x1+w1]\n"
      ],
      "metadata": {
        "colab": {
          "base_uri": "https://localhost:8080/",
          "height": 252
        },
        "id": "z4CleYXBqYdC",
        "outputId": "779974c2-f219-48fd-8f90-1754dd401635"
      },
      "execution_count": 15,
      "outputs": [
        {
          "output_type": "stream",
          "name": "stdout",
          "text": [
            "10\n"
          ]
        },
        {
          "output_type": "error",
          "ename": "TypeError",
          "evalue": "ignored",
          "traceback": [
            "\u001b[0;31m---------------------------------------------------------------------------\u001b[0m",
            "\u001b[0;31mTypeError\u001b[0m                                 Traceback (most recent call last)",
            "\u001b[0;32m<ipython-input-15-cf2e0ac02b7a>\u001b[0m in \u001b[0;36m<cell line: 5>\u001b[0;34m()\u001b[0m\n\u001b[1;32m      8\u001b[0m   \u001b[0mframe1_img\u001b[0m\u001b[0;34m=\u001b[0m\u001b[0;34m[\u001b[0m\u001b[0;34m]\u001b[0m\u001b[0;34m\u001b[0m\u001b[0;34m\u001b[0m\u001b[0m\n\u001b[1;32m      9\u001b[0m   \u001b[0;32mfor\u001b[0m \u001b[0mframe1_path_\u001b[0m \u001b[0;34m,\u001b[0m \u001b[0mbounding_box1_\u001b[0m \u001b[0;32min\u001b[0m \u001b[0mzip\u001b[0m\u001b[0;34m(\u001b[0m\u001b[0mframe1_path\u001b[0m\u001b[0;34m,\u001b[0m \u001b[0mbounding_box1\u001b[0m\u001b[0;34m)\u001b[0m\u001b[0;34m:\u001b[0m\u001b[0;34m\u001b[0m\u001b[0;34m\u001b[0m\u001b[0m\n\u001b[0;32m---> 10\u001b[0;31m      \u001b[0mframe1\u001b[0m\u001b[0;34m=\u001b[0m \u001b[0mcv2\u001b[0m\u001b[0;34m.\u001b[0m\u001b[0mimread\u001b[0m\u001b[0;34m(\u001b[0m\u001b[0mframe1_path_\u001b[0m\u001b[0;34m)\u001b[0m\u001b[0;34m\u001b[0m\u001b[0;34m\u001b[0m\u001b[0m\n\u001b[0m\u001b[1;32m     11\u001b[0m      \u001b[0;31m#print(frame1)\u001b[0m\u001b[0;34m\u001b[0m\u001b[0;34m\u001b[0m\u001b[0m\n\u001b[1;32m     12\u001b[0m      \u001b[0;31m#print(bounding_box1_)\u001b[0m\u001b[0;34m\u001b[0m\u001b[0;34m\u001b[0m\u001b[0m\n",
            "\u001b[0;31mTypeError\u001b[0m: Can't convert object to 'str' for 'filename'"
          ]
        }
      ]
    },
    {
      "cell_type": "code",
      "source": [
        "import cv2\n",
        "def read_img( path):\n",
        "  new_arr_img=[]\n",
        "  for img in path:\n",
        "    img_arr=cv2.imread(img)\n",
        "    new_arr_img.append(img_arr)\n",
        "\n",
        "  return new_arr_img\n",
        "\n"
      ],
      "metadata": {
        "id": "xNefIYBxLvlQ"
      },
      "execution_count": null,
      "outputs": []
    },
    {
      "cell_type": "code",
      "source": [
        "frame1_img_all=[]"
      ],
      "metadata": {
        "id": "0EwmsbNiKiRO"
      },
      "execution_count": null,
      "outputs": []
    },
    {
      "cell_type": "code",
      "source": [
        "import cv2\n",
        "\n",
        "for i in range(0,15):\n",
        "  print(frame1_path_all[i])\n",
        "  frame1_img_all.append(read_img(frame1_path))\n"
      ],
      "metadata": {
        "colab": {
          "base_uri": "https://localhost:8080/"
        },
        "id": "z5KaQmQM_nit",
        "outputId": "03f9cdaf-03b0-46c1-8326-d7e0050af693"
      },
      "execution_count": null,
      "outputs": [
        {
          "output_type": "stream",
          "name": "stdout",
          "text": [
            "['/content/drive/MyDrive/Colab Notebooks/Resit/sequences/agility/color/00000001.jpg', '/content/drive/MyDrive/Colab Notebooks/Resit/sequences/agility/color/00000002.jpg', '/content/drive/MyDrive/Colab Notebooks/Resit/sequences/agility/color/00000003.jpg', '/content/drive/MyDrive/Colab Notebooks/Resit/sequences/agility/color/00000004.jpg', '/content/drive/MyDrive/Colab Notebooks/Resit/sequences/agility/color/00000005.jpg', '/content/drive/MyDrive/Colab Notebooks/Resit/sequences/agility/color/00000006.jpg', '/content/drive/MyDrive/Colab Notebooks/Resit/sequences/agility/color/00000007.jpg', '/content/drive/MyDrive/Colab Notebooks/Resit/sequences/agility/color/00000008.jpg', '/content/drive/MyDrive/Colab Notebooks/Resit/sequences/agility/color/00000009.jpg', '/content/drive/MyDrive/Colab Notebooks/Resit/sequences/agility/color/00000010.jpg', '/content/drive/MyDrive/Colab Notebooks/Resit/sequences/agility/color/00000011.jpg', '/content/drive/MyDrive/Colab Notebooks/Resit/sequences/agility/color/00000012.jpg', '/content/drive/MyDrive/Colab Notebooks/Resit/sequences/agility/color/00000013.jpg', '/content/drive/MyDrive/Colab Notebooks/Resit/sequences/agility/color/00000014.jpg', '/content/drive/MyDrive/Colab Notebooks/Resit/sequences/agility/color/00000015.jpg', '/content/drive/MyDrive/Colab Notebooks/Resit/sequences/agility/color/00000016.jpg', '/content/drive/MyDrive/Colab Notebooks/Resit/sequences/agility/color/00000017.jpg', '/content/drive/MyDrive/Colab Notebooks/Resit/sequences/agility/color/00000018.jpg', '/content/drive/MyDrive/Colab Notebooks/Resit/sequences/agility/color/00000019.jpg', '/content/drive/MyDrive/Colab Notebooks/Resit/sequences/agility/color/00000020.jpg', '/content/drive/MyDrive/Colab Notebooks/Resit/sequences/agility/color/00000021.jpg', '/content/drive/MyDrive/Colab Notebooks/Resit/sequences/agility/color/00000022.jpg', '/content/drive/MyDrive/Colab Notebooks/Resit/sequences/agility/color/00000023.jpg', '/content/drive/MyDrive/Colab Notebooks/Resit/sequences/agility/color/00000024.jpg', '/content/drive/MyDrive/Colab Notebooks/Resit/sequences/agility/color/00000025.jpg', '/content/drive/MyDrive/Colab Notebooks/Resit/sequences/agility/color/00000026.jpg', '/content/drive/MyDrive/Colab Notebooks/Resit/sequences/agility/color/00000027.jpg', '/content/drive/MyDrive/Colab Notebooks/Resit/sequences/agility/color/00000028.jpg', '/content/drive/MyDrive/Colab Notebooks/Resit/sequences/agility/color/00000029.jpg', '/content/drive/MyDrive/Colab Notebooks/Resit/sequences/agility/color/00000030.jpg', '/content/drive/MyDrive/Colab Notebooks/Resit/sequences/agility/color/00000031.jpg', '/content/drive/MyDrive/Colab Notebooks/Resit/sequences/agility/color/00000032.jpg', '/content/drive/MyDrive/Colab Notebooks/Resit/sequences/agility/color/00000033.jpg', '/content/drive/MyDrive/Colab Notebooks/Resit/sequences/agility/color/00000034.jpg', '/content/drive/MyDrive/Colab Notebooks/Resit/sequences/agility/color/00000035.jpg', '/content/drive/MyDrive/Colab Notebooks/Resit/sequences/agility/color/00000036.jpg', '/content/drive/MyDrive/Colab Notebooks/Resit/sequences/agility/color/00000037.jpg', '/content/drive/MyDrive/Colab Notebooks/Resit/sequences/agility/color/00000038.jpg', '/content/drive/MyDrive/Colab Notebooks/Resit/sequences/agility/color/00000039.jpg', '/content/drive/MyDrive/Colab Notebooks/Resit/sequences/agility/color/00000040.jpg', '/content/drive/MyDrive/Colab Notebooks/Resit/sequences/agility/color/00000041.jpg', '/content/drive/MyDrive/Colab Notebooks/Resit/sequences/agility/color/00000042.jpg', '/content/drive/MyDrive/Colab Notebooks/Resit/sequences/agility/color/00000043.jpg', '/content/drive/MyDrive/Colab Notebooks/Resit/sequences/agility/color/00000044.jpg', '/content/drive/MyDrive/Colab Notebooks/Resit/sequences/agility/color/00000045.jpg', '/content/drive/MyDrive/Colab Notebooks/Resit/sequences/agility/color/00000046.jpg', '/content/drive/MyDrive/Colab Notebooks/Resit/sequences/agility/color/00000047.jpg', '/content/drive/MyDrive/Colab Notebooks/Resit/sequences/agility/color/00000048.jpg', '/content/drive/MyDrive/Colab Notebooks/Resit/sequences/agility/color/00000049.jpg', '/content/drive/MyDrive/Colab Notebooks/Resit/sequences/agility/color/00000050.jpg', '/content/drive/MyDrive/Colab Notebooks/Resit/sequences/agility/color/00000051.jpg', '/content/drive/MyDrive/Colab Notebooks/Resit/sequences/agility/color/00000052.jpg', '/content/drive/MyDrive/Colab Notebooks/Resit/sequences/agility/color/00000053.jpg', '/content/drive/MyDrive/Colab Notebooks/Resit/sequences/agility/color/00000054.jpg', '/content/drive/MyDrive/Colab Notebooks/Resit/sequences/agility/color/00000055.jpg', '/content/drive/MyDrive/Colab Notebooks/Resit/sequences/agility/color/00000056.jpg', '/content/drive/MyDrive/Colab Notebooks/Resit/sequences/agility/color/00000057.jpg', '/content/drive/MyDrive/Colab Notebooks/Resit/sequences/agility/color/00000058.jpg', '/content/drive/MyDrive/Colab Notebooks/Resit/sequences/agility/color/00000059.jpg', '/content/drive/MyDrive/Colab Notebooks/Resit/sequences/agility/color/00000060.jpg', '/content/drive/MyDrive/Colab Notebooks/Resit/sequences/agility/color/00000061.jpg', '/content/drive/MyDrive/Colab Notebooks/Resit/sequences/agility/color/00000062.jpg', '/content/drive/MyDrive/Colab Notebooks/Resit/sequences/agility/color/00000063.jpg', '/content/drive/MyDrive/Colab Notebooks/Resit/sequences/agility/color/00000064.jpg', '/content/drive/MyDrive/Colab Notebooks/Resit/sequences/agility/color/00000065.jpg', '/content/drive/MyDrive/Colab Notebooks/Resit/sequences/agility/color/00000066.jpg', '/content/drive/MyDrive/Colab Notebooks/Resit/sequences/agility/color/00000067.jpg', '/content/drive/MyDrive/Colab Notebooks/Resit/sequences/agility/color/00000068.jpg', '/content/drive/MyDrive/Colab Notebooks/Resit/sequences/agility/color/00000069.jpg', '/content/drive/MyDrive/Colab Notebooks/Resit/sequences/agility/color/00000070.jpg', '/content/drive/MyDrive/Colab Notebooks/Resit/sequences/agility/color/00000071.jpg', '/content/drive/MyDrive/Colab Notebooks/Resit/sequences/agility/color/00000072.jpg', '/content/drive/MyDrive/Colab Notebooks/Resit/sequences/agility/color/00000073.jpg', '/content/drive/MyDrive/Colab Notebooks/Resit/sequences/agility/color/00000074.jpg', '/content/drive/MyDrive/Colab Notebooks/Resit/sequences/agility/color/00000075.jpg', '/content/drive/MyDrive/Colab Notebooks/Resit/sequences/agility/color/00000076.jpg', '/content/drive/MyDrive/Colab Notebooks/Resit/sequences/agility/color/00000077.jpg', '/content/drive/MyDrive/Colab Notebooks/Resit/sequences/agility/color/00000078.jpg', '/content/drive/MyDrive/Colab Notebooks/Resit/sequences/agility/color/00000079.jpg', '/content/drive/MyDrive/Colab Notebooks/Resit/sequences/agility/color/00000080.jpg', '/content/drive/MyDrive/Colab Notebooks/Resit/sequences/agility/color/00000081.jpg', '/content/drive/MyDrive/Colab Notebooks/Resit/sequences/agility/color/00000082.jpg', '/content/drive/MyDrive/Colab Notebooks/Resit/sequences/agility/color/00000083.jpg', '/content/drive/MyDrive/Colab Notebooks/Resit/sequences/agility/color/00000084.jpg', '/content/drive/MyDrive/Colab Notebooks/Resit/sequences/agility/color/00000085.jpg', '/content/drive/MyDrive/Colab Notebooks/Resit/sequences/agility/color/00000086.jpg', '/content/drive/MyDrive/Colab Notebooks/Resit/sequences/agility/color/00000087.jpg', '/content/drive/MyDrive/Colab Notebooks/Resit/sequences/agility/color/00000088.jpg', '/content/drive/MyDrive/Colab Notebooks/Resit/sequences/agility/color/00000089.jpg', '/content/drive/MyDrive/Colab Notebooks/Resit/sequences/agility/color/00000090.jpg', '/content/drive/MyDrive/Colab Notebooks/Resit/sequences/agility/color/00000091.jpg', '/content/drive/MyDrive/Colab Notebooks/Resit/sequences/agility/color/00000092.jpg', '/content/drive/MyDrive/Colab Notebooks/Resit/sequences/agility/color/00000093.jpg', '/content/drive/MyDrive/Colab Notebooks/Resit/sequences/agility/color/00000094.jpg', '/content/drive/MyDrive/Colab Notebooks/Resit/sequences/agility/color/00000095.jpg', '/content/drive/MyDrive/Colab Notebooks/Resit/sequences/agility/color/00000096.jpg', '/content/drive/MyDrive/Colab Notebooks/Resit/sequences/agility/color/00000097.jpg', '/content/drive/MyDrive/Colab Notebooks/Resit/sequences/agility/color/00000098.jpg', '/content/drive/MyDrive/Colab Notebooks/Resit/sequences/agility/color/00000099.jpg']\n",
            "['/content/drive/MyDrive/Colab Notebooks/Resit/sequences/animal/color/00000001.jpg', '/content/drive/MyDrive/Colab Notebooks/Resit/sequences/animal/color/00000002.jpg', '/content/drive/MyDrive/Colab Notebooks/Resit/sequences/animal/color/00000003.jpg', '/content/drive/MyDrive/Colab Notebooks/Resit/sequences/animal/color/00000004.jpg', '/content/drive/MyDrive/Colab Notebooks/Resit/sequences/animal/color/00000005.jpg', '/content/drive/MyDrive/Colab Notebooks/Resit/sequences/animal/color/00000006.jpg', '/content/drive/MyDrive/Colab Notebooks/Resit/sequences/animal/color/00000007.jpg', '/content/drive/MyDrive/Colab Notebooks/Resit/sequences/animal/color/00000008.jpg', '/content/drive/MyDrive/Colab Notebooks/Resit/sequences/animal/color/00000009.jpg', '/content/drive/MyDrive/Colab Notebooks/Resit/sequences/animal/color/00000010.jpg', '/content/drive/MyDrive/Colab Notebooks/Resit/sequences/animal/color/00000011.jpg', '/content/drive/MyDrive/Colab Notebooks/Resit/sequences/animal/color/00000012.jpg', '/content/drive/MyDrive/Colab Notebooks/Resit/sequences/animal/color/00000013.jpg', '/content/drive/MyDrive/Colab Notebooks/Resit/sequences/animal/color/00000014.jpg', '/content/drive/MyDrive/Colab Notebooks/Resit/sequences/animal/color/00000015.jpg', '/content/drive/MyDrive/Colab Notebooks/Resit/sequences/animal/color/00000016.jpg', '/content/drive/MyDrive/Colab Notebooks/Resit/sequences/animal/color/00000017.jpg', '/content/drive/MyDrive/Colab Notebooks/Resit/sequences/animal/color/00000018.jpg', '/content/drive/MyDrive/Colab Notebooks/Resit/sequences/animal/color/00000019.jpg', '/content/drive/MyDrive/Colab Notebooks/Resit/sequences/animal/color/00000020.jpg', '/content/drive/MyDrive/Colab Notebooks/Resit/sequences/animal/color/00000021.jpg', '/content/drive/MyDrive/Colab Notebooks/Resit/sequences/animal/color/00000022.jpg', '/content/drive/MyDrive/Colab Notebooks/Resit/sequences/animal/color/00000023.jpg', '/content/drive/MyDrive/Colab Notebooks/Resit/sequences/animal/color/00000024.jpg', '/content/drive/MyDrive/Colab Notebooks/Resit/sequences/animal/color/00000025.jpg', '/content/drive/MyDrive/Colab Notebooks/Resit/sequences/animal/color/00000026.jpg', '/content/drive/MyDrive/Colab Notebooks/Resit/sequences/animal/color/00000027.jpg', '/content/drive/MyDrive/Colab Notebooks/Resit/sequences/animal/color/00000028.jpg', '/content/drive/MyDrive/Colab Notebooks/Resit/sequences/animal/color/00000029.jpg', '/content/drive/MyDrive/Colab Notebooks/Resit/sequences/animal/color/00000030.jpg', '/content/drive/MyDrive/Colab Notebooks/Resit/sequences/animal/color/00000031.jpg', '/content/drive/MyDrive/Colab Notebooks/Resit/sequences/animal/color/00000032.jpg', '/content/drive/MyDrive/Colab Notebooks/Resit/sequences/animal/color/00000033.jpg', '/content/drive/MyDrive/Colab Notebooks/Resit/sequences/animal/color/00000034.jpg', '/content/drive/MyDrive/Colab Notebooks/Resit/sequences/animal/color/00000035.jpg', '/content/drive/MyDrive/Colab Notebooks/Resit/sequences/animal/color/00000036.jpg', '/content/drive/MyDrive/Colab Notebooks/Resit/sequences/animal/color/00000037.jpg', '/content/drive/MyDrive/Colab Notebooks/Resit/sequences/animal/color/00000038.jpg', '/content/drive/MyDrive/Colab Notebooks/Resit/sequences/animal/color/00000039.jpg', '/content/drive/MyDrive/Colab Notebooks/Resit/sequences/animal/color/00000040.jpg', '/content/drive/MyDrive/Colab Notebooks/Resit/sequences/animal/color/00000041.jpg', '/content/drive/MyDrive/Colab Notebooks/Resit/sequences/animal/color/00000042.jpg', '/content/drive/MyDrive/Colab Notebooks/Resit/sequences/animal/color/00000043.jpg', '/content/drive/MyDrive/Colab Notebooks/Resit/sequences/animal/color/00000044.jpg', '/content/drive/MyDrive/Colab Notebooks/Resit/sequences/animal/color/00000045.jpg', '/content/drive/MyDrive/Colab Notebooks/Resit/sequences/animal/color/00000046.jpg', '/content/drive/MyDrive/Colab Notebooks/Resit/sequences/animal/color/00000047.jpg', '/content/drive/MyDrive/Colab Notebooks/Resit/sequences/animal/color/00000048.jpg', '/content/drive/MyDrive/Colab Notebooks/Resit/sequences/animal/color/00000049.jpg', '/content/drive/MyDrive/Colab Notebooks/Resit/sequences/animal/color/00000050.jpg', '/content/drive/MyDrive/Colab Notebooks/Resit/sequences/animal/color/00000051.jpg', '/content/drive/MyDrive/Colab Notebooks/Resit/sequences/animal/color/00000052.jpg', '/content/drive/MyDrive/Colab Notebooks/Resit/sequences/animal/color/00000053.jpg', '/content/drive/MyDrive/Colab Notebooks/Resit/sequences/animal/color/00000054.jpg', '/content/drive/MyDrive/Colab Notebooks/Resit/sequences/animal/color/00000055.jpg', '/content/drive/MyDrive/Colab Notebooks/Resit/sequences/animal/color/00000056.jpg', '/content/drive/MyDrive/Colab Notebooks/Resit/sequences/animal/color/00000057.jpg', '/content/drive/MyDrive/Colab Notebooks/Resit/sequences/animal/color/00000058.jpg', '/content/drive/MyDrive/Colab Notebooks/Resit/sequences/animal/color/00000059.jpg', '/content/drive/MyDrive/Colab Notebooks/Resit/sequences/animal/color/00000060.jpg', '/content/drive/MyDrive/Colab Notebooks/Resit/sequences/animal/color/00000061.jpg', '/content/drive/MyDrive/Colab Notebooks/Resit/sequences/animal/color/00000062.jpg', '/content/drive/MyDrive/Colab Notebooks/Resit/sequences/animal/color/00000063.jpg', '/content/drive/MyDrive/Colab Notebooks/Resit/sequences/animal/color/00000064.jpg', '/content/drive/MyDrive/Colab Notebooks/Resit/sequences/animal/color/00000065.jpg', '/content/drive/MyDrive/Colab Notebooks/Resit/sequences/animal/color/00000066.jpg', '/content/drive/MyDrive/Colab Notebooks/Resit/sequences/animal/color/00000067.jpg', '/content/drive/MyDrive/Colab Notebooks/Resit/sequences/animal/color/00000068.jpg', '/content/drive/MyDrive/Colab Notebooks/Resit/sequences/animal/color/00000069.jpg', '/content/drive/MyDrive/Colab Notebooks/Resit/sequences/animal/color/00000070.jpg', '/content/drive/MyDrive/Colab Notebooks/Resit/sequences/animal/color/00000071.jpg', '/content/drive/MyDrive/Colab Notebooks/Resit/sequences/animal/color/00000072.jpg', '/content/drive/MyDrive/Colab Notebooks/Resit/sequences/animal/color/00000073.jpg', '/content/drive/MyDrive/Colab Notebooks/Resit/sequences/animal/color/00000074.jpg', '/content/drive/MyDrive/Colab Notebooks/Resit/sequences/animal/color/00000075.jpg', '/content/drive/MyDrive/Colab Notebooks/Resit/sequences/animal/color/00000076.jpg', '/content/drive/MyDrive/Colab Notebooks/Resit/sequences/animal/color/00000077.jpg', '/content/drive/MyDrive/Colab Notebooks/Resit/sequences/animal/color/00000078.jpg', '/content/drive/MyDrive/Colab Notebooks/Resit/sequences/animal/color/00000079.jpg', '/content/drive/MyDrive/Colab Notebooks/Resit/sequences/animal/color/00000080.jpg', '/content/drive/MyDrive/Colab Notebooks/Resit/sequences/animal/color/00000081.jpg', '/content/drive/MyDrive/Colab Notebooks/Resit/sequences/animal/color/00000082.jpg', '/content/drive/MyDrive/Colab Notebooks/Resit/sequences/animal/color/00000083.jpg', '/content/drive/MyDrive/Colab Notebooks/Resit/sequences/animal/color/00000084.jpg', '/content/drive/MyDrive/Colab Notebooks/Resit/sequences/animal/color/00000085.jpg', '/content/drive/MyDrive/Colab Notebooks/Resit/sequences/animal/color/00000086.jpg', '/content/drive/MyDrive/Colab Notebooks/Resit/sequences/animal/color/00000087.jpg', '/content/drive/MyDrive/Colab Notebooks/Resit/sequences/animal/color/00000088.jpg', '/content/drive/MyDrive/Colab Notebooks/Resit/sequences/animal/color/00000089.jpg', '/content/drive/MyDrive/Colab Notebooks/Resit/sequences/animal/color/00000090.jpg', '/content/drive/MyDrive/Colab Notebooks/Resit/sequences/animal/color/00000091.jpg', '/content/drive/MyDrive/Colab Notebooks/Resit/sequences/animal/color/00000092.jpg', '/content/drive/MyDrive/Colab Notebooks/Resit/sequences/animal/color/00000093.jpg', '/content/drive/MyDrive/Colab Notebooks/Resit/sequences/animal/color/00000094.jpg', '/content/drive/MyDrive/Colab Notebooks/Resit/sequences/animal/color/00000095.jpg', '/content/drive/MyDrive/Colab Notebooks/Resit/sequences/animal/color/00000096.jpg', '/content/drive/MyDrive/Colab Notebooks/Resit/sequences/animal/color/00000097.jpg', '/content/drive/MyDrive/Colab Notebooks/Resit/sequences/animal/color/00000098.jpg', '/content/drive/MyDrive/Colab Notebooks/Resit/sequences/animal/color/00000099.jpg']\n",
            "['/content/drive/MyDrive/Colab Notebooks/Resit/sequences/ants1/color/00000001.jpg', '/content/drive/MyDrive/Colab Notebooks/Resit/sequences/ants1/color/00000002.jpg', '/content/drive/MyDrive/Colab Notebooks/Resit/sequences/ants1/color/00000003.jpg', '/content/drive/MyDrive/Colab Notebooks/Resit/sequences/ants1/color/00000004.jpg', '/content/drive/MyDrive/Colab Notebooks/Resit/sequences/ants1/color/00000005.jpg', '/content/drive/MyDrive/Colab Notebooks/Resit/sequences/ants1/color/00000006.jpg', '/content/drive/MyDrive/Colab Notebooks/Resit/sequences/ants1/color/00000007.jpg', '/content/drive/MyDrive/Colab Notebooks/Resit/sequences/ants1/color/00000008.jpg', '/content/drive/MyDrive/Colab Notebooks/Resit/sequences/ants1/color/00000009.jpg', '/content/drive/MyDrive/Colab Notebooks/Resit/sequences/ants1/color/00000010.jpg', '/content/drive/MyDrive/Colab Notebooks/Resit/sequences/ants1/color/00000011.jpg', '/content/drive/MyDrive/Colab Notebooks/Resit/sequences/ants1/color/00000012.jpg', '/content/drive/MyDrive/Colab Notebooks/Resit/sequences/ants1/color/00000013.jpg', '/content/drive/MyDrive/Colab Notebooks/Resit/sequences/ants1/color/00000014.jpg', '/content/drive/MyDrive/Colab Notebooks/Resit/sequences/ants1/color/00000015.jpg', '/content/drive/MyDrive/Colab Notebooks/Resit/sequences/ants1/color/00000016.jpg', '/content/drive/MyDrive/Colab Notebooks/Resit/sequences/ants1/color/00000017.jpg', '/content/drive/MyDrive/Colab Notebooks/Resit/sequences/ants1/color/00000018.jpg', '/content/drive/MyDrive/Colab Notebooks/Resit/sequences/ants1/color/00000019.jpg', '/content/drive/MyDrive/Colab Notebooks/Resit/sequences/ants1/color/00000020.jpg', '/content/drive/MyDrive/Colab Notebooks/Resit/sequences/ants1/color/00000021.jpg', '/content/drive/MyDrive/Colab Notebooks/Resit/sequences/ants1/color/00000022.jpg', '/content/drive/MyDrive/Colab Notebooks/Resit/sequences/ants1/color/00000023.jpg', '/content/drive/MyDrive/Colab Notebooks/Resit/sequences/ants1/color/00000024.jpg', '/content/drive/MyDrive/Colab Notebooks/Resit/sequences/ants1/color/00000025.jpg', '/content/drive/MyDrive/Colab Notebooks/Resit/sequences/ants1/color/00000026.jpg', '/content/drive/MyDrive/Colab Notebooks/Resit/sequences/ants1/color/00000027.jpg', '/content/drive/MyDrive/Colab Notebooks/Resit/sequences/ants1/color/00000028.jpg', '/content/drive/MyDrive/Colab Notebooks/Resit/sequences/ants1/color/00000029.jpg', '/content/drive/MyDrive/Colab Notebooks/Resit/sequences/ants1/color/00000030.jpg', '/content/drive/MyDrive/Colab Notebooks/Resit/sequences/ants1/color/00000031.jpg', '/content/drive/MyDrive/Colab Notebooks/Resit/sequences/ants1/color/00000032.jpg', '/content/drive/MyDrive/Colab Notebooks/Resit/sequences/ants1/color/00000033.jpg', '/content/drive/MyDrive/Colab Notebooks/Resit/sequences/ants1/color/00000034.jpg', '/content/drive/MyDrive/Colab Notebooks/Resit/sequences/ants1/color/00000035.jpg', '/content/drive/MyDrive/Colab Notebooks/Resit/sequences/ants1/color/00000036.jpg', '/content/drive/MyDrive/Colab Notebooks/Resit/sequences/ants1/color/00000037.jpg', '/content/drive/MyDrive/Colab Notebooks/Resit/sequences/ants1/color/00000038.jpg', '/content/drive/MyDrive/Colab Notebooks/Resit/sequences/ants1/color/00000039.jpg', '/content/drive/MyDrive/Colab Notebooks/Resit/sequences/ants1/color/00000040.jpg', '/content/drive/MyDrive/Colab Notebooks/Resit/sequences/ants1/color/00000041.jpg', '/content/drive/MyDrive/Colab Notebooks/Resit/sequences/ants1/color/00000042.jpg', '/content/drive/MyDrive/Colab Notebooks/Resit/sequences/ants1/color/00000043.jpg', '/content/drive/MyDrive/Colab Notebooks/Resit/sequences/ants1/color/00000044.jpg', '/content/drive/MyDrive/Colab Notebooks/Resit/sequences/ants1/color/00000045.jpg', '/content/drive/MyDrive/Colab Notebooks/Resit/sequences/ants1/color/00000046.jpg', '/content/drive/MyDrive/Colab Notebooks/Resit/sequences/ants1/color/00000047.jpg', '/content/drive/MyDrive/Colab Notebooks/Resit/sequences/ants1/color/00000048.jpg', '/content/drive/MyDrive/Colab Notebooks/Resit/sequences/ants1/color/00000049.jpg', '/content/drive/MyDrive/Colab Notebooks/Resit/sequences/ants1/color/00000050.jpg', '/content/drive/MyDrive/Colab Notebooks/Resit/sequences/ants1/color/00000051.jpg', '/content/drive/MyDrive/Colab Notebooks/Resit/sequences/ants1/color/00000052.jpg', '/content/drive/MyDrive/Colab Notebooks/Resit/sequences/ants1/color/00000053.jpg', '/content/drive/MyDrive/Colab Notebooks/Resit/sequences/ants1/color/00000054.jpg', '/content/drive/MyDrive/Colab Notebooks/Resit/sequences/ants1/color/00000055.jpg', '/content/drive/MyDrive/Colab Notebooks/Resit/sequences/ants1/color/00000056.jpg', '/content/drive/MyDrive/Colab Notebooks/Resit/sequences/ants1/color/00000057.jpg', '/content/drive/MyDrive/Colab Notebooks/Resit/sequences/ants1/color/00000058.jpg', '/content/drive/MyDrive/Colab Notebooks/Resit/sequences/ants1/color/00000059.jpg', '/content/drive/MyDrive/Colab Notebooks/Resit/sequences/ants1/color/00000060.jpg', '/content/drive/MyDrive/Colab Notebooks/Resit/sequences/ants1/color/00000061.jpg', '/content/drive/MyDrive/Colab Notebooks/Resit/sequences/ants1/color/00000062.jpg', '/content/drive/MyDrive/Colab Notebooks/Resit/sequences/ants1/color/00000063.jpg', '/content/drive/MyDrive/Colab Notebooks/Resit/sequences/ants1/color/00000064.jpg', '/content/drive/MyDrive/Colab Notebooks/Resit/sequences/ants1/color/00000065.jpg', '/content/drive/MyDrive/Colab Notebooks/Resit/sequences/ants1/color/00000066.jpg', '/content/drive/MyDrive/Colab Notebooks/Resit/sequences/ants1/color/00000067.jpg', '/content/drive/MyDrive/Colab Notebooks/Resit/sequences/ants1/color/00000068.jpg', '/content/drive/MyDrive/Colab Notebooks/Resit/sequences/ants1/color/00000069.jpg', '/content/drive/MyDrive/Colab Notebooks/Resit/sequences/ants1/color/00000070.jpg', '/content/drive/MyDrive/Colab Notebooks/Resit/sequences/ants1/color/00000071.jpg', '/content/drive/MyDrive/Colab Notebooks/Resit/sequences/ants1/color/00000072.jpg', '/content/drive/MyDrive/Colab Notebooks/Resit/sequences/ants1/color/00000073.jpg', '/content/drive/MyDrive/Colab Notebooks/Resit/sequences/ants1/color/00000074.jpg', '/content/drive/MyDrive/Colab Notebooks/Resit/sequences/ants1/color/00000075.jpg', '/content/drive/MyDrive/Colab Notebooks/Resit/sequences/ants1/color/00000076.jpg', '/content/drive/MyDrive/Colab Notebooks/Resit/sequences/ants1/color/00000077.jpg', '/content/drive/MyDrive/Colab Notebooks/Resit/sequences/ants1/color/00000078.jpg', '/content/drive/MyDrive/Colab Notebooks/Resit/sequences/ants1/color/00000079.jpg', '/content/drive/MyDrive/Colab Notebooks/Resit/sequences/ants1/color/00000080.jpg', '/content/drive/MyDrive/Colab Notebooks/Resit/sequences/ants1/color/00000081.jpg', '/content/drive/MyDrive/Colab Notebooks/Resit/sequences/ants1/color/00000082.jpg', '/content/drive/MyDrive/Colab Notebooks/Resit/sequences/ants1/color/00000083.jpg', '/content/drive/MyDrive/Colab Notebooks/Resit/sequences/ants1/color/00000084.jpg', '/content/drive/MyDrive/Colab Notebooks/Resit/sequences/ants1/color/00000085.jpg', '/content/drive/MyDrive/Colab Notebooks/Resit/sequences/ants1/color/00000086.jpg', '/content/drive/MyDrive/Colab Notebooks/Resit/sequences/ants1/color/00000087.jpg', '/content/drive/MyDrive/Colab Notebooks/Resit/sequences/ants1/color/00000088.jpg', '/content/drive/MyDrive/Colab Notebooks/Resit/sequences/ants1/color/00000089.jpg', '/content/drive/MyDrive/Colab Notebooks/Resit/sequences/ants1/color/00000090.jpg', '/content/drive/MyDrive/Colab Notebooks/Resit/sequences/ants1/color/00000091.jpg', '/content/drive/MyDrive/Colab Notebooks/Resit/sequences/ants1/color/00000092.jpg', '/content/drive/MyDrive/Colab Notebooks/Resit/sequences/ants1/color/00000093.jpg', '/content/drive/MyDrive/Colab Notebooks/Resit/sequences/ants1/color/00000094.jpg', '/content/drive/MyDrive/Colab Notebooks/Resit/sequences/ants1/color/00000095.jpg', '/content/drive/MyDrive/Colab Notebooks/Resit/sequences/ants1/color/00000096.jpg', '/content/drive/MyDrive/Colab Notebooks/Resit/sequences/ants1/color/00000097.jpg', '/content/drive/MyDrive/Colab Notebooks/Resit/sequences/ants1/color/00000098.jpg', '/content/drive/MyDrive/Colab Notebooks/Resit/sequences/ants1/color/00000099.jpg', '/content/drive/MyDrive/Colab Notebooks/Resit/sequences/ants1/color/00000100.jpg', '/content/drive/MyDrive/Colab Notebooks/Resit/sequences/ants1/color/00000101.jpg', '/content/drive/MyDrive/Colab Notebooks/Resit/sequences/ants1/color/00000102.jpg', '/content/drive/MyDrive/Colab Notebooks/Resit/sequences/ants1/color/00000103.jpg', '/content/drive/MyDrive/Colab Notebooks/Resit/sequences/ants1/color/00000104.jpg', '/content/drive/MyDrive/Colab Notebooks/Resit/sequences/ants1/color/00000105.jpg', '/content/drive/MyDrive/Colab Notebooks/Resit/sequences/ants1/color/00000106.jpg', '/content/drive/MyDrive/Colab Notebooks/Resit/sequences/ants1/color/00000107.jpg', '/content/drive/MyDrive/Colab Notebooks/Resit/sequences/ants1/color/00000108.jpg', '/content/drive/MyDrive/Colab Notebooks/Resit/sequences/ants1/color/00000109.jpg', '/content/drive/MyDrive/Colab Notebooks/Resit/sequences/ants1/color/00000110.jpg', '/content/drive/MyDrive/Colab Notebooks/Resit/sequences/ants1/color/00000111.jpg', '/content/drive/MyDrive/Colab Notebooks/Resit/sequences/ants1/color/00000112.jpg', '/content/drive/MyDrive/Colab Notebooks/Resit/sequences/ants1/color/00000113.jpg', '/content/drive/MyDrive/Colab Notebooks/Resit/sequences/ants1/color/00000114.jpg', '/content/drive/MyDrive/Colab Notebooks/Resit/sequences/ants1/color/00000115.jpg', '/content/drive/MyDrive/Colab Notebooks/Resit/sequences/ants1/color/00000116.jpg', '/content/drive/MyDrive/Colab Notebooks/Resit/sequences/ants1/color/00000117.jpg', '/content/drive/MyDrive/Colab Notebooks/Resit/sequences/ants1/color/00000118.jpg', '/content/drive/MyDrive/Colab Notebooks/Resit/sequences/ants1/color/00000119.jpg', '/content/drive/MyDrive/Colab Notebooks/Resit/sequences/ants1/color/00000120.jpg', '/content/drive/MyDrive/Colab Notebooks/Resit/sequences/ants1/color/00000121.jpg', '/content/drive/MyDrive/Colab Notebooks/Resit/sequences/ants1/color/00000122.jpg', '/content/drive/MyDrive/Colab Notebooks/Resit/sequences/ants1/color/00000123.jpg', '/content/drive/MyDrive/Colab Notebooks/Resit/sequences/ants1/color/00000124.jpg', '/content/drive/MyDrive/Colab Notebooks/Resit/sequences/ants1/color/00000125.jpg', '/content/drive/MyDrive/Colab Notebooks/Resit/sequences/ants1/color/00000126.jpg', '/content/drive/MyDrive/Colab Notebooks/Resit/sequences/ants1/color/00000127.jpg', '/content/drive/MyDrive/Colab Notebooks/Resit/sequences/ants1/color/00000128.jpg', '/content/drive/MyDrive/Colab Notebooks/Resit/sequences/ants1/color/00000129.jpg', '/content/drive/MyDrive/Colab Notebooks/Resit/sequences/ants1/color/00000130.jpg', '/content/drive/MyDrive/Colab Notebooks/Resit/sequences/ants1/color/00000131.jpg', '/content/drive/MyDrive/Colab Notebooks/Resit/sequences/ants1/color/00000132.jpg', '/content/drive/MyDrive/Colab Notebooks/Resit/sequences/ants1/color/00000133.jpg', '/content/drive/MyDrive/Colab Notebooks/Resit/sequences/ants1/color/00000134.jpg', '/content/drive/MyDrive/Colab Notebooks/Resit/sequences/ants1/color/00000135.jpg', '/content/drive/MyDrive/Colab Notebooks/Resit/sequences/ants1/color/00000136.jpg', '/content/drive/MyDrive/Colab Notebooks/Resit/sequences/ants1/color/00000137.jpg', '/content/drive/MyDrive/Colab Notebooks/Resit/sequences/ants1/color/00000138.jpg', '/content/drive/MyDrive/Colab Notebooks/Resit/sequences/ants1/color/00000139.jpg', '/content/drive/MyDrive/Colab Notebooks/Resit/sequences/ants1/color/00000140.jpg', '/content/drive/MyDrive/Colab Notebooks/Resit/sequences/ants1/color/00000141.jpg', '/content/drive/MyDrive/Colab Notebooks/Resit/sequences/ants1/color/00000142.jpg', '/content/drive/MyDrive/Colab Notebooks/Resit/sequences/ants1/color/00000143.jpg', '/content/drive/MyDrive/Colab Notebooks/Resit/sequences/ants1/color/00000144.jpg', '/content/drive/MyDrive/Colab Notebooks/Resit/sequences/ants1/color/00000145.jpg', '/content/drive/MyDrive/Colab Notebooks/Resit/sequences/ants1/color/00000146.jpg', '/content/drive/MyDrive/Colab Notebooks/Resit/sequences/ants1/color/00000147.jpg', '/content/drive/MyDrive/Colab Notebooks/Resit/sequences/ants1/color/00000148.jpg', '/content/drive/MyDrive/Colab Notebooks/Resit/sequences/ants1/color/00000149.jpg', '/content/drive/MyDrive/Colab Notebooks/Resit/sequences/ants1/color/00000150.jpg', '/content/drive/MyDrive/Colab Notebooks/Resit/sequences/ants1/color/00000151.jpg', '/content/drive/MyDrive/Colab Notebooks/Resit/sequences/ants1/color/00000152.jpg', '/content/drive/MyDrive/Colab Notebooks/Resit/sequences/ants1/color/00000153.jpg', '/content/drive/MyDrive/Colab Notebooks/Resit/sequences/ants1/color/00000154.jpg', '/content/drive/MyDrive/Colab Notebooks/Resit/sequences/ants1/color/00000155.jpg', '/content/drive/MyDrive/Colab Notebooks/Resit/sequences/ants1/color/00000156.jpg', '/content/drive/MyDrive/Colab Notebooks/Resit/sequences/ants1/color/00000157.jpg', '/content/drive/MyDrive/Colab Notebooks/Resit/sequences/ants1/color/00000158.jpg', '/content/drive/MyDrive/Colab Notebooks/Resit/sequences/ants1/color/00000159.jpg', '/content/drive/MyDrive/Colab Notebooks/Resit/sequences/ants1/color/00000160.jpg', '/content/drive/MyDrive/Colab Notebooks/Resit/sequences/ants1/color/00000161.jpg', '/content/drive/MyDrive/Colab Notebooks/Resit/sequences/ants1/color/00000162.jpg', '/content/drive/MyDrive/Colab Notebooks/Resit/sequences/ants1/color/00000163.jpg', '/content/drive/MyDrive/Colab Notebooks/Resit/sequences/ants1/color/00000164.jpg', '/content/drive/MyDrive/Colab Notebooks/Resit/sequences/ants1/color/00000165.jpg', '/content/drive/MyDrive/Colab Notebooks/Resit/sequences/ants1/color/00000166.jpg', '/content/drive/MyDrive/Colab Notebooks/Resit/sequences/ants1/color/00000167.jpg', '/content/drive/MyDrive/Colab Notebooks/Resit/sequences/ants1/color/00000168.jpg', '/content/drive/MyDrive/Colab Notebooks/Resit/sequences/ants1/color/00000169.jpg', '/content/drive/MyDrive/Colab Notebooks/Resit/sequences/ants1/color/00000170.jpg', '/content/drive/MyDrive/Colab Notebooks/Resit/sequences/ants1/color/00000171.jpg', '/content/drive/MyDrive/Colab Notebooks/Resit/sequences/ants1/color/00000172.jpg', '/content/drive/MyDrive/Colab Notebooks/Resit/sequences/ants1/color/00000173.jpg', '/content/drive/MyDrive/Colab Notebooks/Resit/sequences/ants1/color/00000174.jpg', '/content/drive/MyDrive/Colab Notebooks/Resit/sequences/ants1/color/00000175.jpg', '/content/drive/MyDrive/Colab Notebooks/Resit/sequences/ants1/color/00000176.jpg', '/content/drive/MyDrive/Colab Notebooks/Resit/sequences/ants1/color/00000177.jpg', '/content/drive/MyDrive/Colab Notebooks/Resit/sequences/ants1/color/00000178.jpg', '/content/drive/MyDrive/Colab Notebooks/Resit/sequences/ants1/color/00000179.jpg', '/content/drive/MyDrive/Colab Notebooks/Resit/sequences/ants1/color/00000180.jpg', '/content/drive/MyDrive/Colab Notebooks/Resit/sequences/ants1/color/00000181.jpg', '/content/drive/MyDrive/Colab Notebooks/Resit/sequences/ants1/color/00000182.jpg', '/content/drive/MyDrive/Colab Notebooks/Resit/sequences/ants1/color/00000183.jpg', '/content/drive/MyDrive/Colab Notebooks/Resit/sequences/ants1/color/00000184.jpg', '/content/drive/MyDrive/Colab Notebooks/Resit/sequences/ants1/color/00000185.jpg', '/content/drive/MyDrive/Colab Notebooks/Resit/sequences/ants1/color/00000186.jpg', '/content/drive/MyDrive/Colab Notebooks/Resit/sequences/ants1/color/00000187.jpg', '/content/drive/MyDrive/Colab Notebooks/Resit/sequences/ants1/color/00000188.jpg', '/content/drive/MyDrive/Colab Notebooks/Resit/sequences/ants1/color/00000189.jpg', '/content/drive/MyDrive/Colab Notebooks/Resit/sequences/ants1/color/00000190.jpg', '/content/drive/MyDrive/Colab Notebooks/Resit/sequences/ants1/color/00000191.jpg', '/content/drive/MyDrive/Colab Notebooks/Resit/sequences/ants1/color/00000192.jpg', '/content/drive/MyDrive/Colab Notebooks/Resit/sequences/ants1/color/00000193.jpg', '/content/drive/MyDrive/Colab Notebooks/Resit/sequences/ants1/color/00000194.jpg', '/content/drive/MyDrive/Colab Notebooks/Resit/sequences/ants1/color/00000195.jpg', '/content/drive/MyDrive/Colab Notebooks/Resit/sequences/ants1/color/00000196.jpg', '/content/drive/MyDrive/Colab Notebooks/Resit/sequences/ants1/color/00000197.jpg', '/content/drive/MyDrive/Colab Notebooks/Resit/sequences/ants1/color/00000198.jpg', '/content/drive/MyDrive/Colab Notebooks/Resit/sequences/ants1/color/00000199.jpg', '/content/drive/MyDrive/Colab Notebooks/Resit/sequences/ants1/color/00000200.jpg', '/content/drive/MyDrive/Colab Notebooks/Resit/sequences/ants1/color/00000201.jpg', '/content/drive/MyDrive/Colab Notebooks/Resit/sequences/ants1/color/00000202.jpg', '/content/drive/MyDrive/Colab Notebooks/Resit/sequences/ants1/color/00000203.jpg', '/content/drive/MyDrive/Colab Notebooks/Resit/sequences/ants1/color/00000204.jpg', '/content/drive/MyDrive/Colab Notebooks/Resit/sequences/ants1/color/00000205.jpg', '/content/drive/MyDrive/Colab Notebooks/Resit/sequences/ants1/color/00000206.jpg', '/content/drive/MyDrive/Colab Notebooks/Resit/sequences/ants1/color/00000207.jpg', '/content/drive/MyDrive/Colab Notebooks/Resit/sequences/ants1/color/00000208.jpg', '/content/drive/MyDrive/Colab Notebooks/Resit/sequences/ants1/color/00000209.jpg', '/content/drive/MyDrive/Colab Notebooks/Resit/sequences/ants1/color/00000210.jpg', '/content/drive/MyDrive/Colab Notebooks/Resit/sequences/ants1/color/00000211.jpg', '/content/drive/MyDrive/Colab Notebooks/Resit/sequences/ants1/color/00000212.jpg', '/content/drive/MyDrive/Colab Notebooks/Resit/sequences/ants1/color/00000213.jpg', '/content/drive/MyDrive/Colab Notebooks/Resit/sequences/ants1/color/00000214.jpg', '/content/drive/MyDrive/Colab Notebooks/Resit/sequences/ants1/color/00000215.jpg', '/content/drive/MyDrive/Colab Notebooks/Resit/sequences/ants1/color/00000216.jpg', '/content/drive/MyDrive/Colab Notebooks/Resit/sequences/ants1/color/00000217.jpg', '/content/drive/MyDrive/Colab Notebooks/Resit/sequences/ants1/color/00000218.jpg', '/content/drive/MyDrive/Colab Notebooks/Resit/sequences/ants1/color/00000219.jpg', '/content/drive/MyDrive/Colab Notebooks/Resit/sequences/ants1/color/00000220.jpg', '/content/drive/MyDrive/Colab Notebooks/Resit/sequences/ants1/color/00000221.jpg', '/content/drive/MyDrive/Colab Notebooks/Resit/sequences/ants1/color/00000222.jpg', '/content/drive/MyDrive/Colab Notebooks/Resit/sequences/ants1/color/00000223.jpg', '/content/drive/MyDrive/Colab Notebooks/Resit/sequences/ants1/color/00000224.jpg', '/content/drive/MyDrive/Colab Notebooks/Resit/sequences/ants1/color/00000225.jpg', '/content/drive/MyDrive/Colab Notebooks/Resit/sequences/ants1/color/00000226.jpg', '/content/drive/MyDrive/Colab Notebooks/Resit/sequences/ants1/color/00000227.jpg', '/content/drive/MyDrive/Colab Notebooks/Resit/sequences/ants1/color/00000228.jpg', '/content/drive/MyDrive/Colab Notebooks/Resit/sequences/ants1/color/00000229.jpg', '/content/drive/MyDrive/Colab Notebooks/Resit/sequences/ants1/color/00000230.jpg', '/content/drive/MyDrive/Colab Notebooks/Resit/sequences/ants1/color/00000231.jpg', '/content/drive/MyDrive/Colab Notebooks/Resit/sequences/ants1/color/00000232.jpg', '/content/drive/MyDrive/Colab Notebooks/Resit/sequences/ants1/color/00000233.jpg', '/content/drive/MyDrive/Colab Notebooks/Resit/sequences/ants1/color/00000234.jpg', '/content/drive/MyDrive/Colab Notebooks/Resit/sequences/ants1/color/00000235.jpg', '/content/drive/MyDrive/Colab Notebooks/Resit/sequences/ants1/color/00000236.jpg', '/content/drive/MyDrive/Colab Notebooks/Resit/sequences/ants1/color/00000237.jpg', '/content/drive/MyDrive/Colab Notebooks/Resit/sequences/ants1/color/00000238.jpg', '/content/drive/MyDrive/Colab Notebooks/Resit/sequences/ants1/color/00000239.jpg', '/content/drive/MyDrive/Colab Notebooks/Resit/sequences/ants1/color/00000240.jpg', '/content/drive/MyDrive/Colab Notebooks/Resit/sequences/ants1/color/00000241.jpg', '/content/drive/MyDrive/Colab Notebooks/Resit/sequences/ants1/color/00000242.jpg', '/content/drive/MyDrive/Colab Notebooks/Resit/sequences/ants1/color/00000243.jpg', '/content/drive/MyDrive/Colab Notebooks/Resit/sequences/ants1/color/00000244.jpg', '/content/drive/MyDrive/Colab Notebooks/Resit/sequences/ants1/color/00000245.jpg', '/content/drive/MyDrive/Colab Notebooks/Resit/sequences/ants1/color/00000246.jpg', '/content/drive/MyDrive/Colab Notebooks/Resit/sequences/ants1/color/00000247.jpg', '/content/drive/MyDrive/Colab Notebooks/Resit/sequences/ants1/color/00000248.jpg', '/content/drive/MyDrive/Colab Notebooks/Resit/sequences/ants1/color/00000249.jpg', '/content/drive/MyDrive/Colab Notebooks/Resit/sequences/ants1/color/00000250.jpg', '/content/drive/MyDrive/Colab Notebooks/Resit/sequences/ants1/color/00000251.jpg', '/content/drive/MyDrive/Colab Notebooks/Resit/sequences/ants1/color/00000252.jpg', '/content/drive/MyDrive/Colab Notebooks/Resit/sequences/ants1/color/00000253.jpg', '/content/drive/MyDrive/Colab Notebooks/Resit/sequences/ants1/color/00000254.jpg', '/content/drive/MyDrive/Colab Notebooks/Resit/sequences/ants1/color/00000255.jpg', '/content/drive/MyDrive/Colab Notebooks/Resit/sequences/ants1/color/00000256.jpg', '/content/drive/MyDrive/Colab Notebooks/Resit/sequences/ants1/color/00000257.jpg', '/content/drive/MyDrive/Colab Notebooks/Resit/sequences/ants1/color/00000258.jpg', '/content/drive/MyDrive/Colab Notebooks/Resit/sequences/ants1/color/00000259.jpg', '/content/drive/MyDrive/Colab Notebooks/Resit/sequences/ants1/color/00000260.jpg', '/content/drive/MyDrive/Colab Notebooks/Resit/sequences/ants1/color/00000261.jpg', '/content/drive/MyDrive/Colab Notebooks/Resit/sequences/ants1/color/00000262.jpg', '/content/drive/MyDrive/Colab Notebooks/Resit/sequences/ants1/color/00000263.jpg', '/content/drive/MyDrive/Colab Notebooks/Resit/sequences/ants1/color/00000264.jpg', '/content/drive/MyDrive/Colab Notebooks/Resit/sequences/ants1/color/00000265.jpg', '/content/drive/MyDrive/Colab Notebooks/Resit/sequences/ants1/color/00000266.jpg', '/content/drive/MyDrive/Colab Notebooks/Resit/sequences/ants1/color/00000267.jpg', '/content/drive/MyDrive/Colab Notebooks/Resit/sequences/ants1/color/00000268.jpg', '/content/drive/MyDrive/Colab Notebooks/Resit/sequences/ants1/color/00000269.jpg', '/content/drive/MyDrive/Colab Notebooks/Resit/sequences/ants1/color/00000270.jpg', '/content/drive/MyDrive/Colab Notebooks/Resit/sequences/ants1/color/00000271.jpg', '/content/drive/MyDrive/Colab Notebooks/Resit/sequences/ants1/color/00000272.jpg', '/content/drive/MyDrive/Colab Notebooks/Resit/sequences/ants1/color/00000273.jpg', '/content/drive/MyDrive/Colab Notebooks/Resit/sequences/ants1/color/00000274.jpg', '/content/drive/MyDrive/Colab Notebooks/Resit/sequences/ants1/color/00000275.jpg', '/content/drive/MyDrive/Colab Notebooks/Resit/sequences/ants1/color/00000276.jpg', '/content/drive/MyDrive/Colab Notebooks/Resit/sequences/ants1/color/00000277.jpg', '/content/drive/MyDrive/Colab Notebooks/Resit/sequences/ants1/color/00000278.jpg', '/content/drive/MyDrive/Colab Notebooks/Resit/sequences/ants1/color/00000279.jpg', '/content/drive/MyDrive/Colab Notebooks/Resit/sequences/ants1/color/00000280.jpg', '/content/drive/MyDrive/Colab Notebooks/Resit/sequences/ants1/color/00000281.jpg', '/content/drive/MyDrive/Colab Notebooks/Resit/sequences/ants1/color/00000282.jpg', '/content/drive/MyDrive/Colab Notebooks/Resit/sequences/ants1/color/00000283.jpg', '/content/drive/MyDrive/Colab Notebooks/Resit/sequences/ants1/color/00000284.jpg', '/content/drive/MyDrive/Colab Notebooks/Resit/sequences/ants1/color/00000285.jpg', '/content/drive/MyDrive/Colab Notebooks/Resit/sequences/ants1/color/00000286.jpg', '/content/drive/MyDrive/Colab Notebooks/Resit/sequences/ants1/color/00000287.jpg', '/content/drive/MyDrive/Colab Notebooks/Resit/sequences/ants1/color/00000288.jpg', '/content/drive/MyDrive/Colab Notebooks/Resit/sequences/ants1/color/00000289.jpg', '/content/drive/MyDrive/Colab Notebooks/Resit/sequences/ants1/color/00000290.jpg', '/content/drive/MyDrive/Colab Notebooks/Resit/sequences/ants1/color/00000291.jpg', '/content/drive/MyDrive/Colab Notebooks/Resit/sequences/ants1/color/00000292.jpg', '/content/drive/MyDrive/Colab Notebooks/Resit/sequences/ants1/color/00000293.jpg', '/content/drive/MyDrive/Colab Notebooks/Resit/sequences/ants1/color/00000294.jpg', '/content/drive/MyDrive/Colab Notebooks/Resit/sequences/ants1/color/00000295.jpg', '/content/drive/MyDrive/Colab Notebooks/Resit/sequences/ants1/color/00000296.jpg', '/content/drive/MyDrive/Colab Notebooks/Resit/sequences/ants1/color/00000297.jpg', '/content/drive/MyDrive/Colab Notebooks/Resit/sequences/ants1/color/00000298.jpg', '/content/drive/MyDrive/Colab Notebooks/Resit/sequences/ants1/color/00000299.jpg', '/content/drive/MyDrive/Colab Notebooks/Resit/sequences/ants1/color/00000300.jpg', '/content/drive/MyDrive/Colab Notebooks/Resit/sequences/ants1/color/00000301.jpg', '/content/drive/MyDrive/Colab Notebooks/Resit/sequences/ants1/color/00000302.jpg', '/content/drive/MyDrive/Colab Notebooks/Resit/sequences/ants1/color/00000303.jpg', '/content/drive/MyDrive/Colab Notebooks/Resit/sequences/ants1/color/00000304.jpg', '/content/drive/MyDrive/Colab Notebooks/Resit/sequences/ants1/color/00000305.jpg', '/content/drive/MyDrive/Colab Notebooks/Resit/sequences/ants1/color/00000306.jpg', '/content/drive/MyDrive/Colab Notebooks/Resit/sequences/ants1/color/00000307.jpg', '/content/drive/MyDrive/Colab Notebooks/Resit/sequences/ants1/color/00000308.jpg', '/content/drive/MyDrive/Colab Notebooks/Resit/sequences/ants1/color/00000309.jpg', '/content/drive/MyDrive/Colab Notebooks/Resit/sequences/ants1/color/00000310.jpg', '/content/drive/MyDrive/Colab Notebooks/Resit/sequences/ants1/color/00000311.jpg', '/content/drive/MyDrive/Colab Notebooks/Resit/sequences/ants1/color/00000312.jpg', '/content/drive/MyDrive/Colab Notebooks/Resit/sequences/ants1/color/00000313.jpg', '/content/drive/MyDrive/Colab Notebooks/Resit/sequences/ants1/color/00000314.jpg', '/content/drive/MyDrive/Colab Notebooks/Resit/sequences/ants1/color/00000315.jpg', '/content/drive/MyDrive/Colab Notebooks/Resit/sequences/ants1/color/00000316.jpg', '/content/drive/MyDrive/Colab Notebooks/Resit/sequences/ants1/color/00000317.jpg', '/content/drive/MyDrive/Colab Notebooks/Resit/sequences/ants1/color/00000318.jpg', '/content/drive/MyDrive/Colab Notebooks/Resit/sequences/ants1/color/00000319.jpg', '/content/drive/MyDrive/Colab Notebooks/Resit/sequences/ants1/color/00000320.jpg', '/content/drive/MyDrive/Colab Notebooks/Resit/sequences/ants1/color/00000321.jpg', '/content/drive/MyDrive/Colab Notebooks/Resit/sequences/ants1/color/00000322.jpg', '/content/drive/MyDrive/Colab Notebooks/Resit/sequences/ants1/color/00000323.jpg', '/content/drive/MyDrive/Colab Notebooks/Resit/sequences/ants1/color/00000324.jpg']\n",
            "['/content/drive/MyDrive/Colab Notebooks/Resit/sequences/bag/color/00000001.jpg', '/content/drive/MyDrive/Colab Notebooks/Resit/sequences/bag/color/00000002.jpg', '/content/drive/MyDrive/Colab Notebooks/Resit/sequences/bag/color/00000003.jpg', '/content/drive/MyDrive/Colab Notebooks/Resit/sequences/bag/color/00000004.jpg', '/content/drive/MyDrive/Colab Notebooks/Resit/sequences/bag/color/00000005.jpg', '/content/drive/MyDrive/Colab Notebooks/Resit/sequences/bag/color/00000006.jpg', '/content/drive/MyDrive/Colab Notebooks/Resit/sequences/bag/color/00000007.jpg', '/content/drive/MyDrive/Colab Notebooks/Resit/sequences/bag/color/00000008.jpg', '/content/drive/MyDrive/Colab Notebooks/Resit/sequences/bag/color/00000009.jpg', '/content/drive/MyDrive/Colab Notebooks/Resit/sequences/bag/color/00000010.jpg', '/content/drive/MyDrive/Colab Notebooks/Resit/sequences/bag/color/00000011.jpg', '/content/drive/MyDrive/Colab Notebooks/Resit/sequences/bag/color/00000012.jpg', '/content/drive/MyDrive/Colab Notebooks/Resit/sequences/bag/color/00000013.jpg', '/content/drive/MyDrive/Colab Notebooks/Resit/sequences/bag/color/00000014.jpg', '/content/drive/MyDrive/Colab Notebooks/Resit/sequences/bag/color/00000015.jpg', '/content/drive/MyDrive/Colab Notebooks/Resit/sequences/bag/color/00000016.jpg', '/content/drive/MyDrive/Colab Notebooks/Resit/sequences/bag/color/00000017.jpg', '/content/drive/MyDrive/Colab Notebooks/Resit/sequences/bag/color/00000018.jpg', '/content/drive/MyDrive/Colab Notebooks/Resit/sequences/bag/color/00000019.jpg', '/content/drive/MyDrive/Colab Notebooks/Resit/sequences/bag/color/00000020.jpg', '/content/drive/MyDrive/Colab Notebooks/Resit/sequences/bag/color/00000021.jpg', '/content/drive/MyDrive/Colab Notebooks/Resit/sequences/bag/color/00000022.jpg', '/content/drive/MyDrive/Colab Notebooks/Resit/sequences/bag/color/00000023.jpg', '/content/drive/MyDrive/Colab Notebooks/Resit/sequences/bag/color/00000024.jpg', '/content/drive/MyDrive/Colab Notebooks/Resit/sequences/bag/color/00000025.jpg', '/content/drive/MyDrive/Colab Notebooks/Resit/sequences/bag/color/00000026.jpg', '/content/drive/MyDrive/Colab Notebooks/Resit/sequences/bag/color/00000027.jpg', '/content/drive/MyDrive/Colab Notebooks/Resit/sequences/bag/color/00000028.jpg', '/content/drive/MyDrive/Colab Notebooks/Resit/sequences/bag/color/00000029.jpg', '/content/drive/MyDrive/Colab Notebooks/Resit/sequences/bag/color/00000030.jpg', '/content/drive/MyDrive/Colab Notebooks/Resit/sequences/bag/color/00000031.jpg', '/content/drive/MyDrive/Colab Notebooks/Resit/sequences/bag/color/00000032.jpg', '/content/drive/MyDrive/Colab Notebooks/Resit/sequences/bag/color/00000033.jpg', '/content/drive/MyDrive/Colab Notebooks/Resit/sequences/bag/color/00000034.jpg', '/content/drive/MyDrive/Colab Notebooks/Resit/sequences/bag/color/00000035.jpg', '/content/drive/MyDrive/Colab Notebooks/Resit/sequences/bag/color/00000036.jpg', '/content/drive/MyDrive/Colab Notebooks/Resit/sequences/bag/color/00000037.jpg', '/content/drive/MyDrive/Colab Notebooks/Resit/sequences/bag/color/00000038.jpg', '/content/drive/MyDrive/Colab Notebooks/Resit/sequences/bag/color/00000039.jpg', '/content/drive/MyDrive/Colab Notebooks/Resit/sequences/bag/color/00000040.jpg', '/content/drive/MyDrive/Colab Notebooks/Resit/sequences/bag/color/00000041.jpg', '/content/drive/MyDrive/Colab Notebooks/Resit/sequences/bag/color/00000042.jpg', '/content/drive/MyDrive/Colab Notebooks/Resit/sequences/bag/color/00000043.jpg', '/content/drive/MyDrive/Colab Notebooks/Resit/sequences/bag/color/00000044.jpg', '/content/drive/MyDrive/Colab Notebooks/Resit/sequences/bag/color/00000045.jpg', '/content/drive/MyDrive/Colab Notebooks/Resit/sequences/bag/color/00000046.jpg', '/content/drive/MyDrive/Colab Notebooks/Resit/sequences/bag/color/00000047.jpg', '/content/drive/MyDrive/Colab Notebooks/Resit/sequences/bag/color/00000048.jpg', '/content/drive/MyDrive/Colab Notebooks/Resit/sequences/bag/color/00000049.jpg', '/content/drive/MyDrive/Colab Notebooks/Resit/sequences/bag/color/00000050.jpg', '/content/drive/MyDrive/Colab Notebooks/Resit/sequences/bag/color/00000051.jpg', '/content/drive/MyDrive/Colab Notebooks/Resit/sequences/bag/color/00000052.jpg', '/content/drive/MyDrive/Colab Notebooks/Resit/sequences/bag/color/00000053.jpg', '/content/drive/MyDrive/Colab Notebooks/Resit/sequences/bag/color/00000054.jpg', '/content/drive/MyDrive/Colab Notebooks/Resit/sequences/bag/color/00000055.jpg', '/content/drive/MyDrive/Colab Notebooks/Resit/sequences/bag/color/00000056.jpg', '/content/drive/MyDrive/Colab Notebooks/Resit/sequences/bag/color/00000057.jpg', '/content/drive/MyDrive/Colab Notebooks/Resit/sequences/bag/color/00000058.jpg', '/content/drive/MyDrive/Colab Notebooks/Resit/sequences/bag/color/00000059.jpg', '/content/drive/MyDrive/Colab Notebooks/Resit/sequences/bag/color/00000060.jpg', '/content/drive/MyDrive/Colab Notebooks/Resit/sequences/bag/color/00000061.jpg', '/content/drive/MyDrive/Colab Notebooks/Resit/sequences/bag/color/00000062.jpg', '/content/drive/MyDrive/Colab Notebooks/Resit/sequences/bag/color/00000063.jpg', '/content/drive/MyDrive/Colab Notebooks/Resit/sequences/bag/color/00000064.jpg', '/content/drive/MyDrive/Colab Notebooks/Resit/sequences/bag/color/00000065.jpg', '/content/drive/MyDrive/Colab Notebooks/Resit/sequences/bag/color/00000066.jpg', '/content/drive/MyDrive/Colab Notebooks/Resit/sequences/bag/color/00000067.jpg', '/content/drive/MyDrive/Colab Notebooks/Resit/sequences/bag/color/00000068.jpg', '/content/drive/MyDrive/Colab Notebooks/Resit/sequences/bag/color/00000069.jpg', '/content/drive/MyDrive/Colab Notebooks/Resit/sequences/bag/color/00000070.jpg', '/content/drive/MyDrive/Colab Notebooks/Resit/sequences/bag/color/00000071.jpg', '/content/drive/MyDrive/Colab Notebooks/Resit/sequences/bag/color/00000072.jpg', '/content/drive/MyDrive/Colab Notebooks/Resit/sequences/bag/color/00000073.jpg', '/content/drive/MyDrive/Colab Notebooks/Resit/sequences/bag/color/00000074.jpg', '/content/drive/MyDrive/Colab Notebooks/Resit/sequences/bag/color/00000075.jpg', '/content/drive/MyDrive/Colab Notebooks/Resit/sequences/bag/color/00000076.jpg', '/content/drive/MyDrive/Colab Notebooks/Resit/sequences/bag/color/00000077.jpg', '/content/drive/MyDrive/Colab Notebooks/Resit/sequences/bag/color/00000078.jpg', '/content/drive/MyDrive/Colab Notebooks/Resit/sequences/bag/color/00000079.jpg', '/content/drive/MyDrive/Colab Notebooks/Resit/sequences/bag/color/00000080.jpg', '/content/drive/MyDrive/Colab Notebooks/Resit/sequences/bag/color/00000081.jpg', '/content/drive/MyDrive/Colab Notebooks/Resit/sequences/bag/color/00000082.jpg', '/content/drive/MyDrive/Colab Notebooks/Resit/sequences/bag/color/00000083.jpg', '/content/drive/MyDrive/Colab Notebooks/Resit/sequences/bag/color/00000084.jpg', '/content/drive/MyDrive/Colab Notebooks/Resit/sequences/bag/color/00000085.jpg', '/content/drive/MyDrive/Colab Notebooks/Resit/sequences/bag/color/00000086.jpg', '/content/drive/MyDrive/Colab Notebooks/Resit/sequences/bag/color/00000087.jpg', '/content/drive/MyDrive/Colab Notebooks/Resit/sequences/bag/color/00000088.jpg', '/content/drive/MyDrive/Colab Notebooks/Resit/sequences/bag/color/00000089.jpg', '/content/drive/MyDrive/Colab Notebooks/Resit/sequences/bag/color/00000090.jpg', '/content/drive/MyDrive/Colab Notebooks/Resit/sequences/bag/color/00000091.jpg', '/content/drive/MyDrive/Colab Notebooks/Resit/sequences/bag/color/00000092.jpg', '/content/drive/MyDrive/Colab Notebooks/Resit/sequences/bag/color/00000093.jpg', '/content/drive/MyDrive/Colab Notebooks/Resit/sequences/bag/color/00000094.jpg', '/content/drive/MyDrive/Colab Notebooks/Resit/sequences/bag/color/00000095.jpg', '/content/drive/MyDrive/Colab Notebooks/Resit/sequences/bag/color/00000096.jpg', '/content/drive/MyDrive/Colab Notebooks/Resit/sequences/bag/color/00000097.jpg', '/content/drive/MyDrive/Colab Notebooks/Resit/sequences/bag/color/00000098.jpg', '/content/drive/MyDrive/Colab Notebooks/Resit/sequences/bag/color/00000099.jpg', '/content/drive/MyDrive/Colab Notebooks/Resit/sequences/bag/color/00000100.jpg', '/content/drive/MyDrive/Colab Notebooks/Resit/sequences/bag/color/00000101.jpg', '/content/drive/MyDrive/Colab Notebooks/Resit/sequences/bag/color/00000102.jpg', '/content/drive/MyDrive/Colab Notebooks/Resit/sequences/bag/color/00000103.jpg', '/content/drive/MyDrive/Colab Notebooks/Resit/sequences/bag/color/00000104.jpg', '/content/drive/MyDrive/Colab Notebooks/Resit/sequences/bag/color/00000105.jpg', '/content/drive/MyDrive/Colab Notebooks/Resit/sequences/bag/color/00000106.jpg', '/content/drive/MyDrive/Colab Notebooks/Resit/sequences/bag/color/00000107.jpg', '/content/drive/MyDrive/Colab Notebooks/Resit/sequences/bag/color/00000108.jpg', '/content/drive/MyDrive/Colab Notebooks/Resit/sequences/bag/color/00000109.jpg', '/content/drive/MyDrive/Colab Notebooks/Resit/sequences/bag/color/00000110.jpg', '/content/drive/MyDrive/Colab Notebooks/Resit/sequences/bag/color/00000111.jpg', '/content/drive/MyDrive/Colab Notebooks/Resit/sequences/bag/color/00000112.jpg', '/content/drive/MyDrive/Colab Notebooks/Resit/sequences/bag/color/00000113.jpg', '/content/drive/MyDrive/Colab Notebooks/Resit/sequences/bag/color/00000114.jpg', '/content/drive/MyDrive/Colab Notebooks/Resit/sequences/bag/color/00000115.jpg', '/content/drive/MyDrive/Colab Notebooks/Resit/sequences/bag/color/00000116.jpg', '/content/drive/MyDrive/Colab Notebooks/Resit/sequences/bag/color/00000117.jpg', '/content/drive/MyDrive/Colab Notebooks/Resit/sequences/bag/color/00000118.jpg', '/content/drive/MyDrive/Colab Notebooks/Resit/sequences/bag/color/00000119.jpg', '/content/drive/MyDrive/Colab Notebooks/Resit/sequences/bag/color/00000120.jpg', '/content/drive/MyDrive/Colab Notebooks/Resit/sequences/bag/color/00000121.jpg', '/content/drive/MyDrive/Colab Notebooks/Resit/sequences/bag/color/00000122.jpg', '/content/drive/MyDrive/Colab Notebooks/Resit/sequences/bag/color/00000123.jpg', '/content/drive/MyDrive/Colab Notebooks/Resit/sequences/bag/color/00000124.jpg', '/content/drive/MyDrive/Colab Notebooks/Resit/sequences/bag/color/00000125.jpg', '/content/drive/MyDrive/Colab Notebooks/Resit/sequences/bag/color/00000126.jpg', '/content/drive/MyDrive/Colab Notebooks/Resit/sequences/bag/color/00000127.jpg', '/content/drive/MyDrive/Colab Notebooks/Resit/sequences/bag/color/00000128.jpg', '/content/drive/MyDrive/Colab Notebooks/Resit/sequences/bag/color/00000129.jpg', '/content/drive/MyDrive/Colab Notebooks/Resit/sequences/bag/color/00000130.jpg', '/content/drive/MyDrive/Colab Notebooks/Resit/sequences/bag/color/00000131.jpg', '/content/drive/MyDrive/Colab Notebooks/Resit/sequences/bag/color/00000132.jpg', '/content/drive/MyDrive/Colab Notebooks/Resit/sequences/bag/color/00000133.jpg', '/content/drive/MyDrive/Colab Notebooks/Resit/sequences/bag/color/00000134.jpg', '/content/drive/MyDrive/Colab Notebooks/Resit/sequences/bag/color/00000135.jpg', '/content/drive/MyDrive/Colab Notebooks/Resit/sequences/bag/color/00000136.jpg', '/content/drive/MyDrive/Colab Notebooks/Resit/sequences/bag/color/00000137.jpg', '/content/drive/MyDrive/Colab Notebooks/Resit/sequences/bag/color/00000138.jpg', '/content/drive/MyDrive/Colab Notebooks/Resit/sequences/bag/color/00000139.jpg', '/content/drive/MyDrive/Colab Notebooks/Resit/sequences/bag/color/00000140.jpg', '/content/drive/MyDrive/Colab Notebooks/Resit/sequences/bag/color/00000141.jpg', '/content/drive/MyDrive/Colab Notebooks/Resit/sequences/bag/color/00000142.jpg', '/content/drive/MyDrive/Colab Notebooks/Resit/sequences/bag/color/00000143.jpg', '/content/drive/MyDrive/Colab Notebooks/Resit/sequences/bag/color/00000144.jpg', '/content/drive/MyDrive/Colab Notebooks/Resit/sequences/bag/color/00000145.jpg', '/content/drive/MyDrive/Colab Notebooks/Resit/sequences/bag/color/00000146.jpg', '/content/drive/MyDrive/Colab Notebooks/Resit/sequences/bag/color/00000147.jpg', '/content/drive/MyDrive/Colab Notebooks/Resit/sequences/bag/color/00000148.jpg', '/content/drive/MyDrive/Colab Notebooks/Resit/sequences/bag/color/00000149.jpg', '/content/drive/MyDrive/Colab Notebooks/Resit/sequences/bag/color/00000150.jpg', '/content/drive/MyDrive/Colab Notebooks/Resit/sequences/bag/color/00000151.jpg', '/content/drive/MyDrive/Colab Notebooks/Resit/sequences/bag/color/00000152.jpg', '/content/drive/MyDrive/Colab Notebooks/Resit/sequences/bag/color/00000153.jpg', '/content/drive/MyDrive/Colab Notebooks/Resit/sequences/bag/color/00000154.jpg', '/content/drive/MyDrive/Colab Notebooks/Resit/sequences/bag/color/00000155.jpg', '/content/drive/MyDrive/Colab Notebooks/Resit/sequences/bag/color/00000156.jpg', '/content/drive/MyDrive/Colab Notebooks/Resit/sequences/bag/color/00000157.jpg', '/content/drive/MyDrive/Colab Notebooks/Resit/sequences/bag/color/00000158.jpg', '/content/drive/MyDrive/Colab Notebooks/Resit/sequences/bag/color/00000159.jpg', '/content/drive/MyDrive/Colab Notebooks/Resit/sequences/bag/color/00000160.jpg', '/content/drive/MyDrive/Colab Notebooks/Resit/sequences/bag/color/00000161.jpg', '/content/drive/MyDrive/Colab Notebooks/Resit/sequences/bag/color/00000162.jpg', '/content/drive/MyDrive/Colab Notebooks/Resit/sequences/bag/color/00000163.jpg', '/content/drive/MyDrive/Colab Notebooks/Resit/sequences/bag/color/00000164.jpg', '/content/drive/MyDrive/Colab Notebooks/Resit/sequences/bag/color/00000165.jpg', '/content/drive/MyDrive/Colab Notebooks/Resit/sequences/bag/color/00000166.jpg', '/content/drive/MyDrive/Colab Notebooks/Resit/sequences/bag/color/00000167.jpg', '/content/drive/MyDrive/Colab Notebooks/Resit/sequences/bag/color/00000168.jpg', '/content/drive/MyDrive/Colab Notebooks/Resit/sequences/bag/color/00000169.jpg', '/content/drive/MyDrive/Colab Notebooks/Resit/sequences/bag/color/00000170.jpg', '/content/drive/MyDrive/Colab Notebooks/Resit/sequences/bag/color/00000171.jpg', '/content/drive/MyDrive/Colab Notebooks/Resit/sequences/bag/color/00000172.jpg', '/content/drive/MyDrive/Colab Notebooks/Resit/sequences/bag/color/00000173.jpg', '/content/drive/MyDrive/Colab Notebooks/Resit/sequences/bag/color/00000174.jpg', '/content/drive/MyDrive/Colab Notebooks/Resit/sequences/bag/color/00000175.jpg', '/content/drive/MyDrive/Colab Notebooks/Resit/sequences/bag/color/00000176.jpg', '/content/drive/MyDrive/Colab Notebooks/Resit/sequences/bag/color/00000177.jpg', '/content/drive/MyDrive/Colab Notebooks/Resit/sequences/bag/color/00000178.jpg', '/content/drive/MyDrive/Colab Notebooks/Resit/sequences/bag/color/00000179.jpg', '/content/drive/MyDrive/Colab Notebooks/Resit/sequences/bag/color/00000180.jpg', '/content/drive/MyDrive/Colab Notebooks/Resit/sequences/bag/color/00000181.jpg', '/content/drive/MyDrive/Colab Notebooks/Resit/sequences/bag/color/00000182.jpg', '/content/drive/MyDrive/Colab Notebooks/Resit/sequences/bag/color/00000183.jpg', '/content/drive/MyDrive/Colab Notebooks/Resit/sequences/bag/color/00000184.jpg', '/content/drive/MyDrive/Colab Notebooks/Resit/sequences/bag/color/00000185.jpg', '/content/drive/MyDrive/Colab Notebooks/Resit/sequences/bag/color/00000186.jpg', '/content/drive/MyDrive/Colab Notebooks/Resit/sequences/bag/color/00000187.jpg', '/content/drive/MyDrive/Colab Notebooks/Resit/sequences/bag/color/00000188.jpg', '/content/drive/MyDrive/Colab Notebooks/Resit/sequences/bag/color/00000189.jpg', '/content/drive/MyDrive/Colab Notebooks/Resit/sequences/bag/color/00000190.jpg', '/content/drive/MyDrive/Colab Notebooks/Resit/sequences/bag/color/00000191.jpg', '/content/drive/MyDrive/Colab Notebooks/Resit/sequences/bag/color/00000192.jpg', '/content/drive/MyDrive/Colab Notebooks/Resit/sequences/bag/color/00000193.jpg', '/content/drive/MyDrive/Colab Notebooks/Resit/sequences/bag/color/00000194.jpg', '/content/drive/MyDrive/Colab Notebooks/Resit/sequences/bag/color/00000195.jpg', '/content/drive/MyDrive/Colab Notebooks/Resit/sequences/bag/color/00000196.jpg', '/content/drive/MyDrive/Colab Notebooks/Resit/sequences/bag/color/00000197.jpg', '/content/drive/MyDrive/Colab Notebooks/Resit/sequences/bag/color/00000198.jpg', '/content/drive/MyDrive/Colab Notebooks/Resit/sequences/bag/color/00000199.jpg', '/content/drive/MyDrive/Colab Notebooks/Resit/sequences/bag/color/00000200.jpg', '/content/drive/MyDrive/Colab Notebooks/Resit/sequences/bag/color/00000201.jpg', '/content/drive/MyDrive/Colab Notebooks/Resit/sequences/bag/color/00000202.jpg', '/content/drive/MyDrive/Colab Notebooks/Resit/sequences/bag/color/00000203.jpg', '/content/drive/MyDrive/Colab Notebooks/Resit/sequences/bag/color/00000204.jpg', '/content/drive/MyDrive/Colab Notebooks/Resit/sequences/bag/color/00000205.jpg', '/content/drive/MyDrive/Colab Notebooks/Resit/sequences/bag/color/00000206.jpg', '/content/drive/MyDrive/Colab Notebooks/Resit/sequences/bag/color/00000207.jpg', '/content/drive/MyDrive/Colab Notebooks/Resit/sequences/bag/color/00000208.jpg', '/content/drive/MyDrive/Colab Notebooks/Resit/sequences/bag/color/00000209.jpg', '/content/drive/MyDrive/Colab Notebooks/Resit/sequences/bag/color/00000210.jpg', '/content/drive/MyDrive/Colab Notebooks/Resit/sequences/bag/color/00000211.jpg', '/content/drive/MyDrive/Colab Notebooks/Resit/sequences/bag/color/00000212.jpg', '/content/drive/MyDrive/Colab Notebooks/Resit/sequences/bag/color/00000213.jpg', '/content/drive/MyDrive/Colab Notebooks/Resit/sequences/bag/color/00000214.jpg', '/content/drive/MyDrive/Colab Notebooks/Resit/sequences/bag/color/00000215.jpg', '/content/drive/MyDrive/Colab Notebooks/Resit/sequences/bag/color/00000216.jpg', '/content/drive/MyDrive/Colab Notebooks/Resit/sequences/bag/color/00000217.jpg', '/content/drive/MyDrive/Colab Notebooks/Resit/sequences/bag/color/00000218.jpg', '/content/drive/MyDrive/Colab Notebooks/Resit/sequences/bag/color/00000219.jpg', '/content/drive/MyDrive/Colab Notebooks/Resit/sequences/bag/color/00000220.jpg', '/content/drive/MyDrive/Colab Notebooks/Resit/sequences/bag/color/00000221.jpg', '/content/drive/MyDrive/Colab Notebooks/Resit/sequences/bag/color/00000222.jpg', '/content/drive/MyDrive/Colab Notebooks/Resit/sequences/bag/color/00000223.jpg', '/content/drive/MyDrive/Colab Notebooks/Resit/sequences/bag/color/00000224.jpg', '/content/drive/MyDrive/Colab Notebooks/Resit/sequences/bag/color/00000225.jpg', '/content/drive/MyDrive/Colab Notebooks/Resit/sequences/bag/color/00000226.jpg', '/content/drive/MyDrive/Colab Notebooks/Resit/sequences/bag/color/00000227.jpg', '/content/drive/MyDrive/Colab Notebooks/Resit/sequences/bag/color/00000228.jpg', '/content/drive/MyDrive/Colab Notebooks/Resit/sequences/bag/color/00000229.jpg', '/content/drive/MyDrive/Colab Notebooks/Resit/sequences/bag/color/00000230.jpg', '/content/drive/MyDrive/Colab Notebooks/Resit/sequences/bag/color/00000231.jpg', '/content/drive/MyDrive/Colab Notebooks/Resit/sequences/bag/color/00000232.jpg', '/content/drive/MyDrive/Colab Notebooks/Resit/sequences/bag/color/00000233.jpg', '/content/drive/MyDrive/Colab Notebooks/Resit/sequences/bag/color/00000234.jpg', '/content/drive/MyDrive/Colab Notebooks/Resit/sequences/bag/color/00000235.jpg', '/content/drive/MyDrive/Colab Notebooks/Resit/sequences/bag/color/00000236.jpg', '/content/drive/MyDrive/Colab Notebooks/Resit/sequences/bag/color/00000237.jpg', '/content/drive/MyDrive/Colab Notebooks/Resit/sequences/bag/color/00000238.jpg', '/content/drive/MyDrive/Colab Notebooks/Resit/sequences/bag/color/00000239.jpg', '/content/drive/MyDrive/Colab Notebooks/Resit/sequences/bag/color/00000240.jpg', '/content/drive/MyDrive/Colab Notebooks/Resit/sequences/bag/color/00000241.jpg', '/content/drive/MyDrive/Colab Notebooks/Resit/sequences/bag/color/00000242.jpg', '/content/drive/MyDrive/Colab Notebooks/Resit/sequences/bag/color/00000243.jpg', '/content/drive/MyDrive/Colab Notebooks/Resit/sequences/bag/color/00000244.jpg', '/content/drive/MyDrive/Colab Notebooks/Resit/sequences/bag/color/00000245.jpg', '/content/drive/MyDrive/Colab Notebooks/Resit/sequences/bag/color/00000246.jpg', '/content/drive/MyDrive/Colab Notebooks/Resit/sequences/bag/color/00000247.jpg', '/content/drive/MyDrive/Colab Notebooks/Resit/sequences/bag/color/00000248.jpg', '/content/drive/MyDrive/Colab Notebooks/Resit/sequences/bag/color/00000249.jpg', '/content/drive/MyDrive/Colab Notebooks/Resit/sequences/bag/color/00000250.jpg', '/content/drive/MyDrive/Colab Notebooks/Resit/sequences/bag/color/00000251.jpg', '/content/drive/MyDrive/Colab Notebooks/Resit/sequences/bag/color/00000252.jpg', '/content/drive/MyDrive/Colab Notebooks/Resit/sequences/bag/color/00000253.jpg', '/content/drive/MyDrive/Colab Notebooks/Resit/sequences/bag/color/00000254.jpg', '/content/drive/MyDrive/Colab Notebooks/Resit/sequences/bag/color/00000255.jpg', '/content/drive/MyDrive/Colab Notebooks/Resit/sequences/bag/color/00000256.jpg', '/content/drive/MyDrive/Colab Notebooks/Resit/sequences/bag/color/00000257.jpg', '/content/drive/MyDrive/Colab Notebooks/Resit/sequences/bag/color/00000258.jpg', '/content/drive/MyDrive/Colab Notebooks/Resit/sequences/bag/color/00000259.jpg', '/content/drive/MyDrive/Colab Notebooks/Resit/sequences/bag/color/00000260.jpg', '/content/drive/MyDrive/Colab Notebooks/Resit/sequences/bag/color/00000261.jpg', '/content/drive/MyDrive/Colab Notebooks/Resit/sequences/bag/color/00000262.jpg', '/content/drive/MyDrive/Colab Notebooks/Resit/sequences/bag/color/00000263.jpg', '/content/drive/MyDrive/Colab Notebooks/Resit/sequences/bag/color/00000264.jpg', '/content/drive/MyDrive/Colab Notebooks/Resit/sequences/bag/color/00000265.jpg', '/content/drive/MyDrive/Colab Notebooks/Resit/sequences/bag/color/00000266.jpg', '/content/drive/MyDrive/Colab Notebooks/Resit/sequences/bag/color/00000267.jpg', '/content/drive/MyDrive/Colab Notebooks/Resit/sequences/bag/color/00000268.jpg', '/content/drive/MyDrive/Colab Notebooks/Resit/sequences/bag/color/00000269.jpg', '/content/drive/MyDrive/Colab Notebooks/Resit/sequences/bag/color/00000270.jpg', '/content/drive/MyDrive/Colab Notebooks/Resit/sequences/bag/color/00000271.jpg', '/content/drive/MyDrive/Colab Notebooks/Resit/sequences/bag/color/00000272.jpg', '/content/drive/MyDrive/Colab Notebooks/Resit/sequences/bag/color/00000273.jpg', '/content/drive/MyDrive/Colab Notebooks/Resit/sequences/bag/color/00000274.jpg', '/content/drive/MyDrive/Colab Notebooks/Resit/sequences/bag/color/00000275.jpg', '/content/drive/MyDrive/Colab Notebooks/Resit/sequences/bag/color/00000276.jpg', '/content/drive/MyDrive/Colab Notebooks/Resit/sequences/bag/color/00000277.jpg', '/content/drive/MyDrive/Colab Notebooks/Resit/sequences/bag/color/00000278.jpg', '/content/drive/MyDrive/Colab Notebooks/Resit/sequences/bag/color/00000279.jpg', '/content/drive/MyDrive/Colab Notebooks/Resit/sequences/bag/color/00000280.jpg', '/content/drive/MyDrive/Colab Notebooks/Resit/sequences/bag/color/00000281.jpg', '/content/drive/MyDrive/Colab Notebooks/Resit/sequences/bag/color/00000282.jpg', '/content/drive/MyDrive/Colab Notebooks/Resit/sequences/bag/color/00000283.jpg', '/content/drive/MyDrive/Colab Notebooks/Resit/sequences/bag/color/00000284.jpg', '/content/drive/MyDrive/Colab Notebooks/Resit/sequences/bag/color/00000285.jpg', '/content/drive/MyDrive/Colab Notebooks/Resit/sequences/bag/color/00000286.jpg', '/content/drive/MyDrive/Colab Notebooks/Resit/sequences/bag/color/00000287.jpg', '/content/drive/MyDrive/Colab Notebooks/Resit/sequences/bag/color/00000288.jpg', '/content/drive/MyDrive/Colab Notebooks/Resit/sequences/bag/color/00000289.jpg', '/content/drive/MyDrive/Colab Notebooks/Resit/sequences/bag/color/00000290.jpg', '/content/drive/MyDrive/Colab Notebooks/Resit/sequences/bag/color/00000291.jpg', '/content/drive/MyDrive/Colab Notebooks/Resit/sequences/bag/color/00000292.jpg', '/content/drive/MyDrive/Colab Notebooks/Resit/sequences/bag/color/00000293.jpg', '/content/drive/MyDrive/Colab Notebooks/Resit/sequences/bag/color/00000294.jpg', '/content/drive/MyDrive/Colab Notebooks/Resit/sequences/bag/color/00000295.jpg', '/content/drive/MyDrive/Colab Notebooks/Resit/sequences/bag/color/00000296.jpg', '/content/drive/MyDrive/Colab Notebooks/Resit/sequences/bag/color/00000297.jpg', '/content/drive/MyDrive/Colab Notebooks/Resit/sequences/bag/color/00000298.jpg', '/content/drive/MyDrive/Colab Notebooks/Resit/sequences/bag/color/00000299.jpg', '/content/drive/MyDrive/Colab Notebooks/Resit/sequences/bag/color/00000300.jpg', '/content/drive/MyDrive/Colab Notebooks/Resit/sequences/bag/color/00000301.jpg', '/content/drive/MyDrive/Colab Notebooks/Resit/sequences/bag/color/00000302.jpg', '/content/drive/MyDrive/Colab Notebooks/Resit/sequences/bag/color/00000303.jpg', '/content/drive/MyDrive/Colab Notebooks/Resit/sequences/bag/color/00000304.jpg', '/content/drive/MyDrive/Colab Notebooks/Resit/sequences/bag/color/00000305.jpg', '/content/drive/MyDrive/Colab Notebooks/Resit/sequences/bag/color/00000306.jpg', '/content/drive/MyDrive/Colab Notebooks/Resit/sequences/bag/color/00000307.jpg', '/content/drive/MyDrive/Colab Notebooks/Resit/sequences/bag/color/00000308.jpg', '/content/drive/MyDrive/Colab Notebooks/Resit/sequences/bag/color/00000309.jpg', '/content/drive/MyDrive/Colab Notebooks/Resit/sequences/bag/color/00000310.jpg']\n",
            "['/content/drive/MyDrive/Colab Notebooks/Resit/sequences/ball2/color/00000001.jpg', '/content/drive/MyDrive/Colab Notebooks/Resit/sequences/ball2/color/00000002.jpg', '/content/drive/MyDrive/Colab Notebooks/Resit/sequences/ball2/color/00000003.jpg', '/content/drive/MyDrive/Colab Notebooks/Resit/sequences/ball2/color/00000004.jpg', '/content/drive/MyDrive/Colab Notebooks/Resit/sequences/ball2/color/00000005.jpg', '/content/drive/MyDrive/Colab Notebooks/Resit/sequences/ball2/color/00000006.jpg', '/content/drive/MyDrive/Colab Notebooks/Resit/sequences/ball2/color/00000007.jpg', '/content/drive/MyDrive/Colab Notebooks/Resit/sequences/ball2/color/00000008.jpg', '/content/drive/MyDrive/Colab Notebooks/Resit/sequences/ball2/color/00000009.jpg', '/content/drive/MyDrive/Colab Notebooks/Resit/sequences/ball2/color/00000010.jpg', '/content/drive/MyDrive/Colab Notebooks/Resit/sequences/ball2/color/00000011.jpg', '/content/drive/MyDrive/Colab Notebooks/Resit/sequences/ball2/color/00000012.jpg', '/content/drive/MyDrive/Colab Notebooks/Resit/sequences/ball2/color/00000013.jpg', '/content/drive/MyDrive/Colab Notebooks/Resit/sequences/ball2/color/00000014.jpg', '/content/drive/MyDrive/Colab Notebooks/Resit/sequences/ball2/color/00000015.jpg', '/content/drive/MyDrive/Colab Notebooks/Resit/sequences/ball2/color/00000016.jpg', '/content/drive/MyDrive/Colab Notebooks/Resit/sequences/ball2/color/00000017.jpg', '/content/drive/MyDrive/Colab Notebooks/Resit/sequences/ball2/color/00000018.jpg', '/content/drive/MyDrive/Colab Notebooks/Resit/sequences/ball2/color/00000019.jpg', '/content/drive/MyDrive/Colab Notebooks/Resit/sequences/ball2/color/00000020.jpg', '/content/drive/MyDrive/Colab Notebooks/Resit/sequences/ball2/color/00000021.jpg', '/content/drive/MyDrive/Colab Notebooks/Resit/sequences/ball2/color/00000022.jpg', '/content/drive/MyDrive/Colab Notebooks/Resit/sequences/ball2/color/00000023.jpg', '/content/drive/MyDrive/Colab Notebooks/Resit/sequences/ball2/color/00000024.jpg', '/content/drive/MyDrive/Colab Notebooks/Resit/sequences/ball2/color/00000025.jpg', '/content/drive/MyDrive/Colab Notebooks/Resit/sequences/ball2/color/00000026.jpg', '/content/drive/MyDrive/Colab Notebooks/Resit/sequences/ball2/color/00000027.jpg', '/content/drive/MyDrive/Colab Notebooks/Resit/sequences/ball2/color/00000028.jpg', '/content/drive/MyDrive/Colab Notebooks/Resit/sequences/ball2/color/00000029.jpg', '/content/drive/MyDrive/Colab Notebooks/Resit/sequences/ball2/color/00000030.jpg', '/content/drive/MyDrive/Colab Notebooks/Resit/sequences/ball2/color/00000031.jpg', '/content/drive/MyDrive/Colab Notebooks/Resit/sequences/ball2/color/00000032.jpg', '/content/drive/MyDrive/Colab Notebooks/Resit/sequences/ball2/color/00000033.jpg', '/content/drive/MyDrive/Colab Notebooks/Resit/sequences/ball2/color/00000034.jpg', '/content/drive/MyDrive/Colab Notebooks/Resit/sequences/ball2/color/00000035.jpg', '/content/drive/MyDrive/Colab Notebooks/Resit/sequences/ball2/color/00000036.jpg', '/content/drive/MyDrive/Colab Notebooks/Resit/sequences/ball2/color/00000037.jpg', '/content/drive/MyDrive/Colab Notebooks/Resit/sequences/ball2/color/00000038.jpg', '/content/drive/MyDrive/Colab Notebooks/Resit/sequences/ball2/color/00000039.jpg', '/content/drive/MyDrive/Colab Notebooks/Resit/sequences/ball2/color/00000040.jpg']\n"
          ]
        }
      ]
    },
    {
      "cell_type": "code",
      "source": [
        "import cv2\n",
        "\n",
        "for frame1_path in range(len(frame1_path_all)/4,len(frame1_path_all)/2):\n",
        "  print(frame1_path[0])\n",
        "  frame1_img_all.append(read_img(frame1_path))"
      ],
      "metadata": {
        "id": "bF0d7CPsO4Zi"
      },
      "execution_count": null,
      "outputs": []
    },
    {
      "cell_type": "code",
      "source": [
        "import cv2\n",
        "\n",
        "for frame1_path in range(len(frame1_path_all)/2,3*(len(frame1_path_all)/4)):\n",
        "  print(frame1_path[0])\n",
        "  frame1_img_all.append(read_img(frame1_path))"
      ],
      "metadata": {
        "id": "x8G_ZjSPO4ni"
      },
      "execution_count": null,
      "outputs": []
    },
    {
      "cell_type": "code",
      "source": [
        "import cv2\n",
        "\n",
        "for frame1_path in range(3*(len(frame1_path_all)/4),len(frame1_path_all)):\n",
        "  print(frame1_path[0])\n",
        "  frame1_img_all.append(read_img(frame1_path))"
      ],
      "metadata": {
        "id": "W3K5uqzmO42b"
      },
      "execution_count": null,
      "outputs": []
    },
    {
      "cell_type": "code",
      "source": [
        "# İkinci frame'i yükleyin\n",
        "frame2 = cv2.imread(frame2_path)\n",
        "\n",
        "# Önceki frame'in sınırlayıcı kutusundan koordinatları alın\n",
        "x2, y2, w2, h2 = bounding_box2\n",
        "\n",
        "# Sınırlayıcı kutuyu 2 kat büyütün\n",
        "x2 -= int(w2 / 2)\n",
        "y2 -= int(h2 / 2)\n",
        "w2 *= 2\n",
        "h2 *= 2\n",
        "\n",
        "# Büyütülmüş sınırlayıcı kutuyla ikinci frame'i kırpın\n",
        "cropped_frame2 = frame2[y2:y2+h2, x2:x2+w2]\n"
      ],
      "metadata": {
        "id": "__TY6HU64bPu"
      },
      "execution_count": null,
      "outputs": []
    }
  ]
}