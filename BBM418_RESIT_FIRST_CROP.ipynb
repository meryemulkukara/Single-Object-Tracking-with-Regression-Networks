{
  "nbformat": 4,
  "nbformat_minor": 0,
  "metadata": {
    "colab": {
      "provenance": [],
      "gpuType": "T4",
      "machine_shape": "hm"
    },
    "kernelspec": {
      "name": "python3",
      "display_name": "Python 3"
    },
    "language_info": {
      "name": "python"
    }
  },
  "cells": [
    {
      "cell_type": "code",
      "execution_count": 1,
      "metadata": {
        "id": "oqTo-NlRAVpM",
        "colab": {
          "base_uri": "https://localhost:8080/"
        },
        "outputId": "f7b0184f-9af6-41ce-a904-fe9b4832709b"
      },
      "outputs": [
        {
          "output_type": "stream",
          "name": "stdout",
          "text": [
            "Mounted at /content/drive\n"
          ]
        }
      ],
      "source": [
        "from google.colab import drive\n",
        "drive.mount('/content/drive')"
      ]
    },
    {
      "cell_type": "code",
      "source": [
        "import glob\n",
        "import os\n",
        "import cv2\n",
        "\n",
        "video_frame_files = glob.glob('/content/drive/MyDrive/Colab Notebooks/Resit/sequences/*/')\n",
        "video_frame_files.sort()\n",
        "consecutive_frame_pairs_all = []\n",
        "print(len(video_frame_files))\n",
        "print(video_frame_files)"
      ],
      "metadata": {
        "colab": {
          "base_uri": "https://localhost:8080/"
        },
        "id": "VfLTz74Tx-6T",
        "outputId": "de9e89ba-d2ee-4d89-f5ee-1097c99093fb"
      },
      "execution_count": 2,
      "outputs": [
        {
          "output_type": "stream",
          "name": "stdout",
          "text": [
            "62\n",
            "['/content/drive/MyDrive/Colab Notebooks/Resit/sequences/agility/', '/content/drive/MyDrive/Colab Notebooks/Resit/sequences/animal/', '/content/drive/MyDrive/Colab Notebooks/Resit/sequences/ants1/', '/content/drive/MyDrive/Colab Notebooks/Resit/sequences/bag/', '/content/drive/MyDrive/Colab Notebooks/Resit/sequences/ball2/', '/content/drive/MyDrive/Colab Notebooks/Resit/sequences/ball3/', '/content/drive/MyDrive/Colab Notebooks/Resit/sequences/basketball/', '/content/drive/MyDrive/Colab Notebooks/Resit/sequences/birds1/', '/content/drive/MyDrive/Colab Notebooks/Resit/sequences/birds2/', '/content/drive/MyDrive/Colab Notebooks/Resit/sequences/bolt1/', '/content/drive/MyDrive/Colab Notebooks/Resit/sequences/book/', '/content/drive/MyDrive/Colab Notebooks/Resit/sequences/bubble/', '/content/drive/MyDrive/Colab Notebooks/Resit/sequences/butterfly/', '/content/drive/MyDrive/Colab Notebooks/Resit/sequences/car1/', '/content/drive/MyDrive/Colab Notebooks/Resit/sequences/conduction1/', '/content/drive/MyDrive/Colab Notebooks/Resit/sequences/crabs1/', '/content/drive/MyDrive/Colab Notebooks/Resit/sequences/dinosaur/', '/content/drive/MyDrive/Colab Notebooks/Resit/sequences/diver/', '/content/drive/MyDrive/Colab Notebooks/Resit/sequences/drone1/', '/content/drive/MyDrive/Colab Notebooks/Resit/sequences/drone_across/', '/content/drive/MyDrive/Colab Notebooks/Resit/sequences/fernando/', '/content/drive/MyDrive/Colab Notebooks/Resit/sequences/fish1/', '/content/drive/MyDrive/Colab Notebooks/Resit/sequences/fish2/', '/content/drive/MyDrive/Colab Notebooks/Resit/sequences/flamingo1/', '/content/drive/MyDrive/Colab Notebooks/Resit/sequences/frisbee/', '/content/drive/MyDrive/Colab Notebooks/Resit/sequences/girl/', '/content/drive/MyDrive/Colab Notebooks/Resit/sequences/graduate/', '/content/drive/MyDrive/Colab Notebooks/Resit/sequences/gymnastics1/', '/content/drive/MyDrive/Colab Notebooks/Resit/sequences/gymnastics2/', '/content/drive/MyDrive/Colab Notebooks/Resit/sequences/gymnastics3/', '/content/drive/MyDrive/Colab Notebooks/Resit/sequences/hand/', '/content/drive/MyDrive/Colab Notebooks/Resit/sequences/hand2/', '/content/drive/MyDrive/Colab Notebooks/Resit/sequences/handball1/', '/content/drive/MyDrive/Colab Notebooks/Resit/sequences/handball2/', '/content/drive/MyDrive/Colab Notebooks/Resit/sequences/helicopter/', '/content/drive/MyDrive/Colab Notebooks/Resit/sequences/iceskater1/', '/content/drive/MyDrive/Colab Notebooks/Resit/sequences/iceskater2/', '/content/drive/MyDrive/Colab Notebooks/Resit/sequences/kangaroo/', '/content/drive/MyDrive/Colab Notebooks/Resit/sequences/lamb/', '/content/drive/MyDrive/Colab Notebooks/Resit/sequences/leaves/', '/content/drive/MyDrive/Colab Notebooks/Resit/sequences/marathon/', '/content/drive/MyDrive/Colab Notebooks/Resit/sequences/matrix/', '/content/drive/MyDrive/Colab Notebooks/Resit/sequences/monkey/', '/content/drive/MyDrive/Colab Notebooks/Resit/sequences/motocross1/', '/content/drive/MyDrive/Colab Notebooks/Resit/sequences/nature/', '/content/drive/MyDrive/Colab Notebooks/Resit/sequences/polo/', '/content/drive/MyDrive/Colab Notebooks/Resit/sequences/rabbit/', '/content/drive/MyDrive/Colab Notebooks/Resit/sequences/rabbit2/', '/content/drive/MyDrive/Colab Notebooks/Resit/sequences/rowing/', '/content/drive/MyDrive/Colab Notebooks/Resit/sequences/shaking/', '/content/drive/MyDrive/Colab Notebooks/Resit/sequences/singer2/', '/content/drive/MyDrive/Colab Notebooks/Resit/sequences/singer3/', '/content/drive/MyDrive/Colab Notebooks/Resit/sequences/snake/', '/content/drive/MyDrive/Colab Notebooks/Resit/sequences/soccer1/', '/content/drive/MyDrive/Colab Notebooks/Resit/sequences/soccer2/', '/content/drive/MyDrive/Colab Notebooks/Resit/sequences/soldier/', '/content/drive/MyDrive/Colab Notebooks/Resit/sequences/surfing/', '/content/drive/MyDrive/Colab Notebooks/Resit/sequences/tennis/', '/content/drive/MyDrive/Colab Notebooks/Resit/sequences/tiger/', '/content/drive/MyDrive/Colab Notebooks/Resit/sequences/wheel/', '/content/drive/MyDrive/Colab Notebooks/Resit/sequences/wiper/', '/content/drive/MyDrive/Colab Notebooks/Resit/sequences/zebrafish1/']\n"
          ]
        }
      ]
    },
    {
      "cell_type": "code",
      "source": [
        "for i in range(5):\n",
        "    color_file = os.path.join(video_frame_files[i], 'color')\n",
        "    dosyalar = os.listdir(color_file)\n",
        "    dosyalar.sort()\n",
        "    jpg_dosyalari = [dosya for dosya in dosyalar if dosya.endswith(\".jpg\")]\n",
        "    jpg_dosyalari.sort()\n",
        "\n",
        "    consecutive_frame_pairs = []\n",
        "    for i in range(len(jpg_dosyalari) - 1):\n",
        "    #for i in range(len(jpg_dosyalari)):\n",
        "         frame_path = os.path.join(color_file, jpg_dosyalari[i])\n",
        "         second_frame_path = os.path.join(color_file, jpg_dosyalari[i+1])\n",
        "\n",
        "         frame = cv2.imread(frame_path, cv2.COLOR_BGR2RGB)  # Görüntüyü okuyun\n",
        "         second_frame = cv2.imread(second_frame_path, cv2.COLOR_BGR2RGB)  # İkinci görüntüyü okuyun\n",
        "\n",
        "         consecutive_frame_pairs.append((frame, second_frame))\n",
        "        #consecutive_frame_pairs.append(frame)\n",
        "    print(len(consecutive_frame_pairs))\n",
        "\n",
        "    consecutive_frame_pairs_all.append(consecutive_frame_pairs)"
      ],
      "metadata": {
        "id": "z_7m5eVZxxtv",
        "colab": {
          "base_uri": "https://localhost:8080/"
        },
        "outputId": "6863a070-2f7d-4a07-f629-fc4d45389891"
      },
      "execution_count": 3,
      "outputs": [
        {
          "output_type": "stream",
          "name": "stdout",
          "text": [
            "99\n",
            "99\n",
            "324\n",
            "310\n",
            "40\n"
          ]
        }
      ]
    },
    {
      "cell_type": "code",
      "source": [
        "print(len(consecutive_frame_pairs_all[0][0]))"
      ],
      "metadata": {
        "colab": {
          "base_uri": "https://localhost:8080/"
        },
        "id": "4wQhX2E4ynij",
        "outputId": "d4c54d29-f9dd-4eda-811b-3442b3179d0f"
      },
      "execution_count": 4,
      "outputs": [
        {
          "output_type": "stream",
          "name": "stdout",
          "text": [
            "2\n"
          ]
        }
      ]
    },
    {
      "cell_type": "code",
      "source": [
        "import numpy as np\n",
        "import torch\n",
        "\n",
        "\n",
        "bounding_box_folder = '/content/drive/MyDrive/Colab Notebooks/Resit/sequences/*/groundtruth.txt'  # Bounding box dosyalarının bulunduğu klasör\n",
        "bounding_box_datas = []  # Bounding box bilgilerini içeren frame çiftleri listesi\n",
        "\n",
        "ground_truth_files = glob.glob(bounding_box_folder)\n",
        "ground_truth_files.sort()\n",
        "bbox=[]\n",
        "#print(ground_truth_files)\n",
        "for file in range(5):\n",
        "\n",
        "    with open(ground_truth_files[file], 'r') as file:\n",
        "       bounding_box_lines = file.readlines()\n",
        "       new_box=[]\n",
        "       for i in range(len(bounding_box_lines)-1):\n",
        "          bbox_values_1 = bounding_box_lines[i].strip().split(',')\n",
        "          bbox_values_2 = bounding_box_lines[i+1].strip().split(',')\n",
        "          # Bounding box değerlerini float'a dönüştürün\n",
        "          bbox_values1 = [float(value) for value in bbox_values_1]\n",
        "          bbox_values2 = [float(value) for value in bbox_values_2]\n",
        "          bbox_tensor_2 = torch.tensor(bbox_values2, dtype=torch.float32)\n",
        "\n",
        "          bbox.append(bbox_tensor_2)\n",
        "          #print(resized_bounding_box)\n",
        "          new_box.append((bbox_values1, bbox_values2))\n",
        "       bounding_box_datas.append(new_box)\n",
        "       #print(len(new_box))\n",
        "\n",
        "       #print(len(bounding_box_lines))\n",
        "\n",
        "\n",
        "#print(bounding_box_datas[0])\n",
        "print(len(bounding_box_datas[0]))\n",
        "\n"
      ],
      "metadata": {
        "id": "7Wq3_mSXcl1d",
        "colab": {
          "base_uri": "https://localhost:8080/"
        },
        "outputId": "d20b6f84-1d49-4c3a-9402-bb4ce621f024"
      },
      "execution_count": 5,
      "outputs": [
        {
          "output_type": "stream",
          "name": "stdout",
          "text": [
            "99\n"
          ]
        }
      ]
    },
    {
      "cell_type": "code",
      "source": [
        "print(bounding_box_datas[0][0][1])\n",
        "print(len(bbox))\n",
        "print(type(bbox[0]))\n",
        "\n"
      ],
      "metadata": {
        "colab": {
          "base_uri": "https://localhost:8080/"
        },
        "id": "8rKovqHKaryn",
        "outputId": "0da134aa-6ddb-4bdb-967b-257be1338c10"
      },
      "execution_count": 6,
      "outputs": [
        {
          "output_type": "stream",
          "name": "stdout",
          "text": [
            "[553.0, 242.0, 24.0, 40.0]\n",
            "872\n",
            "<class 'torch.Tensor'>\n"
          ]
        }
      ]
    },
    {
      "cell_type": "code",
      "source": [
        "def crop_frame(frame, bbox):\n",
        "    #bbox=np.array(list(map(float, bbox.split(','))))\n",
        "     # get the bbox values\n",
        "    x, y, width, height = bbox\n",
        "    #x, y, width, height = bbox\n",
        "    frame_height, frame_width, _ = frame.shape\n",
        "\n",
        "    if height > frame_height:\n",
        "        height = frame_height\n",
        "\n",
        "    if width > frame_width:\n",
        "        width = frame_width\n",
        "\n",
        "    # Orta noktayı hesaplayalım\n",
        "    center_x = x + (width / 2)\n",
        "    center_y = y + (height / 2)\n",
        "\n",
        "    # Büyütülmüş bbox boyutlarını hesaplayalım\n",
        "    enlarged_width = width * 2\n",
        "    enlarged_height = height * 2\n",
        "\n",
        "    # Kırpılmış çerçeveyi hesaplayalım\n",
        "    cropped_frame = frame[int(center_y - (enlarged_height / 2)):int(center_y + (enlarged_height / 2)),\n",
        "                          int(center_x - (enlarged_width / 2)):int(center_x + (enlarged_width / 2))]\n",
        "\n",
        "    return cropped_frame"
      ],
      "metadata": {
        "id": "BVdJyCll0q5W"
      },
      "execution_count": 7,
      "outputs": []
    },
    {
      "cell_type": "code",
      "source": [
        "##CROP IMAGE\n",
        "cropped_images1=[]\n",
        "cropped_images2=[]\n",
        "cropped_images3=[]\n",
        "for i in range(len(consecutive_frame_pairs_all)):\n",
        "  for j in range(len(consecutive_frame_pairs_all[i])):\n",
        "    frame1_cropped=crop_frame(consecutive_frame_pairs_all[i][j][0], bounding_box_datas[i][j][0])\n",
        "    frame2_cropped_FALSE=crop_frame(consecutive_frame_pairs_all[i][j][1], bounding_box_datas[i][j][0])\n",
        "    frame2_cropped_TRUE=crop_frame(consecutive_frame_pairs_all[i][j][1], bounding_box_datas[i][j][1])\n",
        "    cropped_images1.append(frame1_cropped)\n",
        "    cropped_images2.append(frame2_cropped_FALSE)\n",
        "    cropped_images3.append(frame2_cropped_TRUE)\n",
        "\n",
        "print(len(cropped_images1))"
      ],
      "metadata": {
        "colab": {
          "base_uri": "https://localhost:8080/"
        },
        "id": "ibkfiVch0xFP",
        "outputId": "e07f3782-0224-4697-a514-ace513d3de30"
      },
      "execution_count": 8,
      "outputs": [
        {
          "output_type": "stream",
          "name": "stdout",
          "text": [
            "872\n"
          ]
        }
      ]
    },
    {
      "cell_type": "code",
      "source": [
        "import numpy as np\n",
        "import torch\n",
        "import torchvision.transforms as transforms\n",
        "from torch.utils.data import Dataset\n",
        "\n",
        "class CustomDataset(Dataset):\n",
        "    def __init__(self, array1, array2, array3):\n",
        "        self.array1 = array1\n",
        "        self.array2 = array2\n",
        "        self.array3 = array3\n",
        "\n",
        "        self.transform = transforms.Compose([\n",
        "            transforms.ToPILImage(),\n",
        "            transforms.Resize((225, 225)),\n",
        "            transforms.ToTensor()\n",
        "        ])\n",
        "\n",
        "    def __getitem__(self, index):\n",
        "        input1 = self.transform(self.array1[index])\n",
        "        input2 = self.transform(self.array2[index])\n",
        "        target = self.transform(self.array3[index])\n",
        "\n",
        "        return input1, input2, target\n",
        "\n",
        "    def __len__(self):\n",
        "        return len(self.array1)\n"
      ],
      "metadata": {
        "id": "5-6VXchzCRwA"
      },
      "execution_count": 37,
      "outputs": []
    },
    {
      "cell_type": "code",
      "source": [
        "import torch\n",
        "from torch.utils.data import Dataset\n",
        "from torchvision.transforms import ToTensor, Resize\n",
        "from PIL import Image\n",
        "\n",
        "class CustomDataset(Dataset):\n",
        "    def __init__(self, cropped_images1, cropped_images2, bbox):\n",
        "        self.cropped_images1 = cropped_images1\n",
        "        self.cropped_images2 = cropped_images2\n",
        "        self.bbox = bbox\n",
        "        self.resize_transform = Resize((225, 225))\n",
        "        self.to_tensor = ToTensor()\n",
        "\n",
        "    def __getitem__(self, index):\n",
        "\n",
        "        frame1 = self.cropped_images1[index]\n",
        "        frame2 = self.cropped_images2[index]\n",
        "        bbox = self.bbox[index]\n",
        "\n",
        "        # Görüntüleri PIL.Image formatına dönüştürün\n",
        "        pil_frame1 = Image.fromarray(frame1)\n",
        "        pil_frame2 = Image.fromarray(frame2)\n",
        "\n",
        "        # Görüntüleri 225x225 boyutuna yeniden boyutlandırın\n",
        "        resized_frame1 = self.resize_transform(pil_frame1)\n",
        "        resized_frame2 = self.resize_transform(pil_frame2)\n",
        "\n",
        "        # Gerekli işlemleri gerçekleştirerek birleştirilmiş girdi ve hedef çıktıyı döndürün\n",
        "        combined_frame = torch.cat([self.to_tensor(resized_frame1), self.to_tensor(resized_frame2)], dim=1)\n",
        "        combined_frame = combined_frame.unsqueeze(0)\n",
        "\n",
        "        target = torch.tensor(bbox, dtype=torch.float32)\n",
        "\n",
        "        return combined_frame, target\n",
        "\n",
        "    def __len__(self):\n",
        "        return len(self.cropped_images1)\n"
      ],
      "metadata": {
        "id": "WV0x9IP2RFsT"
      },
      "execution_count": 15,
      "outputs": []
    },
    {
      "cell_type": "code",
      "source": [
        "\n",
        "#frame1_dataset = CustomDataset(cropped_images1)\n",
        "#frame2_dataset = CustomDataset(cropped_images2)\n",
        "#frame3_dataset = CustomDataset(cropped_images3)\n",
        "#print(type(frame1_dataset[0]))\n",
        "#train_dataloader = DataLoader(train_dataset, batch_size=32, shuffle=True)\n",
        "#dataset = CustomDataset(cropped_images1, cropped_images2, cropped_images3)\n",
        "dataset = CustomDataset(cropped_images1, cropped_images2, bbox)\n",
        "\n",
        "batch_size = 16  # Örnekleme sayısı\n",
        "shuffle = True  # Veriyi karıştır\n",
        "data_loader = torch.utils.data.DataLoader( dataset, batch_size=batch_size, shuffle=shuffle)\n"
      ],
      "metadata": {
        "id": "CEsFCr5OF0x3"
      },
      "execution_count": 16,
      "outputs": []
    },
    {
      "cell_type": "code",
      "source": [
        "import torch\n",
        "from torchvision.models import resnet34\n",
        "from torch.utils.data import DataLoader\n",
        "\n",
        "# Önceden tanımlanmış ResNet-34 modelini yükleyin\n",
        "model = resnet34(pretrained=True)\n",
        "\n",
        "# Son konvolüsyonel katmana kadar olan kısmı alın\n",
        "feature_extractor = torch.nn.Sequential(*list(model.children())[:-1])\n",
        "\n",
        "# Tam bağlantılı katmanları tanımlayın\n",
        "hidden_size = 512\n",
        "output_size = 4  # (x, y, width, height)\n",
        "fc1 = torch.nn.Linear(hidden_size * 2, hidden_size)\n",
        "fc2 = torch.nn.Linear(hidden_size, output_size)\n",
        "\n",
        "# Loss fonksiyonu ve optimize edici\n",
        "criterion = torch.nn.MSELoss()\n",
        "optimizer = torch.optim.Adam(model.parameters(), lr=0.001)\n",
        "\n",
        "\n",
        "\n",
        "# Eğitim döngüsü\n",
        "num_epochs = 10\n",
        "device = torch.device(\"cuda\" if torch.cuda.is_available() else \"cpu\")\n",
        "model.to(device)\n",
        "\n",
        "for epoch in range(num_epochs):\n",
        "    running_loss = 0.0\n",
        "\n",
        "    for frames, targets in data_loader:\n",
        "        # Verileri uygun cihaza taşıyın\n",
        "        frame1 = frames[0].to(device)\n",
        "        frame2 = frames[1].to(device)\n",
        "        targets = targets.to(device)\n",
        "\n",
        "        optimizer.zero_grad()\n",
        "\n",
        "        # Özellik çıkarımı\n",
        "        features1 = feature_extractor(frame1)\n",
        "        features2 = feature_extractor(frame2)\n",
        "\n",
        "        # Özellikleri birleştirin\n",
        "        combined_features = torch.cat((features1.flatten(start_dim=1), features2.flatten(start_dim=1)), dim=1)\n",
        "\n",
        "        # Tahmin yapın\n",
        "        hidden = torch.relu(fc1(combined_features))\n",
        "        predictions = fc2(hidden)\n",
        "\n",
        "        # Beklenen bounding box koordinatları\n",
        "        ground_truth_box = targets\n",
        "\n",
        "        # Loss hesaplayın ve geriye doğru yayılım yapın\n",
        "        loss = criterion(predictions, ground_truth_box)\n",
        "        loss.backward()\n",
        "        optimizer.step()\n",
        "\n",
        "        running_loss += loss.item()\n",
        "\n",
        "    epoch_loss = running_loss / len(data_loader)\n",
        "    print(f\"Epoch {epoch+1} Loss: {epoch_loss:.4f}\")\n"
      ],
      "metadata": {
        "colab": {
          "base_uri": "https://localhost:8080/",
          "height": 539
        },
        "id": "JgnoqIIBPqRQ",
        "outputId": "4f2c9f52-11a4-4643-fa46-4ba6f8a4825e"
      },
      "execution_count": 18,
      "outputs": [
        {
          "output_type": "stream",
          "name": "stderr",
          "text": [
            "/usr/local/lib/python3.10/dist-packages/torchvision/models/_utils.py:208: UserWarning: The parameter 'pretrained' is deprecated since 0.13 and may be removed in the future, please use 'weights' instead.\n",
            "  warnings.warn(\n",
            "/usr/local/lib/python3.10/dist-packages/torchvision/models/_utils.py:223: UserWarning: Arguments other than a weight enum or `None` for 'weights' are deprecated since 0.13 and may be removed in the future. The current behavior is equivalent to passing `weights=ResNet34_Weights.IMAGENET1K_V1`. You can also use `weights=ResNet34_Weights.DEFAULT` to get the most up-to-date weights.\n",
            "  warnings.warn(msg)\n",
            "<ipython-input-15-e72f8427b54e>:32: UserWarning: To copy construct from a tensor, it is recommended to use sourceTensor.clone().detach() or sourceTensor.clone().detach().requires_grad_(True), rather than torch.tensor(sourceTensor).\n",
            "  target = torch.tensor(bbox, dtype=torch.float32)\n",
            "/usr/local/lib/python3.10/dist-packages/torch/nn/modules/loss.py:536: UserWarning: Using a target size (torch.Size([16, 4])) that is different to the input size (torch.Size([1, 4])). This will likely lead to incorrect results due to broadcasting. Please ensure they have the same size.\n",
            "  return F.mse_loss(input, target, reduction=self.reduction)\n"
          ]
        },
        {
          "output_type": "error",
          "ename": "ValueError",
          "evalue": "ignored",
          "traceback": [
            "\u001b[0;31m---------------------------------------------------------------------------\u001b[0m",
            "\u001b[0;31mValueError\u001b[0m                                Traceback (most recent call last)",
            "\u001b[0;32m<ipython-input-18-3653958ccee2>\u001b[0m in \u001b[0;36m<cell line: 28>\u001b[0;34m()\u001b[0m\n\u001b[1;32m     29\u001b[0m     \u001b[0mrunning_loss\u001b[0m \u001b[0;34m=\u001b[0m \u001b[0;36m0.0\u001b[0m\u001b[0;34m\u001b[0m\u001b[0;34m\u001b[0m\u001b[0m\n\u001b[1;32m     30\u001b[0m \u001b[0;34m\u001b[0m\u001b[0m\n\u001b[0;32m---> 31\u001b[0;31m     \u001b[0;32mfor\u001b[0m \u001b[0mframes\u001b[0m\u001b[0;34m,\u001b[0m \u001b[0mtargets\u001b[0m \u001b[0;32min\u001b[0m \u001b[0mdata_loader\u001b[0m\u001b[0;34m:\u001b[0m\u001b[0;34m\u001b[0m\u001b[0;34m\u001b[0m\u001b[0m\n\u001b[0m\u001b[1;32m     32\u001b[0m         \u001b[0;31m# Verileri uygun cihaza taşıyın\u001b[0m\u001b[0;34m\u001b[0m\u001b[0;34m\u001b[0m\u001b[0m\n\u001b[1;32m     33\u001b[0m         \u001b[0mframe1\u001b[0m \u001b[0;34m=\u001b[0m \u001b[0mframes\u001b[0m\u001b[0;34m[\u001b[0m\u001b[0;36m0\u001b[0m\u001b[0;34m]\u001b[0m\u001b[0;34m.\u001b[0m\u001b[0mto\u001b[0m\u001b[0;34m(\u001b[0m\u001b[0mdevice\u001b[0m\u001b[0;34m)\u001b[0m\u001b[0;34m\u001b[0m\u001b[0;34m\u001b[0m\u001b[0m\n",
            "\u001b[0;32m/usr/local/lib/python3.10/dist-packages/torch/utils/data/dataloader.py\u001b[0m in \u001b[0;36m__next__\u001b[0;34m(self)\u001b[0m\n\u001b[1;32m    631\u001b[0m                 \u001b[0;31m# TODO(https://github.com/pytorch/pytorch/issues/76750)\u001b[0m\u001b[0;34m\u001b[0m\u001b[0;34m\u001b[0m\u001b[0m\n\u001b[1;32m    632\u001b[0m                 \u001b[0mself\u001b[0m\u001b[0;34m.\u001b[0m\u001b[0m_reset\u001b[0m\u001b[0;34m(\u001b[0m\u001b[0;34m)\u001b[0m  \u001b[0;31m# type: ignore[call-arg]\u001b[0m\u001b[0;34m\u001b[0m\u001b[0;34m\u001b[0m\u001b[0m\n\u001b[0;32m--> 633\u001b[0;31m             \u001b[0mdata\u001b[0m \u001b[0;34m=\u001b[0m \u001b[0mself\u001b[0m\u001b[0;34m.\u001b[0m\u001b[0m_next_data\u001b[0m\u001b[0;34m(\u001b[0m\u001b[0;34m)\u001b[0m\u001b[0;34m\u001b[0m\u001b[0;34m\u001b[0m\u001b[0m\n\u001b[0m\u001b[1;32m    634\u001b[0m             \u001b[0mself\u001b[0m\u001b[0;34m.\u001b[0m\u001b[0m_num_yielded\u001b[0m \u001b[0;34m+=\u001b[0m \u001b[0;36m1\u001b[0m\u001b[0;34m\u001b[0m\u001b[0;34m\u001b[0m\u001b[0m\n\u001b[1;32m    635\u001b[0m             \u001b[0;32mif\u001b[0m \u001b[0mself\u001b[0m\u001b[0;34m.\u001b[0m\u001b[0m_dataset_kind\u001b[0m \u001b[0;34m==\u001b[0m \u001b[0m_DatasetKind\u001b[0m\u001b[0;34m.\u001b[0m\u001b[0mIterable\u001b[0m \u001b[0;32mand\u001b[0m\u001b[0;31m \u001b[0m\u001b[0;31m\\\u001b[0m\u001b[0;34m\u001b[0m\u001b[0;34m\u001b[0m\u001b[0m\n",
            "\u001b[0;32m/usr/local/lib/python3.10/dist-packages/torch/utils/data/dataloader.py\u001b[0m in \u001b[0;36m_next_data\u001b[0;34m(self)\u001b[0m\n\u001b[1;32m    675\u001b[0m     \u001b[0;32mdef\u001b[0m \u001b[0m_next_data\u001b[0m\u001b[0;34m(\u001b[0m\u001b[0mself\u001b[0m\u001b[0;34m)\u001b[0m\u001b[0;34m:\u001b[0m\u001b[0;34m\u001b[0m\u001b[0;34m\u001b[0m\u001b[0m\n\u001b[1;32m    676\u001b[0m         \u001b[0mindex\u001b[0m \u001b[0;34m=\u001b[0m \u001b[0mself\u001b[0m\u001b[0;34m.\u001b[0m\u001b[0m_next_index\u001b[0m\u001b[0;34m(\u001b[0m\u001b[0;34m)\u001b[0m  \u001b[0;31m# may raise StopIteration\u001b[0m\u001b[0;34m\u001b[0m\u001b[0;34m\u001b[0m\u001b[0m\n\u001b[0;32m--> 677\u001b[0;31m         \u001b[0mdata\u001b[0m \u001b[0;34m=\u001b[0m \u001b[0mself\u001b[0m\u001b[0;34m.\u001b[0m\u001b[0m_dataset_fetcher\u001b[0m\u001b[0;34m.\u001b[0m\u001b[0mfetch\u001b[0m\u001b[0;34m(\u001b[0m\u001b[0mindex\u001b[0m\u001b[0;34m)\u001b[0m  \u001b[0;31m# may raise StopIteration\u001b[0m\u001b[0;34m\u001b[0m\u001b[0;34m\u001b[0m\u001b[0m\n\u001b[0m\u001b[1;32m    678\u001b[0m         \u001b[0;32mif\u001b[0m \u001b[0mself\u001b[0m\u001b[0;34m.\u001b[0m\u001b[0m_pin_memory\u001b[0m\u001b[0;34m:\u001b[0m\u001b[0;34m\u001b[0m\u001b[0;34m\u001b[0m\u001b[0m\n\u001b[1;32m    679\u001b[0m             \u001b[0mdata\u001b[0m \u001b[0;34m=\u001b[0m \u001b[0m_utils\u001b[0m\u001b[0;34m.\u001b[0m\u001b[0mpin_memory\u001b[0m\u001b[0;34m.\u001b[0m\u001b[0mpin_memory\u001b[0m\u001b[0;34m(\u001b[0m\u001b[0mdata\u001b[0m\u001b[0;34m,\u001b[0m \u001b[0mself\u001b[0m\u001b[0;34m.\u001b[0m\u001b[0m_pin_memory_device\u001b[0m\u001b[0;34m)\u001b[0m\u001b[0;34m\u001b[0m\u001b[0;34m\u001b[0m\u001b[0m\n",
            "\u001b[0;32m/usr/local/lib/python3.10/dist-packages/torch/utils/data/_utils/fetch.py\u001b[0m in \u001b[0;36mfetch\u001b[0;34m(self, possibly_batched_index)\u001b[0m\n\u001b[1;32m     49\u001b[0m                 \u001b[0mdata\u001b[0m \u001b[0;34m=\u001b[0m \u001b[0mself\u001b[0m\u001b[0;34m.\u001b[0m\u001b[0mdataset\u001b[0m\u001b[0;34m.\u001b[0m\u001b[0m__getitems__\u001b[0m\u001b[0;34m(\u001b[0m\u001b[0mpossibly_batched_index\u001b[0m\u001b[0;34m)\u001b[0m\u001b[0;34m\u001b[0m\u001b[0;34m\u001b[0m\u001b[0m\n\u001b[1;32m     50\u001b[0m             \u001b[0;32melse\u001b[0m\u001b[0;34m:\u001b[0m\u001b[0;34m\u001b[0m\u001b[0;34m\u001b[0m\u001b[0m\n\u001b[0;32m---> 51\u001b[0;31m                 \u001b[0mdata\u001b[0m \u001b[0;34m=\u001b[0m \u001b[0;34m[\u001b[0m\u001b[0mself\u001b[0m\u001b[0;34m.\u001b[0m\u001b[0mdataset\u001b[0m\u001b[0;34m[\u001b[0m\u001b[0midx\u001b[0m\u001b[0;34m]\u001b[0m \u001b[0;32mfor\u001b[0m \u001b[0midx\u001b[0m \u001b[0;32min\u001b[0m \u001b[0mpossibly_batched_index\u001b[0m\u001b[0;34m]\u001b[0m\u001b[0;34m\u001b[0m\u001b[0;34m\u001b[0m\u001b[0m\n\u001b[0m\u001b[1;32m     52\u001b[0m         \u001b[0;32melse\u001b[0m\u001b[0;34m:\u001b[0m\u001b[0;34m\u001b[0m\u001b[0;34m\u001b[0m\u001b[0m\n\u001b[1;32m     53\u001b[0m             \u001b[0mdata\u001b[0m \u001b[0;34m=\u001b[0m \u001b[0mself\u001b[0m\u001b[0;34m.\u001b[0m\u001b[0mdataset\u001b[0m\u001b[0;34m[\u001b[0m\u001b[0mpossibly_batched_index\u001b[0m\u001b[0;34m]\u001b[0m\u001b[0;34m\u001b[0m\u001b[0;34m\u001b[0m\u001b[0m\n",
            "\u001b[0;32m/usr/local/lib/python3.10/dist-packages/torch/utils/data/_utils/fetch.py\u001b[0m in \u001b[0;36m<listcomp>\u001b[0;34m(.0)\u001b[0m\n\u001b[1;32m     49\u001b[0m                 \u001b[0mdata\u001b[0m \u001b[0;34m=\u001b[0m \u001b[0mself\u001b[0m\u001b[0;34m.\u001b[0m\u001b[0mdataset\u001b[0m\u001b[0;34m.\u001b[0m\u001b[0m__getitems__\u001b[0m\u001b[0;34m(\u001b[0m\u001b[0mpossibly_batched_index\u001b[0m\u001b[0;34m)\u001b[0m\u001b[0;34m\u001b[0m\u001b[0;34m\u001b[0m\u001b[0m\n\u001b[1;32m     50\u001b[0m             \u001b[0;32melse\u001b[0m\u001b[0;34m:\u001b[0m\u001b[0;34m\u001b[0m\u001b[0;34m\u001b[0m\u001b[0m\n\u001b[0;32m---> 51\u001b[0;31m                 \u001b[0mdata\u001b[0m \u001b[0;34m=\u001b[0m \u001b[0;34m[\u001b[0m\u001b[0mself\u001b[0m\u001b[0;34m.\u001b[0m\u001b[0mdataset\u001b[0m\u001b[0;34m[\u001b[0m\u001b[0midx\u001b[0m\u001b[0;34m]\u001b[0m \u001b[0;32mfor\u001b[0m \u001b[0midx\u001b[0m \u001b[0;32min\u001b[0m \u001b[0mpossibly_batched_index\u001b[0m\u001b[0;34m]\u001b[0m\u001b[0;34m\u001b[0m\u001b[0;34m\u001b[0m\u001b[0m\n\u001b[0m\u001b[1;32m     52\u001b[0m         \u001b[0;32melse\u001b[0m\u001b[0;34m:\u001b[0m\u001b[0;34m\u001b[0m\u001b[0;34m\u001b[0m\u001b[0m\n\u001b[1;32m     53\u001b[0m             \u001b[0mdata\u001b[0m \u001b[0;34m=\u001b[0m \u001b[0mself\u001b[0m\u001b[0;34m.\u001b[0m\u001b[0mdataset\u001b[0m\u001b[0;34m[\u001b[0m\u001b[0mpossibly_batched_index\u001b[0m\u001b[0;34m]\u001b[0m\u001b[0;34m\u001b[0m\u001b[0;34m\u001b[0m\u001b[0m\n",
            "\u001b[0;32m<ipython-input-15-e72f8427b54e>\u001b[0m in \u001b[0;36m__getitem__\u001b[0;34m(self, index)\u001b[0m\n\u001b[1;32m     19\u001b[0m \u001b[0;34m\u001b[0m\u001b[0m\n\u001b[1;32m     20\u001b[0m         \u001b[0;31m# Görüntüleri PIL.Image formatına dönüştürün\u001b[0m\u001b[0;34m\u001b[0m\u001b[0;34m\u001b[0m\u001b[0m\n\u001b[0;32m---> 21\u001b[0;31m         \u001b[0mpil_frame1\u001b[0m \u001b[0;34m=\u001b[0m \u001b[0mImage\u001b[0m\u001b[0;34m.\u001b[0m\u001b[0mfromarray\u001b[0m\u001b[0;34m(\u001b[0m\u001b[0mframe1\u001b[0m\u001b[0;34m)\u001b[0m\u001b[0;34m\u001b[0m\u001b[0;34m\u001b[0m\u001b[0m\n\u001b[0m\u001b[1;32m     22\u001b[0m         \u001b[0mpil_frame2\u001b[0m \u001b[0;34m=\u001b[0m \u001b[0mImage\u001b[0m\u001b[0;34m.\u001b[0m\u001b[0mfromarray\u001b[0m\u001b[0;34m(\u001b[0m\u001b[0mframe2\u001b[0m\u001b[0;34m)\u001b[0m\u001b[0;34m\u001b[0m\u001b[0;34m\u001b[0m\u001b[0m\n\u001b[1;32m     23\u001b[0m \u001b[0;34m\u001b[0m\u001b[0m\n",
            "\u001b[0;32m/usr/local/lib/python3.10/dist-packages/PIL/Image.py\u001b[0m in \u001b[0;36mfromarray\u001b[0;34m(obj, mode)\u001b[0m\n\u001b[1;32m   2854\u001b[0m             \u001b[0mobj\u001b[0m \u001b[0;34m=\u001b[0m \u001b[0mobj\u001b[0m\u001b[0;34m.\u001b[0m\u001b[0mtostring\u001b[0m\u001b[0;34m(\u001b[0m\u001b[0;34m)\u001b[0m\u001b[0;34m\u001b[0m\u001b[0;34m\u001b[0m\u001b[0m\n\u001b[1;32m   2855\u001b[0m \u001b[0;34m\u001b[0m\u001b[0m\n\u001b[0;32m-> 2856\u001b[0;31m     \u001b[0;32mreturn\u001b[0m \u001b[0mfrombuffer\u001b[0m\u001b[0;34m(\u001b[0m\u001b[0mmode\u001b[0m\u001b[0;34m,\u001b[0m \u001b[0msize\u001b[0m\u001b[0;34m,\u001b[0m \u001b[0mobj\u001b[0m\u001b[0;34m,\u001b[0m \u001b[0;34m\"raw\"\u001b[0m\u001b[0;34m,\u001b[0m \u001b[0mrawmode\u001b[0m\u001b[0;34m,\u001b[0m \u001b[0;36m0\u001b[0m\u001b[0;34m,\u001b[0m \u001b[0;36m1\u001b[0m\u001b[0;34m)\u001b[0m\u001b[0;34m\u001b[0m\u001b[0;34m\u001b[0m\u001b[0m\n\u001b[0m\u001b[1;32m   2857\u001b[0m \u001b[0;34m\u001b[0m\u001b[0m\n\u001b[1;32m   2858\u001b[0m \u001b[0;34m\u001b[0m\u001b[0m\n",
            "\u001b[0;32m/usr/local/lib/python3.10/dist-packages/PIL/Image.py\u001b[0m in \u001b[0;36mfrombuffer\u001b[0;34m(mode, size, data, decoder_name, *args)\u001b[0m\n\u001b[1;32m   2794\u001b[0m             \u001b[0;32mreturn\u001b[0m \u001b[0mim\u001b[0m\u001b[0;34m\u001b[0m\u001b[0;34m\u001b[0m\u001b[0m\n\u001b[1;32m   2795\u001b[0m \u001b[0;34m\u001b[0m\u001b[0m\n\u001b[0;32m-> 2796\u001b[0;31m     \u001b[0;32mreturn\u001b[0m \u001b[0mfrombytes\u001b[0m\u001b[0;34m(\u001b[0m\u001b[0mmode\u001b[0m\u001b[0;34m,\u001b[0m \u001b[0msize\u001b[0m\u001b[0;34m,\u001b[0m \u001b[0mdata\u001b[0m\u001b[0;34m,\u001b[0m \u001b[0mdecoder_name\u001b[0m\u001b[0;34m,\u001b[0m \u001b[0margs\u001b[0m\u001b[0;34m)\u001b[0m\u001b[0;34m\u001b[0m\u001b[0;34m\u001b[0m\u001b[0m\n\u001b[0m\u001b[1;32m   2797\u001b[0m \u001b[0;34m\u001b[0m\u001b[0m\n\u001b[1;32m   2798\u001b[0m \u001b[0;34m\u001b[0m\u001b[0m\n",
            "\u001b[0;32m/usr/local/lib/python3.10/dist-packages/PIL/Image.py\u001b[0m in \u001b[0;36mfrombytes\u001b[0;34m(mode, size, data, decoder_name, *args)\u001b[0m\n\u001b[1;32m   2740\u001b[0m \u001b[0;34m\u001b[0m\u001b[0m\n\u001b[1;32m   2741\u001b[0m     \u001b[0mim\u001b[0m \u001b[0;34m=\u001b[0m \u001b[0mnew\u001b[0m\u001b[0;34m(\u001b[0m\u001b[0mmode\u001b[0m\u001b[0;34m,\u001b[0m \u001b[0msize\u001b[0m\u001b[0;34m)\u001b[0m\u001b[0;34m\u001b[0m\u001b[0;34m\u001b[0m\u001b[0m\n\u001b[0;32m-> 2742\u001b[0;31m     \u001b[0mim\u001b[0m\u001b[0;34m.\u001b[0m\u001b[0mfrombytes\u001b[0m\u001b[0;34m(\u001b[0m\u001b[0mdata\u001b[0m\u001b[0;34m,\u001b[0m \u001b[0mdecoder_name\u001b[0m\u001b[0;34m,\u001b[0m \u001b[0margs\u001b[0m\u001b[0;34m)\u001b[0m\u001b[0;34m\u001b[0m\u001b[0;34m\u001b[0m\u001b[0m\n\u001b[0m\u001b[1;32m   2743\u001b[0m     \u001b[0;32mreturn\u001b[0m \u001b[0mim\u001b[0m\u001b[0;34m\u001b[0m\u001b[0;34m\u001b[0m\u001b[0m\n\u001b[1;32m   2744\u001b[0m \u001b[0;34m\u001b[0m\u001b[0m\n",
            "\u001b[0;32m/usr/local/lib/python3.10/dist-packages/PIL/Image.py\u001b[0m in \u001b[0;36mfrombytes\u001b[0;34m(self, data, decoder_name, *args)\u001b[0m\n\u001b[1;32m    804\u001b[0m         \u001b[0;31m# unpack data\u001b[0m\u001b[0;34m\u001b[0m\u001b[0;34m\u001b[0m\u001b[0m\n\u001b[1;32m    805\u001b[0m         \u001b[0md\u001b[0m \u001b[0;34m=\u001b[0m \u001b[0m_getdecoder\u001b[0m\u001b[0;34m(\u001b[0m\u001b[0mself\u001b[0m\u001b[0;34m.\u001b[0m\u001b[0mmode\u001b[0m\u001b[0;34m,\u001b[0m \u001b[0mdecoder_name\u001b[0m\u001b[0;34m,\u001b[0m \u001b[0margs\u001b[0m\u001b[0;34m)\u001b[0m\u001b[0;34m\u001b[0m\u001b[0;34m\u001b[0m\u001b[0m\n\u001b[0;32m--> 806\u001b[0;31m         \u001b[0md\u001b[0m\u001b[0;34m.\u001b[0m\u001b[0msetimage\u001b[0m\u001b[0;34m(\u001b[0m\u001b[0mself\u001b[0m\u001b[0;34m.\u001b[0m\u001b[0mim\u001b[0m\u001b[0;34m)\u001b[0m\u001b[0;34m\u001b[0m\u001b[0;34m\u001b[0m\u001b[0m\n\u001b[0m\u001b[1;32m    807\u001b[0m         \u001b[0ms\u001b[0m \u001b[0;34m=\u001b[0m \u001b[0md\u001b[0m\u001b[0;34m.\u001b[0m\u001b[0mdecode\u001b[0m\u001b[0;34m(\u001b[0m\u001b[0mdata\u001b[0m\u001b[0;34m)\u001b[0m\u001b[0;34m\u001b[0m\u001b[0;34m\u001b[0m\u001b[0m\n\u001b[1;32m    808\u001b[0m \u001b[0;34m\u001b[0m\u001b[0m\n",
            "\u001b[0;31mValueError\u001b[0m: tile cannot extend outside image"
          ]
        }
      ]
    },
    {
      "cell_type": "code",
      "source": [
        "import torch\n",
        "from torchvision.models import resnet34\n",
        "\n",
        "# Install the pre-trained ResNet-34 model\n",
        "model = resnet34(pretrained=True)\n",
        "\n",
        "# Train Model\n",
        "criterion = torch.nn.MSELoss()  # Kayıp fonksiyonu olarak MSE kullanıyoruz\n",
        "optimizer = torch.optim.SGD(model.parameters(), lr=0.001)  # SGD optimizerini kullanıyoruz\n",
        "\n",
        "epoch=10 #train for 10 epochs\n",
        "for epoch in range(epoch):\n",
        "    running_loss = 0.0\n",
        "\n",
        "    for frame1, frame2, frame3 in data_loader:\n",
        "        optimizer.zero_grad()\n",
        "\n",
        "        # Clipping and feature extraction for the first frame\n",
        "        clipped_frame1 = torch.clamp(frame1, 0, 1)  # Görüntüyü [0, 1] aralığında kırpmak\n",
        "        features1 = model(clipped_frame1)  # Feature extraction\n",
        "\n",
        "        # Clipping and feature extraction for the second frame\n",
        "        clipped_frame2 = torch.clamp(frame2, 0, 1)  # Görüntüyü [0, 1] aralığında kırpmak\n",
        "        features2 = model(clipped_frame2)  # Feature extraction\n",
        "\n",
        "        # Combining feature vectors\n",
        "        combined_features = torch.cat((features1, features2), dim=1)\n",
        "\n",
        "        # Resize predictions to match the size of target frame\n",
        "        resized_frame3 = torch.nn.functional.interpolate(frame3, size=(frame2.size(2), frame2.size(3)), mode='bilinear')\n",
        "\n",
        "        # Loss calculation and back propagation\n",
        "        loss = criterion(combined_features, resized_frame3)\n",
        "        loss.backward()\n",
        "        optimizer.step()\n",
        "\n",
        "        running_loss += loss.item()\n",
        "\n",
        "    epoch_loss = running_loss / len(data_loader)\n",
        "    print(f\"Epoch {epoch+1} Loss: {epoch_loss}\")\n"
      ],
      "metadata": {
        "colab": {
          "base_uri": "https://localhost:8080/",
          "height": 435
        },
        "id": "bLfdopDbJWAH",
        "outputId": "87a29418-d2fd-457d-d1d7-c6192bcfa4ee"
      },
      "execution_count": 42,
      "outputs": [
        {
          "output_type": "stream",
          "name": "stderr",
          "text": [
            "/usr/local/lib/python3.10/dist-packages/torch/nn/modules/loss.py:536: UserWarning: Using a target size (torch.Size([16, 3, 225, 225])) that is different to the input size (torch.Size([16, 2000])). This will likely lead to incorrect results due to broadcasting. Please ensure they have the same size.\n",
            "  return F.mse_loss(input, target, reduction=self.reduction)\n"
          ]
        },
        {
          "output_type": "error",
          "ename": "RuntimeError",
          "evalue": "ignored",
          "traceback": [
            "\u001b[0;31m---------------------------------------------------------------------------\u001b[0m",
            "\u001b[0;31mRuntimeError\u001b[0m                              Traceback (most recent call last)",
            "\u001b[0;32m<ipython-input-42-8f3ff25f20bb>\u001b[0m in \u001b[0;36m<cell line: 12>\u001b[0;34m()\u001b[0m\n\u001b[1;32m     31\u001b[0m \u001b[0;34m\u001b[0m\u001b[0m\n\u001b[1;32m     32\u001b[0m         \u001b[0;31m# Loss calculation and back propagation\u001b[0m\u001b[0;34m\u001b[0m\u001b[0;34m\u001b[0m\u001b[0m\n\u001b[0;32m---> 33\u001b[0;31m         \u001b[0mloss\u001b[0m \u001b[0;34m=\u001b[0m \u001b[0mcriterion\u001b[0m\u001b[0;34m(\u001b[0m\u001b[0mcombined_features\u001b[0m\u001b[0;34m,\u001b[0m \u001b[0mresized_frame3\u001b[0m\u001b[0;34m)\u001b[0m\u001b[0;34m\u001b[0m\u001b[0;34m\u001b[0m\u001b[0m\n\u001b[0m\u001b[1;32m     34\u001b[0m         \u001b[0mloss\u001b[0m\u001b[0;34m.\u001b[0m\u001b[0mbackward\u001b[0m\u001b[0;34m(\u001b[0m\u001b[0;34m)\u001b[0m\u001b[0;34m\u001b[0m\u001b[0;34m\u001b[0m\u001b[0m\n\u001b[1;32m     35\u001b[0m         \u001b[0moptimizer\u001b[0m\u001b[0;34m.\u001b[0m\u001b[0mstep\u001b[0m\u001b[0;34m(\u001b[0m\u001b[0;34m)\u001b[0m\u001b[0;34m\u001b[0m\u001b[0;34m\u001b[0m\u001b[0m\n",
            "\u001b[0;32m/usr/local/lib/python3.10/dist-packages/torch/nn/modules/module.py\u001b[0m in \u001b[0;36m_call_impl\u001b[0;34m(self, *args, **kwargs)\u001b[0m\n\u001b[1;32m   1499\u001b[0m                 \u001b[0;32mor\u001b[0m \u001b[0m_global_backward_pre_hooks\u001b[0m \u001b[0;32mor\u001b[0m \u001b[0m_global_backward_hooks\u001b[0m\u001b[0;34m\u001b[0m\u001b[0;34m\u001b[0m\u001b[0m\n\u001b[1;32m   1500\u001b[0m                 or _global_forward_hooks or _global_forward_pre_hooks):\n\u001b[0;32m-> 1501\u001b[0;31m             \u001b[0;32mreturn\u001b[0m \u001b[0mforward_call\u001b[0m\u001b[0;34m(\u001b[0m\u001b[0;34m*\u001b[0m\u001b[0margs\u001b[0m\u001b[0;34m,\u001b[0m \u001b[0;34m**\u001b[0m\u001b[0mkwargs\u001b[0m\u001b[0;34m)\u001b[0m\u001b[0;34m\u001b[0m\u001b[0;34m\u001b[0m\u001b[0m\n\u001b[0m\u001b[1;32m   1502\u001b[0m         \u001b[0;31m# Do not call functions when jit is used\u001b[0m\u001b[0;34m\u001b[0m\u001b[0;34m\u001b[0m\u001b[0m\n\u001b[1;32m   1503\u001b[0m         \u001b[0mfull_backward_hooks\u001b[0m\u001b[0;34m,\u001b[0m \u001b[0mnon_full_backward_hooks\u001b[0m \u001b[0;34m=\u001b[0m \u001b[0;34m[\u001b[0m\u001b[0;34m]\u001b[0m\u001b[0;34m,\u001b[0m \u001b[0;34m[\u001b[0m\u001b[0;34m]\u001b[0m\u001b[0;34m\u001b[0m\u001b[0;34m\u001b[0m\u001b[0m\n",
            "\u001b[0;32m/usr/local/lib/python3.10/dist-packages/torch/nn/modules/loss.py\u001b[0m in \u001b[0;36mforward\u001b[0;34m(self, input, target)\u001b[0m\n\u001b[1;32m    534\u001b[0m \u001b[0;34m\u001b[0m\u001b[0m\n\u001b[1;32m    535\u001b[0m     \u001b[0;32mdef\u001b[0m \u001b[0mforward\u001b[0m\u001b[0;34m(\u001b[0m\u001b[0mself\u001b[0m\u001b[0;34m,\u001b[0m \u001b[0minput\u001b[0m\u001b[0;34m:\u001b[0m \u001b[0mTensor\u001b[0m\u001b[0;34m,\u001b[0m \u001b[0mtarget\u001b[0m\u001b[0;34m:\u001b[0m \u001b[0mTensor\u001b[0m\u001b[0;34m)\u001b[0m \u001b[0;34m->\u001b[0m \u001b[0mTensor\u001b[0m\u001b[0;34m:\u001b[0m\u001b[0;34m\u001b[0m\u001b[0;34m\u001b[0m\u001b[0m\n\u001b[0;32m--> 536\u001b[0;31m         \u001b[0;32mreturn\u001b[0m \u001b[0mF\u001b[0m\u001b[0;34m.\u001b[0m\u001b[0mmse_loss\u001b[0m\u001b[0;34m(\u001b[0m\u001b[0minput\u001b[0m\u001b[0;34m,\u001b[0m \u001b[0mtarget\u001b[0m\u001b[0;34m,\u001b[0m \u001b[0mreduction\u001b[0m\u001b[0;34m=\u001b[0m\u001b[0mself\u001b[0m\u001b[0;34m.\u001b[0m\u001b[0mreduction\u001b[0m\u001b[0;34m)\u001b[0m\u001b[0;34m\u001b[0m\u001b[0;34m\u001b[0m\u001b[0m\n\u001b[0m\u001b[1;32m    537\u001b[0m \u001b[0;34m\u001b[0m\u001b[0m\n\u001b[1;32m    538\u001b[0m \u001b[0;34m\u001b[0m\u001b[0m\n",
            "\u001b[0;32m/usr/local/lib/python3.10/dist-packages/torch/nn/functional.py\u001b[0m in \u001b[0;36mmse_loss\u001b[0;34m(input, target, size_average, reduce, reduction)\u001b[0m\n\u001b[1;32m   3292\u001b[0m         \u001b[0mreduction\u001b[0m \u001b[0;34m=\u001b[0m \u001b[0m_Reduction\u001b[0m\u001b[0;34m.\u001b[0m\u001b[0mlegacy_get_string\u001b[0m\u001b[0;34m(\u001b[0m\u001b[0msize_average\u001b[0m\u001b[0;34m,\u001b[0m \u001b[0mreduce\u001b[0m\u001b[0;34m)\u001b[0m\u001b[0;34m\u001b[0m\u001b[0;34m\u001b[0m\u001b[0m\n\u001b[1;32m   3293\u001b[0m \u001b[0;34m\u001b[0m\u001b[0m\n\u001b[0;32m-> 3294\u001b[0;31m     \u001b[0mexpanded_input\u001b[0m\u001b[0;34m,\u001b[0m \u001b[0mexpanded_target\u001b[0m \u001b[0;34m=\u001b[0m \u001b[0mtorch\u001b[0m\u001b[0;34m.\u001b[0m\u001b[0mbroadcast_tensors\u001b[0m\u001b[0;34m(\u001b[0m\u001b[0minput\u001b[0m\u001b[0;34m,\u001b[0m \u001b[0mtarget\u001b[0m\u001b[0;34m)\u001b[0m\u001b[0;34m\u001b[0m\u001b[0;34m\u001b[0m\u001b[0m\n\u001b[0m\u001b[1;32m   3295\u001b[0m     \u001b[0;32mreturn\u001b[0m \u001b[0mtorch\u001b[0m\u001b[0;34m.\u001b[0m\u001b[0m_C\u001b[0m\u001b[0;34m.\u001b[0m\u001b[0m_nn\u001b[0m\u001b[0;34m.\u001b[0m\u001b[0mmse_loss\u001b[0m\u001b[0;34m(\u001b[0m\u001b[0mexpanded_input\u001b[0m\u001b[0;34m,\u001b[0m \u001b[0mexpanded_target\u001b[0m\u001b[0;34m,\u001b[0m \u001b[0m_Reduction\u001b[0m\u001b[0;34m.\u001b[0m\u001b[0mget_enum\u001b[0m\u001b[0;34m(\u001b[0m\u001b[0mreduction\u001b[0m\u001b[0;34m)\u001b[0m\u001b[0;34m)\u001b[0m\u001b[0;34m\u001b[0m\u001b[0;34m\u001b[0m\u001b[0m\n\u001b[1;32m   3296\u001b[0m \u001b[0;34m\u001b[0m\u001b[0m\n",
            "\u001b[0;32m/usr/local/lib/python3.10/dist-packages/torch/functional.py\u001b[0m in \u001b[0;36mbroadcast_tensors\u001b[0;34m(*tensors)\u001b[0m\n\u001b[1;32m     72\u001b[0m     \u001b[0;32mif\u001b[0m \u001b[0mhas_torch_function\u001b[0m\u001b[0;34m(\u001b[0m\u001b[0mtensors\u001b[0m\u001b[0;34m)\u001b[0m\u001b[0;34m:\u001b[0m\u001b[0;34m\u001b[0m\u001b[0;34m\u001b[0m\u001b[0m\n\u001b[1;32m     73\u001b[0m         \u001b[0;32mreturn\u001b[0m \u001b[0mhandle_torch_function\u001b[0m\u001b[0;34m(\u001b[0m\u001b[0mbroadcast_tensors\u001b[0m\u001b[0;34m,\u001b[0m \u001b[0mtensors\u001b[0m\u001b[0;34m,\u001b[0m \u001b[0;34m*\u001b[0m\u001b[0mtensors\u001b[0m\u001b[0;34m)\u001b[0m\u001b[0;34m\u001b[0m\u001b[0;34m\u001b[0m\u001b[0m\n\u001b[0;32m---> 74\u001b[0;31m     \u001b[0;32mreturn\u001b[0m \u001b[0m_VF\u001b[0m\u001b[0;34m.\u001b[0m\u001b[0mbroadcast_tensors\u001b[0m\u001b[0;34m(\u001b[0m\u001b[0mtensors\u001b[0m\u001b[0;34m)\u001b[0m  \u001b[0;31m# type: ignore[attr-defined]\u001b[0m\u001b[0;34m\u001b[0m\u001b[0;34m\u001b[0m\u001b[0m\n\u001b[0m\u001b[1;32m     75\u001b[0m \u001b[0;34m\u001b[0m\u001b[0m\n\u001b[1;32m     76\u001b[0m \u001b[0;34m\u001b[0m\u001b[0m\n",
            "\u001b[0;31mRuntimeError\u001b[0m: The size of tensor a (2000) must match the size of tensor b (225) at non-singleton dimension 3"
          ]
        }
      ]
    },
    {
      "cell_type": "code",
      "source": [
        "import torch\n",
        "from torchvision.models import resnet34\n",
        "\n",
        "# Install the pre-trained ResNet-34 model\n",
        "model = resnet34(pretrained=True)\n",
        "feature_extractor = torch.nn.Sequential(*list(model.children())[:-1])\n",
        "\n",
        "# Train Model\n",
        "criterion = torch.nn.MSELoss()  # Kayıp fonksiyonu olarak MSE kullanıyoruz\n",
        "optimizer = torch.optim.SGD(model.parameters(), lr=0.001)  # SGD optimizerini kullanıyoruz\n",
        "\n",
        "epoch=10 #train for 10 epochs\n",
        "for epoch in range(epoch):\n",
        "    running_loss = 0.0\n",
        "\n",
        "    for frame1, frame2, frame3 in data_loader:\n",
        "        optimizer.zero_grad()\n",
        "\n",
        "        # Clipping and feature extraction for the first frame\n",
        "\n",
        "        features1 = model(frame1)  # Feature extraction\n",
        "\n",
        "\n",
        "        features2 = model(frame2)  # Feature extraction\n",
        "\n",
        "        # Combining feature vectors\n",
        "        combined_features = torch.cat((features1, features2), dim=1)\n",
        "        print(combined_features.shape)\n",
        "        print(frame3.shape)\n",
        "        #num_features = combined_features.size(1)\n",
        "        #fc = torch.nn.Linear(num_features, num_classes)\n",
        "        # Predictions\n",
        "        predictions = combined_features\n",
        "        print(predictions)\n",
        "\n",
        "\n",
        "        # lass calculation and back propagation\n",
        "        loss = criterion(combined_features, frame3)\n",
        "        loss.backward()\n",
        "\n",
        "\n",
        "        optimizer.step()\n",
        "\n",
        "        running_loss += loss.item()\n",
        "\n",
        "    epoch_loss = running_loss / len(data_loader)\n",
        "    print(f\"Epoch {epoch+1} Loss: {epoch_loss}\")\n"
      ],
      "metadata": {
        "colab": {
          "base_uri": "https://localhost:8080/",
          "height": 553
        },
        "id": "48Jda0_EJz0D",
        "outputId": "0e2a1e4d-48d5-48c1-f615-60956a818003"
      },
      "execution_count": 46,
      "outputs": [
        {
          "output_type": "stream",
          "name": "stdout",
          "text": [
            "torch.Size([16, 2000])\n",
            "torch.Size([16, 3, 225, 225])\n",
            "tensor([[ 2.7168,  2.5712, -0.4412,  ..., -2.6682,  2.7235,  2.0518],\n",
            "        [-1.0332, -1.7125, -0.6044,  ..., -3.0836,  0.3117,  0.4884],\n",
            "        [ 0.7137,  0.9680,  0.3239,  ...,  2.3345,  0.3345, -0.2982],\n",
            "        ...,\n",
            "        [-1.5857, -0.5992, -0.2391,  ..., -2.6184,  3.5763,  3.8493],\n",
            "        [-1.0646, -2.0272, -0.3754,  ...,  0.2550,  1.1468,  1.7144],\n",
            "        [-1.8155, -3.1302,  0.4117,  ...,  1.1284,  0.1644,  0.5099]],\n",
            "       grad_fn=<CatBackward0>)\n"
          ]
        },
        {
          "output_type": "error",
          "ename": "RuntimeError",
          "evalue": "ignored",
          "traceback": [
            "\u001b[0;31m---------------------------------------------------------------------------\u001b[0m",
            "\u001b[0;31mRuntimeError\u001b[0m                              Traceback (most recent call last)",
            "\u001b[0;32m<ipython-input-46-ad39496eca3e>\u001b[0m in \u001b[0;36m<cell line: 13>\u001b[0;34m()\u001b[0m\n\u001b[1;32m     36\u001b[0m \u001b[0;34m\u001b[0m\u001b[0m\n\u001b[1;32m     37\u001b[0m         \u001b[0;31m# lass calculation and back propagation\u001b[0m\u001b[0;34m\u001b[0m\u001b[0;34m\u001b[0m\u001b[0m\n\u001b[0;32m---> 38\u001b[0;31m         \u001b[0mloss\u001b[0m \u001b[0;34m=\u001b[0m \u001b[0mcriterion\u001b[0m\u001b[0;34m(\u001b[0m\u001b[0mcombined_features\u001b[0m\u001b[0;34m,\u001b[0m \u001b[0mframe3\u001b[0m\u001b[0;34m)\u001b[0m\u001b[0;34m\u001b[0m\u001b[0;34m\u001b[0m\u001b[0m\n\u001b[0m\u001b[1;32m     39\u001b[0m         \u001b[0mloss\u001b[0m\u001b[0;34m.\u001b[0m\u001b[0mbackward\u001b[0m\u001b[0;34m(\u001b[0m\u001b[0;34m)\u001b[0m\u001b[0;34m\u001b[0m\u001b[0;34m\u001b[0m\u001b[0m\n\u001b[1;32m     40\u001b[0m \u001b[0;34m\u001b[0m\u001b[0m\n",
            "\u001b[0;32m/usr/local/lib/python3.10/dist-packages/torch/nn/modules/module.py\u001b[0m in \u001b[0;36m_call_impl\u001b[0;34m(self, *args, **kwargs)\u001b[0m\n\u001b[1;32m   1499\u001b[0m                 \u001b[0;32mor\u001b[0m \u001b[0m_global_backward_pre_hooks\u001b[0m \u001b[0;32mor\u001b[0m \u001b[0m_global_backward_hooks\u001b[0m\u001b[0;34m\u001b[0m\u001b[0;34m\u001b[0m\u001b[0m\n\u001b[1;32m   1500\u001b[0m                 or _global_forward_hooks or _global_forward_pre_hooks):\n\u001b[0;32m-> 1501\u001b[0;31m             \u001b[0;32mreturn\u001b[0m \u001b[0mforward_call\u001b[0m\u001b[0;34m(\u001b[0m\u001b[0;34m*\u001b[0m\u001b[0margs\u001b[0m\u001b[0;34m,\u001b[0m \u001b[0;34m**\u001b[0m\u001b[0mkwargs\u001b[0m\u001b[0;34m)\u001b[0m\u001b[0;34m\u001b[0m\u001b[0;34m\u001b[0m\u001b[0m\n\u001b[0m\u001b[1;32m   1502\u001b[0m         \u001b[0;31m# Do not call functions when jit is used\u001b[0m\u001b[0;34m\u001b[0m\u001b[0;34m\u001b[0m\u001b[0m\n\u001b[1;32m   1503\u001b[0m         \u001b[0mfull_backward_hooks\u001b[0m\u001b[0;34m,\u001b[0m \u001b[0mnon_full_backward_hooks\u001b[0m \u001b[0;34m=\u001b[0m \u001b[0;34m[\u001b[0m\u001b[0;34m]\u001b[0m\u001b[0;34m,\u001b[0m \u001b[0;34m[\u001b[0m\u001b[0;34m]\u001b[0m\u001b[0;34m\u001b[0m\u001b[0;34m\u001b[0m\u001b[0m\n",
            "\u001b[0;32m/usr/local/lib/python3.10/dist-packages/torch/nn/modules/loss.py\u001b[0m in \u001b[0;36mforward\u001b[0;34m(self, input, target)\u001b[0m\n\u001b[1;32m    534\u001b[0m \u001b[0;34m\u001b[0m\u001b[0m\n\u001b[1;32m    535\u001b[0m     \u001b[0;32mdef\u001b[0m \u001b[0mforward\u001b[0m\u001b[0;34m(\u001b[0m\u001b[0mself\u001b[0m\u001b[0;34m,\u001b[0m \u001b[0minput\u001b[0m\u001b[0;34m:\u001b[0m \u001b[0mTensor\u001b[0m\u001b[0;34m,\u001b[0m \u001b[0mtarget\u001b[0m\u001b[0;34m:\u001b[0m \u001b[0mTensor\u001b[0m\u001b[0;34m)\u001b[0m \u001b[0;34m->\u001b[0m \u001b[0mTensor\u001b[0m\u001b[0;34m:\u001b[0m\u001b[0;34m\u001b[0m\u001b[0;34m\u001b[0m\u001b[0m\n\u001b[0;32m--> 536\u001b[0;31m         \u001b[0;32mreturn\u001b[0m \u001b[0mF\u001b[0m\u001b[0;34m.\u001b[0m\u001b[0mmse_loss\u001b[0m\u001b[0;34m(\u001b[0m\u001b[0minput\u001b[0m\u001b[0;34m,\u001b[0m \u001b[0mtarget\u001b[0m\u001b[0;34m,\u001b[0m \u001b[0mreduction\u001b[0m\u001b[0;34m=\u001b[0m\u001b[0mself\u001b[0m\u001b[0;34m.\u001b[0m\u001b[0mreduction\u001b[0m\u001b[0;34m)\u001b[0m\u001b[0;34m\u001b[0m\u001b[0;34m\u001b[0m\u001b[0m\n\u001b[0m\u001b[1;32m    537\u001b[0m \u001b[0;34m\u001b[0m\u001b[0m\n\u001b[1;32m    538\u001b[0m \u001b[0;34m\u001b[0m\u001b[0m\n",
            "\u001b[0;32m/usr/local/lib/python3.10/dist-packages/torch/nn/functional.py\u001b[0m in \u001b[0;36mmse_loss\u001b[0;34m(input, target, size_average, reduce, reduction)\u001b[0m\n\u001b[1;32m   3292\u001b[0m         \u001b[0mreduction\u001b[0m \u001b[0;34m=\u001b[0m \u001b[0m_Reduction\u001b[0m\u001b[0;34m.\u001b[0m\u001b[0mlegacy_get_string\u001b[0m\u001b[0;34m(\u001b[0m\u001b[0msize_average\u001b[0m\u001b[0;34m,\u001b[0m \u001b[0mreduce\u001b[0m\u001b[0;34m)\u001b[0m\u001b[0;34m\u001b[0m\u001b[0;34m\u001b[0m\u001b[0m\n\u001b[1;32m   3293\u001b[0m \u001b[0;34m\u001b[0m\u001b[0m\n\u001b[0;32m-> 3294\u001b[0;31m     \u001b[0mexpanded_input\u001b[0m\u001b[0;34m,\u001b[0m \u001b[0mexpanded_target\u001b[0m \u001b[0;34m=\u001b[0m \u001b[0mtorch\u001b[0m\u001b[0;34m.\u001b[0m\u001b[0mbroadcast_tensors\u001b[0m\u001b[0;34m(\u001b[0m\u001b[0minput\u001b[0m\u001b[0;34m,\u001b[0m \u001b[0mtarget\u001b[0m\u001b[0;34m)\u001b[0m\u001b[0;34m\u001b[0m\u001b[0;34m\u001b[0m\u001b[0m\n\u001b[0m\u001b[1;32m   3295\u001b[0m     \u001b[0;32mreturn\u001b[0m \u001b[0mtorch\u001b[0m\u001b[0;34m.\u001b[0m\u001b[0m_C\u001b[0m\u001b[0;34m.\u001b[0m\u001b[0m_nn\u001b[0m\u001b[0;34m.\u001b[0m\u001b[0mmse_loss\u001b[0m\u001b[0;34m(\u001b[0m\u001b[0mexpanded_input\u001b[0m\u001b[0;34m,\u001b[0m \u001b[0mexpanded_target\u001b[0m\u001b[0;34m,\u001b[0m \u001b[0m_Reduction\u001b[0m\u001b[0;34m.\u001b[0m\u001b[0mget_enum\u001b[0m\u001b[0;34m(\u001b[0m\u001b[0mreduction\u001b[0m\u001b[0;34m)\u001b[0m\u001b[0;34m)\u001b[0m\u001b[0;34m\u001b[0m\u001b[0;34m\u001b[0m\u001b[0m\n\u001b[1;32m   3296\u001b[0m \u001b[0;34m\u001b[0m\u001b[0m\n",
            "\u001b[0;32m/usr/local/lib/python3.10/dist-packages/torch/functional.py\u001b[0m in \u001b[0;36mbroadcast_tensors\u001b[0;34m(*tensors)\u001b[0m\n\u001b[1;32m     72\u001b[0m     \u001b[0;32mif\u001b[0m \u001b[0mhas_torch_function\u001b[0m\u001b[0;34m(\u001b[0m\u001b[0mtensors\u001b[0m\u001b[0;34m)\u001b[0m\u001b[0;34m:\u001b[0m\u001b[0;34m\u001b[0m\u001b[0;34m\u001b[0m\u001b[0m\n\u001b[1;32m     73\u001b[0m         \u001b[0;32mreturn\u001b[0m \u001b[0mhandle_torch_function\u001b[0m\u001b[0;34m(\u001b[0m\u001b[0mbroadcast_tensors\u001b[0m\u001b[0;34m,\u001b[0m \u001b[0mtensors\u001b[0m\u001b[0;34m,\u001b[0m \u001b[0;34m*\u001b[0m\u001b[0mtensors\u001b[0m\u001b[0;34m)\u001b[0m\u001b[0;34m\u001b[0m\u001b[0;34m\u001b[0m\u001b[0m\n\u001b[0;32m---> 74\u001b[0;31m     \u001b[0;32mreturn\u001b[0m \u001b[0m_VF\u001b[0m\u001b[0;34m.\u001b[0m\u001b[0mbroadcast_tensors\u001b[0m\u001b[0;34m(\u001b[0m\u001b[0mtensors\u001b[0m\u001b[0;34m)\u001b[0m  \u001b[0;31m# type: ignore[attr-defined]\u001b[0m\u001b[0;34m\u001b[0m\u001b[0;34m\u001b[0m\u001b[0m\n\u001b[0m\u001b[1;32m     75\u001b[0m \u001b[0;34m\u001b[0m\u001b[0m\n\u001b[1;32m     76\u001b[0m \u001b[0;34m\u001b[0m\u001b[0m\n",
            "\u001b[0;31mRuntimeError\u001b[0m: The size of tensor a (2000) must match the size of tensor b (225) at non-singleton dimension 3"
          ]
        }
      ]
    },
    {
      "cell_type": "code",
      "source": [],
      "metadata": {
        "id": "-QoC8GJrJWtB"
      },
      "execution_count": null,
      "outputs": []
    },
    {
      "cell_type": "code",
      "source": [],
      "metadata": {
        "id": "aHPiYoO9JWv4"
      },
      "execution_count": null,
      "outputs": []
    },
    {
      "cell_type": "code",
      "source": [],
      "metadata": {
        "id": "OkgHeToSJWzj"
      },
      "execution_count": null,
      "outputs": []
    },
    {
      "cell_type": "code",
      "source": [],
      "metadata": {
        "id": "kzs6sx3LJW1d"
      },
      "execution_count": null,
      "outputs": []
    },
    {
      "cell_type": "code",
      "source": [],
      "metadata": {
        "id": "wNTafkx3JW5N"
      },
      "execution_count": null,
      "outputs": []
    },
    {
      "cell_type": "code",
      "source": [],
      "metadata": {
        "id": "5fTkD5mWJW7-"
      },
      "execution_count": null,
      "outputs": []
    },
    {
      "cell_type": "code",
      "source": [],
      "metadata": {
        "id": "NLL9d1QzJW9-"
      },
      "execution_count": null,
      "outputs": []
    },
    {
      "cell_type": "code",
      "source": [
        "cropped_frame1=[]\n",
        "for i in range(10):\n",
        "  cropped_frames=[]\n",
        "  for j in range(len(frame2_path_all[i])):\n",
        "    ground_truth=np.array(list(map(float, bounding_box1_all[i][j].split(','))))\n",
        "    enlarged_bbox = ground_truth * 2  # Bounding box'u 2 kat büyütün\n",
        "    bbox_center = (ground_truth[0] + ground_truth[2] / 2, ground_truth[1] + ground_truth[3] / 2)  # Bounding box'un merkezini hesaplayın\n",
        "    bbox_size = (enlarged_bbox[2], enlarged_bbox[3])  # Bounding box'un boyutunu alın\n",
        "    x1 = int(bbox_center[0] - bbox_size[0] / 2)  # Bounding box'un sol üst köşesinin x koordinatını hesaplayın\n",
        "    y1 = int(bbox_center[1] - bbox_size[1] / 2)  # Bounding box'un sol üst köşesinin y koordinatını hesaplayın\n",
        "    x2 = int(bbox_center[0] + bbox_size[0] / 2)  # Bounding box'un sağ alt köşesinin x koordinatını hesaplayın\n",
        "    y2 = int(bbox_center[1] + bbox_size[1] / 2)  # Bounding box'un sağ alt köşesinin y koordinatını hesaplayın\n",
        "\n",
        "    cropped_frame = frame[y1:y2, x1:x2]\n",
        "    cropped_frames.append(cropped_frame)\n",
        "  print(len(cropped_frames))\n",
        "  cropped_frame1.append(cropped_frames)\n",
        "print(len(cropped_frame1))\n",
        "\n"
      ],
      "metadata": {
        "colab": {
          "base_uri": "https://localhost:8080/"
        },
        "id": "IUz5MtbIxDSi",
        "outputId": "85ecd662-be4e-4df2-88a2-d9de43e21c8c"
      },
      "execution_count": null,
      "outputs": [
        {
          "output_type": "stream",
          "name": "stdout",
          "text": [
            "99\n",
            "99\n",
            "324\n",
            "310\n",
            "40\n",
            "170\n",
            "724\n",
            "338\n",
            "79\n",
            "349\n",
            "10\n"
          ]
        }
      ]
    },
    {
      "cell_type": "code",
      "source": [
        "import torch\n",
        "import torchvision.models as models\n",
        "import torchvision.transforms as transforms\n",
        "from PIL import Image\n",
        "import torch.nn as nn\n",
        "import torch.optim as optim\n",
        "\n",
        "# 1. Eğitim veri yükleyicisi oluşturma\n",
        "# TODO: Eğitim veri yükleyicisini hazırlayın\n",
        "\n",
        "# 2. Frame kırpması\n",
        "def crop_frame(frame, bbox):\n",
        "    x1 = int(bbox[0] - bbox[2] / 2)\n",
        "    y1 = int(bbox[1] - bbox[3] / 2)\n",
        "    x2 = int(bbox[0] + bbox[2] / 2)\n",
        "    y2 = int(bbox[1] + bbox[3] / 2)\n",
        "    return frame[y1:y2, x1:x2]\n",
        "\n",
        "# 3. Pre-trained ResNet-34 modelinin yüklenmesi\n",
        "model = models.resnet34(pretrained=True)\n",
        "model.eval()\n",
        "\n",
        "# 4. Özellik çıkarma\n",
        "def extract_features(image, model):\n",
        "    transform = transforms.Compose([\n",
        "        transforms.Resize(256),\n",
        "        transforms.CenterCrop(224),\n",
        "        transforms.ToTensor(),\n",
        "        transforms.Normalize(mean=[0.485, 0.456, 0.406], std=[0.229, 0.224, 0.225])\n",
        "    ])\n",
        "    input_tensor = transform(image)\n",
        "    input_batch = input_tensor.unsqueeze(0)\n",
        "    with torch.no_grad():\n",
        "        features = model(input_batch)\n",
        "    return features\n",
        "\n",
        "# 5. Özellik birleştirme\n",
        "class FeatureConcatenation(nn.Module):\n",
        "    def __init__(self):\n",
        "        super(FeatureConcatenation, self).__init__()\n",
        "\n",
        "    def forward(self, features1, features2):\n",
        "        return torch.cat((features1, features2), dim=1)\n",
        "\n",
        "# 6. Tam bağlantılı katmanlar ve kayıp fonksiyonu\n",
        "class BoundingBoxPrediction(nn.Module):\n",
        "    def __init__(self, input_size, hidden_size):\n",
        "        super(BoundingBoxPrediction, self).__init__()\n",
        "        self.fc1 = nn.Linear(input_size, hidden_size)\n",
        "        self.fc2 = nn.Linear(hidden_size, hidden_size)\n",
        "        self.fc3 = nn.Linear(hidden_size, 4)\n",
        "\n",
        "    def forward(self, x):\n",
        "        x = nn.ReLU()(self.fc1(x))\n",
        "        x = nn.ReLU()(self.fc2(x))\n",
        "        x = self.fc3(x)\n",
        "        return x\n",
        "\n",
        "# Hyperparametreler\n",
        "input_size = 2 * model.fc.in_features\n",
        "hidden_size = 512\n",
        "learning_rate = 0.001\n",
        "num_epochs = 10\n",
        "\n",
        "# Model oluşturma\n",
        "concatenation = FeatureConcatenation()\n",
        "bounding_box_prediction = BoundingBoxPrediction(input_size, hidden_size)\n",
        "\n",
        "# Optimizer ve kayıp fonksiyonu\n",
        "optimizer = optim.Adam(list(concatenation.parameters()) + list(bounding_box_prediction.parameters()), lr=learning_rate)\n",
        "criterion = nn.MSELoss()\n",
        "\n",
        "# Eğitim döngüsü\n",
        "for epoch in range(num_epochs):\n",
        "    for frames in dataloader:  # 1. adımda oluşturulan eğitim veri yükleyicisini kullanarak frame çiftlerini alın\n",
        "        t0, t1 = frames  # Örnek olarak sadece iki frame kullanıldı\n",
        "\n",
        "        # 2. Frame kırpması\n",
        "        cropped_frame1 = crop_frame(t0, padded_ground_truth_bbox)  # İlk frame'in kırpılması\n",
        "        cropped_frame2 = crop_frame(t1, search_region_bbox)  # İkinci frame'in kırpılması\n",
        "\n",
        "        # 3. Özellik çıkarma\n",
        "        features1 = extract_features(cropped_frame1, model)\n",
        "        features2 = extract_features(cropped_frame2, model)\n",
        "\n",
        "        # 4. Özellik birleştirme\n",
        "        concatenated_features = concatenation(features1, features2)\n",
        "\n",
        "        # 5. Tahmin ve kayıp hesaplama\n",
        "        predicted_bbox = bounding_box_prediction(concatenated_features)\n",
        "        loss = criterion(predicted_bbox, ground_truth_bbox)\n",
        "\n",
        "        # Geriye yayılım ve optimizasyon\n",
        "        optimizer.zero_grad()\n",
        "        loss.backward()\n",
        "        optimizer.step()\n",
        "\n",
        "    print(f\"Epoch: {epoch+1}, Loss: {loss.item()}\")\n",
        "\n",
        "# Eğitimi tamamladıktan sonra, modeliniz eğitilmiş olacak ve tahminler yapabilirsiniz.\n"
      ],
      "metadata": {
        "id": "GFI4EPGD6eV0"
      },
      "execution_count": null,
      "outputs": []
    },
    {
      "cell_type": "code",
      "source": [
        "import cv2\n",
        "\n",
        "frame1_cropped=[]\n",
        "print(len(bounding_box1_all))\n",
        "for frame1_path, bounding_box1 in zip(frame1_path_all, bounding_box1_all):\n",
        "\n",
        "  #print(frame1_path)\n",
        "  frame1_img=[]\n",
        "  for frame1_path_ , bounding_box1_ in zip(frame1_path, bounding_box1):\n",
        "     frame1= cv2.imread(frame1_path_)\n",
        "     #print(frame1)\n",
        "     #print(bounding_box1_)\n",
        "     x1, y1, w1, h1 = map(float, bounding_box1_.split(','))\n",
        "     frame_height, frame_width, _ = frame1.shape  # Kare boyutunu alın\n",
        "     center_x = x1 + w1 / 2  # Bounding box'un merkezinin x koordinatı\n",
        "     center_y = y1 + h1 / 2  # Bounding box'un merkezinin y koordinatı\n",
        "     enlarged_width = int(w1 * 2)  # Genişlik 2 kat büyütülecek\n",
        "     enlarged_height = int(h1 * 2)  # Yükseklik 2 kat büyütülecek\n",
        "     x_crop = int(center_x - enlarged_width / 2)  # Kırpma için sol üst köşenin x koordinatı\n",
        "     y_crop = int(center_y - enlarged_height / 2)  # Kırpma için sol üst köşenin y koordinatı\n",
        "\n",
        "     # Kırpma işlemini gerçekleştirin\n",
        "     cropped_frame = frame1[y_crop:y_crop + enlarged_height, x_crop:x_crop + enlarged_width]\n",
        "     frame1_img.append(cropped_frame)\n",
        "  frame1_cropped.append(frame1_img)\n",
        "  print(len(frame1_img))\n",
        "\n",
        "\n",
        "\n",
        "\n",
        "\n",
        "\n",
        "\n",
        "# İlk frame'i yükleyin\n",
        "#frame1 = cv2.imread(frame1_path)\n",
        "\n",
        "# Ground-truth sınırlayıcı kutudan koordinatları alın\n",
        "#x1, y1, w1, h1 = bounding_box1\n",
        "\n",
        "# Sınırlayıcı kutuyu 2 kat büyütün\n",
        "#x1 -= int(w1 / 2)\n",
        "#y1 -= int(h1 / 2)\n",
        "#w1 *= 2\n",
        "#h1 *= 2\n",
        "\n",
        "# Büyütülmüş sınırlayıcı kutuyla ilk frame'i kırpın\n",
        "#cropped_frame1 = frame1[y1:y1+h1, x1:x1+w1]\n"
      ],
      "metadata": {
        "colab": {
          "base_uri": "https://localhost:8080/",
          "height": 252
        },
        "id": "z4CleYXBqYdC",
        "outputId": "779974c2-f219-48fd-8f90-1754dd401635"
      },
      "execution_count": null,
      "outputs": [
        {
          "output_type": "stream",
          "name": "stdout",
          "text": [
            "10\n"
          ]
        },
        {
          "output_type": "error",
          "ename": "TypeError",
          "evalue": "ignored",
          "traceback": [
            "\u001b[0;31m---------------------------------------------------------------------------\u001b[0m",
            "\u001b[0;31mTypeError\u001b[0m                                 Traceback (most recent call last)",
            "\u001b[0;32m<ipython-input-15-cf2e0ac02b7a>\u001b[0m in \u001b[0;36m<cell line: 5>\u001b[0;34m()\u001b[0m\n\u001b[1;32m      8\u001b[0m   \u001b[0mframe1_img\u001b[0m\u001b[0;34m=\u001b[0m\u001b[0;34m[\u001b[0m\u001b[0;34m]\u001b[0m\u001b[0;34m\u001b[0m\u001b[0;34m\u001b[0m\u001b[0m\n\u001b[1;32m      9\u001b[0m   \u001b[0;32mfor\u001b[0m \u001b[0mframe1_path_\u001b[0m \u001b[0;34m,\u001b[0m \u001b[0mbounding_box1_\u001b[0m \u001b[0;32min\u001b[0m \u001b[0mzip\u001b[0m\u001b[0;34m(\u001b[0m\u001b[0mframe1_path\u001b[0m\u001b[0;34m,\u001b[0m \u001b[0mbounding_box1\u001b[0m\u001b[0;34m)\u001b[0m\u001b[0;34m:\u001b[0m\u001b[0;34m\u001b[0m\u001b[0;34m\u001b[0m\u001b[0m\n\u001b[0;32m---> 10\u001b[0;31m      \u001b[0mframe1\u001b[0m\u001b[0;34m=\u001b[0m \u001b[0mcv2\u001b[0m\u001b[0;34m.\u001b[0m\u001b[0mimread\u001b[0m\u001b[0;34m(\u001b[0m\u001b[0mframe1_path_\u001b[0m\u001b[0;34m)\u001b[0m\u001b[0;34m\u001b[0m\u001b[0;34m\u001b[0m\u001b[0m\n\u001b[0m\u001b[1;32m     11\u001b[0m      \u001b[0;31m#print(frame1)\u001b[0m\u001b[0;34m\u001b[0m\u001b[0;34m\u001b[0m\u001b[0m\n\u001b[1;32m     12\u001b[0m      \u001b[0;31m#print(bounding_box1_)\u001b[0m\u001b[0;34m\u001b[0m\u001b[0;34m\u001b[0m\u001b[0m\n",
            "\u001b[0;31mTypeError\u001b[0m: Can't convert object to 'str' for 'filename'"
          ]
        }
      ]
    },
    {
      "cell_type": "code",
      "source": [
        "import cv2\n",
        "def read_img( path):\n",
        "  new_arr_img=[]\n",
        "  for img in path:\n",
        "    img_arr=cv2.imread(img)\n",
        "    new_arr_img.append(img_arr)\n",
        "\n",
        "  return new_arr_img\n",
        "\n"
      ],
      "metadata": {
        "id": "xNefIYBxLvlQ"
      },
      "execution_count": null,
      "outputs": []
    },
    {
      "cell_type": "code",
      "source": [
        "frame1_img_all=[]"
      ],
      "metadata": {
        "id": "0EwmsbNiKiRO"
      },
      "execution_count": null,
      "outputs": []
    },
    {
      "cell_type": "code",
      "source": [
        "import cv2\n",
        "\n",
        "for i in range(0,15):\n",
        "  print(frame1_path_all[i])\n",
        "  frame1_img_all.append(read_img(frame1_path))\n"
      ],
      "metadata": {
        "colab": {
          "base_uri": "https://localhost:8080/"
        },
        "id": "z5KaQmQM_nit",
        "outputId": "03f9cdaf-03b0-46c1-8326-d7e0050af693"
      },
      "execution_count": null,
      "outputs": [
        {
          "output_type": "stream",
          "name": "stdout",
          "text": [
            "['/content/drive/MyDrive/Colab Notebooks/Resit/sequences/agility/color/00000001.jpg', '/content/drive/MyDrive/Colab Notebooks/Resit/sequences/agility/color/00000002.jpg', '/content/drive/MyDrive/Colab Notebooks/Resit/sequences/agility/color/00000003.jpg', '/content/drive/MyDrive/Colab Notebooks/Resit/sequences/agility/color/00000004.jpg', '/content/drive/MyDrive/Colab Notebooks/Resit/sequences/agility/color/00000005.jpg', '/content/drive/MyDrive/Colab Notebooks/Resit/sequences/agility/color/00000006.jpg', '/content/drive/MyDrive/Colab Notebooks/Resit/sequences/agility/color/00000007.jpg', '/content/drive/MyDrive/Colab Notebooks/Resit/sequences/agility/color/00000008.jpg', '/content/drive/MyDrive/Colab Notebooks/Resit/sequences/agility/color/00000009.jpg', '/content/drive/MyDrive/Colab Notebooks/Resit/sequences/agility/color/00000010.jpg', '/content/drive/MyDrive/Colab Notebooks/Resit/sequences/agility/color/00000011.jpg', '/content/drive/MyDrive/Colab Notebooks/Resit/sequences/agility/color/00000012.jpg', '/content/drive/MyDrive/Colab Notebooks/Resit/sequences/agility/color/00000013.jpg', '/content/drive/MyDrive/Colab Notebooks/Resit/sequences/agility/color/00000014.jpg', '/content/drive/MyDrive/Colab Notebooks/Resit/sequences/agility/color/00000015.jpg', '/content/drive/MyDrive/Colab Notebooks/Resit/sequences/agility/color/00000016.jpg', '/content/drive/MyDrive/Colab Notebooks/Resit/sequences/agility/color/00000017.jpg', '/content/drive/MyDrive/Colab Notebooks/Resit/sequences/agility/color/00000018.jpg', '/content/drive/MyDrive/Colab Notebooks/Resit/sequences/agility/color/00000019.jpg', '/content/drive/MyDrive/Colab Notebooks/Resit/sequences/agility/color/00000020.jpg', '/content/drive/MyDrive/Colab Notebooks/Resit/sequences/agility/color/00000021.jpg', '/content/drive/MyDrive/Colab Notebooks/Resit/sequences/agility/color/00000022.jpg', '/content/drive/MyDrive/Colab Notebooks/Resit/sequences/agility/color/00000023.jpg', '/content/drive/MyDrive/Colab Notebooks/Resit/sequences/agility/color/00000024.jpg', '/content/drive/MyDrive/Colab Notebooks/Resit/sequences/agility/color/00000025.jpg', '/content/drive/MyDrive/Colab Notebooks/Resit/sequences/agility/color/00000026.jpg', '/content/drive/MyDrive/Colab Notebooks/Resit/sequences/agility/color/00000027.jpg', '/content/drive/MyDrive/Colab Notebooks/Resit/sequences/agility/color/00000028.jpg', '/content/drive/MyDrive/Colab Notebooks/Resit/sequences/agility/color/00000029.jpg', '/content/drive/MyDrive/Colab Notebooks/Resit/sequences/agility/color/00000030.jpg', '/content/drive/MyDrive/Colab Notebooks/Resit/sequences/agility/color/00000031.jpg', '/content/drive/MyDrive/Colab Notebooks/Resit/sequences/agility/color/00000032.jpg', '/content/drive/MyDrive/Colab Notebooks/Resit/sequences/agility/color/00000033.jpg', '/content/drive/MyDrive/Colab Notebooks/Resit/sequences/agility/color/00000034.jpg', '/content/drive/MyDrive/Colab Notebooks/Resit/sequences/agility/color/00000035.jpg', '/content/drive/MyDrive/Colab Notebooks/Resit/sequences/agility/color/00000036.jpg', '/content/drive/MyDrive/Colab Notebooks/Resit/sequences/agility/color/00000037.jpg', '/content/drive/MyDrive/Colab Notebooks/Resit/sequences/agility/color/00000038.jpg', '/content/drive/MyDrive/Colab Notebooks/Resit/sequences/agility/color/00000039.jpg', '/content/drive/MyDrive/Colab Notebooks/Resit/sequences/agility/color/00000040.jpg', '/content/drive/MyDrive/Colab Notebooks/Resit/sequences/agility/color/00000041.jpg', '/content/drive/MyDrive/Colab Notebooks/Resit/sequences/agility/color/00000042.jpg', '/content/drive/MyDrive/Colab Notebooks/Resit/sequences/agility/color/00000043.jpg', '/content/drive/MyDrive/Colab Notebooks/Resit/sequences/agility/color/00000044.jpg', '/content/drive/MyDrive/Colab Notebooks/Resit/sequences/agility/color/00000045.jpg', '/content/drive/MyDrive/Colab Notebooks/Resit/sequences/agility/color/00000046.jpg', '/content/drive/MyDrive/Colab Notebooks/Resit/sequences/agility/color/00000047.jpg', '/content/drive/MyDrive/Colab Notebooks/Resit/sequences/agility/color/00000048.jpg', '/content/drive/MyDrive/Colab Notebooks/Resit/sequences/agility/color/00000049.jpg', '/content/drive/MyDrive/Colab Notebooks/Resit/sequences/agility/color/00000050.jpg', '/content/drive/MyDrive/Colab Notebooks/Resit/sequences/agility/color/00000051.jpg', '/content/drive/MyDrive/Colab Notebooks/Resit/sequences/agility/color/00000052.jpg', '/content/drive/MyDrive/Colab Notebooks/Resit/sequences/agility/color/00000053.jpg', '/content/drive/MyDrive/Colab Notebooks/Resit/sequences/agility/color/00000054.jpg', '/content/drive/MyDrive/Colab Notebooks/Resit/sequences/agility/color/00000055.jpg', '/content/drive/MyDrive/Colab Notebooks/Resit/sequences/agility/color/00000056.jpg', '/content/drive/MyDrive/Colab Notebooks/Resit/sequences/agility/color/00000057.jpg', '/content/drive/MyDrive/Colab Notebooks/Resit/sequences/agility/color/00000058.jpg', '/content/drive/MyDrive/Colab Notebooks/Resit/sequences/agility/color/00000059.jpg', '/content/drive/MyDrive/Colab Notebooks/Resit/sequences/agility/color/00000060.jpg', '/content/drive/MyDrive/Colab Notebooks/Resit/sequences/agility/color/00000061.jpg', '/content/drive/MyDrive/Colab Notebooks/Resit/sequences/agility/color/00000062.jpg', '/content/drive/MyDrive/Colab Notebooks/Resit/sequences/agility/color/00000063.jpg', '/content/drive/MyDrive/Colab Notebooks/Resit/sequences/agility/color/00000064.jpg', '/content/drive/MyDrive/Colab Notebooks/Resit/sequences/agility/color/00000065.jpg', '/content/drive/MyDrive/Colab Notebooks/Resit/sequences/agility/color/00000066.jpg', '/content/drive/MyDrive/Colab Notebooks/Resit/sequences/agility/color/00000067.jpg', '/content/drive/MyDrive/Colab Notebooks/Resit/sequences/agility/color/00000068.jpg', '/content/drive/MyDrive/Colab Notebooks/Resit/sequences/agility/color/00000069.jpg', '/content/drive/MyDrive/Colab Notebooks/Resit/sequences/agility/color/00000070.jpg', '/content/drive/MyDrive/Colab Notebooks/Resit/sequences/agility/color/00000071.jpg', '/content/drive/MyDrive/Colab Notebooks/Resit/sequences/agility/color/00000072.jpg', '/content/drive/MyDrive/Colab Notebooks/Resit/sequences/agility/color/00000073.jpg', '/content/drive/MyDrive/Colab Notebooks/Resit/sequences/agility/color/00000074.jpg', '/content/drive/MyDrive/Colab Notebooks/Resit/sequences/agility/color/00000075.jpg', '/content/drive/MyDrive/Colab Notebooks/Resit/sequences/agility/color/00000076.jpg', '/content/drive/MyDrive/Colab Notebooks/Resit/sequences/agility/color/00000077.jpg', '/content/drive/MyDrive/Colab Notebooks/Resit/sequences/agility/color/00000078.jpg', '/content/drive/MyDrive/Colab Notebooks/Resit/sequences/agility/color/00000079.jpg', '/content/drive/MyDrive/Colab Notebooks/Resit/sequences/agility/color/00000080.jpg', '/content/drive/MyDrive/Colab Notebooks/Resit/sequences/agility/color/00000081.jpg', '/content/drive/MyDrive/Colab Notebooks/Resit/sequences/agility/color/00000082.jpg', '/content/drive/MyDrive/Colab Notebooks/Resit/sequences/agility/color/00000083.jpg', '/content/drive/MyDrive/Colab Notebooks/Resit/sequences/agility/color/00000084.jpg', '/content/drive/MyDrive/Colab Notebooks/Resit/sequences/agility/color/00000085.jpg', '/content/drive/MyDrive/Colab Notebooks/Resit/sequences/agility/color/00000086.jpg', '/content/drive/MyDrive/Colab Notebooks/Resit/sequences/agility/color/00000087.jpg', '/content/drive/MyDrive/Colab Notebooks/Resit/sequences/agility/color/00000088.jpg', '/content/drive/MyDrive/Colab Notebooks/Resit/sequences/agility/color/00000089.jpg', '/content/drive/MyDrive/Colab Notebooks/Resit/sequences/agility/color/00000090.jpg', '/content/drive/MyDrive/Colab Notebooks/Resit/sequences/agility/color/00000091.jpg', '/content/drive/MyDrive/Colab Notebooks/Resit/sequences/agility/color/00000092.jpg', '/content/drive/MyDrive/Colab Notebooks/Resit/sequences/agility/color/00000093.jpg', '/content/drive/MyDrive/Colab Notebooks/Resit/sequences/agility/color/00000094.jpg', '/content/drive/MyDrive/Colab Notebooks/Resit/sequences/agility/color/00000095.jpg', '/content/drive/MyDrive/Colab Notebooks/Resit/sequences/agility/color/00000096.jpg', '/content/drive/MyDrive/Colab Notebooks/Resit/sequences/agility/color/00000097.jpg', '/content/drive/MyDrive/Colab Notebooks/Resit/sequences/agility/color/00000098.jpg', '/content/drive/MyDrive/Colab Notebooks/Resit/sequences/agility/color/00000099.jpg']\n",
            "['/content/drive/MyDrive/Colab Notebooks/Resit/sequences/animal/color/00000001.jpg', '/content/drive/MyDrive/Colab Notebooks/Resit/sequences/animal/color/00000002.jpg', '/content/drive/MyDrive/Colab Notebooks/Resit/sequences/animal/color/00000003.jpg', '/content/drive/MyDrive/Colab Notebooks/Resit/sequences/animal/color/00000004.jpg', '/content/drive/MyDrive/Colab Notebooks/Resit/sequences/animal/color/00000005.jpg', '/content/drive/MyDrive/Colab Notebooks/Resit/sequences/animal/color/00000006.jpg', '/content/drive/MyDrive/Colab Notebooks/Resit/sequences/animal/color/00000007.jpg', '/content/drive/MyDrive/Colab Notebooks/Resit/sequences/animal/color/00000008.jpg', '/content/drive/MyDrive/Colab Notebooks/Resit/sequences/animal/color/00000009.jpg', '/content/drive/MyDrive/Colab Notebooks/Resit/sequences/animal/color/00000010.jpg', '/content/drive/MyDrive/Colab Notebooks/Resit/sequences/animal/color/00000011.jpg', '/content/drive/MyDrive/Colab Notebooks/Resit/sequences/animal/color/00000012.jpg', '/content/drive/MyDrive/Colab Notebooks/Resit/sequences/animal/color/00000013.jpg', '/content/drive/MyDrive/Colab Notebooks/Resit/sequences/animal/color/00000014.jpg', '/content/drive/MyDrive/Colab Notebooks/Resit/sequences/animal/color/00000015.jpg', '/content/drive/MyDrive/Colab Notebooks/Resit/sequences/animal/color/00000016.jpg', '/content/drive/MyDrive/Colab Notebooks/Resit/sequences/animal/color/00000017.jpg', '/content/drive/MyDrive/Colab Notebooks/Resit/sequences/animal/color/00000018.jpg', '/content/drive/MyDrive/Colab Notebooks/Resit/sequences/animal/color/00000019.jpg', '/content/drive/MyDrive/Colab Notebooks/Resit/sequences/animal/color/00000020.jpg', '/content/drive/MyDrive/Colab Notebooks/Resit/sequences/animal/color/00000021.jpg', '/content/drive/MyDrive/Colab Notebooks/Resit/sequences/animal/color/00000022.jpg', '/content/drive/MyDrive/Colab Notebooks/Resit/sequences/animal/color/00000023.jpg', '/content/drive/MyDrive/Colab Notebooks/Resit/sequences/animal/color/00000024.jpg', '/content/drive/MyDrive/Colab Notebooks/Resit/sequences/animal/color/00000025.jpg', '/content/drive/MyDrive/Colab Notebooks/Resit/sequences/animal/color/00000026.jpg', '/content/drive/MyDrive/Colab Notebooks/Resit/sequences/animal/color/00000027.jpg', '/content/drive/MyDrive/Colab Notebooks/Resit/sequences/animal/color/00000028.jpg', '/content/drive/MyDrive/Colab Notebooks/Resit/sequences/animal/color/00000029.jpg', '/content/drive/MyDrive/Colab Notebooks/Resit/sequences/animal/color/00000030.jpg', '/content/drive/MyDrive/Colab Notebooks/Resit/sequences/animal/color/00000031.jpg', '/content/drive/MyDrive/Colab Notebooks/Resit/sequences/animal/color/00000032.jpg', '/content/drive/MyDrive/Colab Notebooks/Resit/sequences/animal/color/00000033.jpg', '/content/drive/MyDrive/Colab Notebooks/Resit/sequences/animal/color/00000034.jpg', '/content/drive/MyDrive/Colab Notebooks/Resit/sequences/animal/color/00000035.jpg', '/content/drive/MyDrive/Colab Notebooks/Resit/sequences/animal/color/00000036.jpg', '/content/drive/MyDrive/Colab Notebooks/Resit/sequences/animal/color/00000037.jpg', '/content/drive/MyDrive/Colab Notebooks/Resit/sequences/animal/color/00000038.jpg', '/content/drive/MyDrive/Colab Notebooks/Resit/sequences/animal/color/00000039.jpg', '/content/drive/MyDrive/Colab Notebooks/Resit/sequences/animal/color/00000040.jpg', '/content/drive/MyDrive/Colab Notebooks/Resit/sequences/animal/color/00000041.jpg', '/content/drive/MyDrive/Colab Notebooks/Resit/sequences/animal/color/00000042.jpg', '/content/drive/MyDrive/Colab Notebooks/Resit/sequences/animal/color/00000043.jpg', '/content/drive/MyDrive/Colab Notebooks/Resit/sequences/animal/color/00000044.jpg', '/content/drive/MyDrive/Colab Notebooks/Resit/sequences/animal/color/00000045.jpg', '/content/drive/MyDrive/Colab Notebooks/Resit/sequences/animal/color/00000046.jpg', '/content/drive/MyDrive/Colab Notebooks/Resit/sequences/animal/color/00000047.jpg', '/content/drive/MyDrive/Colab Notebooks/Resit/sequences/animal/color/00000048.jpg', '/content/drive/MyDrive/Colab Notebooks/Resit/sequences/animal/color/00000049.jpg', '/content/drive/MyDrive/Colab Notebooks/Resit/sequences/animal/color/00000050.jpg', '/content/drive/MyDrive/Colab Notebooks/Resit/sequences/animal/color/00000051.jpg', '/content/drive/MyDrive/Colab Notebooks/Resit/sequences/animal/color/00000052.jpg', '/content/drive/MyDrive/Colab Notebooks/Resit/sequences/animal/color/00000053.jpg', '/content/drive/MyDrive/Colab Notebooks/Resit/sequences/animal/color/00000054.jpg', '/content/drive/MyDrive/Colab Notebooks/Resit/sequences/animal/color/00000055.jpg', '/content/drive/MyDrive/Colab Notebooks/Resit/sequences/animal/color/00000056.jpg', '/content/drive/MyDrive/Colab Notebooks/Resit/sequences/animal/color/00000057.jpg', '/content/drive/MyDrive/Colab Notebooks/Resit/sequences/animal/color/00000058.jpg', '/content/drive/MyDrive/Colab Notebooks/Resit/sequences/animal/color/00000059.jpg', '/content/drive/MyDrive/Colab Notebooks/Resit/sequences/animal/color/00000060.jpg', '/content/drive/MyDrive/Colab Notebooks/Resit/sequences/animal/color/00000061.jpg', '/content/drive/MyDrive/Colab Notebooks/Resit/sequences/animal/color/00000062.jpg', '/content/drive/MyDrive/Colab Notebooks/Resit/sequences/animal/color/00000063.jpg', '/content/drive/MyDrive/Colab Notebooks/Resit/sequences/animal/color/00000064.jpg', '/content/drive/MyDrive/Colab Notebooks/Resit/sequences/animal/color/00000065.jpg', '/content/drive/MyDrive/Colab Notebooks/Resit/sequences/animal/color/00000066.jpg', '/content/drive/MyDrive/Colab Notebooks/Resit/sequences/animal/color/00000067.jpg', '/content/drive/MyDrive/Colab Notebooks/Resit/sequences/animal/color/00000068.jpg', '/content/drive/MyDrive/Colab Notebooks/Resit/sequences/animal/color/00000069.jpg', '/content/drive/MyDrive/Colab Notebooks/Resit/sequences/animal/color/00000070.jpg', '/content/drive/MyDrive/Colab Notebooks/Resit/sequences/animal/color/00000071.jpg', '/content/drive/MyDrive/Colab Notebooks/Resit/sequences/animal/color/00000072.jpg', '/content/drive/MyDrive/Colab Notebooks/Resit/sequences/animal/color/00000073.jpg', '/content/drive/MyDrive/Colab Notebooks/Resit/sequences/animal/color/00000074.jpg', '/content/drive/MyDrive/Colab Notebooks/Resit/sequences/animal/color/00000075.jpg', '/content/drive/MyDrive/Colab Notebooks/Resit/sequences/animal/color/00000076.jpg', '/content/drive/MyDrive/Colab Notebooks/Resit/sequences/animal/color/00000077.jpg', '/content/drive/MyDrive/Colab Notebooks/Resit/sequences/animal/color/00000078.jpg', '/content/drive/MyDrive/Colab Notebooks/Resit/sequences/animal/color/00000079.jpg', '/content/drive/MyDrive/Colab Notebooks/Resit/sequences/animal/color/00000080.jpg', '/content/drive/MyDrive/Colab Notebooks/Resit/sequences/animal/color/00000081.jpg', '/content/drive/MyDrive/Colab Notebooks/Resit/sequences/animal/color/00000082.jpg', '/content/drive/MyDrive/Colab Notebooks/Resit/sequences/animal/color/00000083.jpg', '/content/drive/MyDrive/Colab Notebooks/Resit/sequences/animal/color/00000084.jpg', '/content/drive/MyDrive/Colab Notebooks/Resit/sequences/animal/color/00000085.jpg', '/content/drive/MyDrive/Colab Notebooks/Resit/sequences/animal/color/00000086.jpg', '/content/drive/MyDrive/Colab Notebooks/Resit/sequences/animal/color/00000087.jpg', '/content/drive/MyDrive/Colab Notebooks/Resit/sequences/animal/color/00000088.jpg', '/content/drive/MyDrive/Colab Notebooks/Resit/sequences/animal/color/00000089.jpg', '/content/drive/MyDrive/Colab Notebooks/Resit/sequences/animal/color/00000090.jpg', '/content/drive/MyDrive/Colab Notebooks/Resit/sequences/animal/color/00000091.jpg', '/content/drive/MyDrive/Colab Notebooks/Resit/sequences/animal/color/00000092.jpg', '/content/drive/MyDrive/Colab Notebooks/Resit/sequences/animal/color/00000093.jpg', '/content/drive/MyDrive/Colab Notebooks/Resit/sequences/animal/color/00000094.jpg', '/content/drive/MyDrive/Colab Notebooks/Resit/sequences/animal/color/00000095.jpg', '/content/drive/MyDrive/Colab Notebooks/Resit/sequences/animal/color/00000096.jpg', '/content/drive/MyDrive/Colab Notebooks/Resit/sequences/animal/color/00000097.jpg', '/content/drive/MyDrive/Colab Notebooks/Resit/sequences/animal/color/00000098.jpg', '/content/drive/MyDrive/Colab Notebooks/Resit/sequences/animal/color/00000099.jpg']\n",
            "['/content/drive/MyDrive/Colab Notebooks/Resit/sequences/ants1/color/00000001.jpg', '/content/drive/MyDrive/Colab Notebooks/Resit/sequences/ants1/color/00000002.jpg', '/content/drive/MyDrive/Colab Notebooks/Resit/sequences/ants1/color/00000003.jpg', '/content/drive/MyDrive/Colab Notebooks/Resit/sequences/ants1/color/00000004.jpg', '/content/drive/MyDrive/Colab Notebooks/Resit/sequences/ants1/color/00000005.jpg', '/content/drive/MyDrive/Colab Notebooks/Resit/sequences/ants1/color/00000006.jpg', '/content/drive/MyDrive/Colab Notebooks/Resit/sequences/ants1/color/00000007.jpg', '/content/drive/MyDrive/Colab Notebooks/Resit/sequences/ants1/color/00000008.jpg', '/content/drive/MyDrive/Colab Notebooks/Resit/sequences/ants1/color/00000009.jpg', '/content/drive/MyDrive/Colab Notebooks/Resit/sequences/ants1/color/00000010.jpg', '/content/drive/MyDrive/Colab Notebooks/Resit/sequences/ants1/color/00000011.jpg', '/content/drive/MyDrive/Colab Notebooks/Resit/sequences/ants1/color/00000012.jpg', '/content/drive/MyDrive/Colab Notebooks/Resit/sequences/ants1/color/00000013.jpg', '/content/drive/MyDrive/Colab Notebooks/Resit/sequences/ants1/color/00000014.jpg', '/content/drive/MyDrive/Colab Notebooks/Resit/sequences/ants1/color/00000015.jpg', '/content/drive/MyDrive/Colab Notebooks/Resit/sequences/ants1/color/00000016.jpg', '/content/drive/MyDrive/Colab Notebooks/Resit/sequences/ants1/color/00000017.jpg', '/content/drive/MyDrive/Colab Notebooks/Resit/sequences/ants1/color/00000018.jpg', '/content/drive/MyDrive/Colab Notebooks/Resit/sequences/ants1/color/00000019.jpg', '/content/drive/MyDrive/Colab Notebooks/Resit/sequences/ants1/color/00000020.jpg', '/content/drive/MyDrive/Colab Notebooks/Resit/sequences/ants1/color/00000021.jpg', '/content/drive/MyDrive/Colab Notebooks/Resit/sequences/ants1/color/00000022.jpg', '/content/drive/MyDrive/Colab Notebooks/Resit/sequences/ants1/color/00000023.jpg', '/content/drive/MyDrive/Colab Notebooks/Resit/sequences/ants1/color/00000024.jpg', '/content/drive/MyDrive/Colab Notebooks/Resit/sequences/ants1/color/00000025.jpg', '/content/drive/MyDrive/Colab Notebooks/Resit/sequences/ants1/color/00000026.jpg', '/content/drive/MyDrive/Colab Notebooks/Resit/sequences/ants1/color/00000027.jpg', '/content/drive/MyDrive/Colab Notebooks/Resit/sequences/ants1/color/00000028.jpg', '/content/drive/MyDrive/Colab Notebooks/Resit/sequences/ants1/color/00000029.jpg', '/content/drive/MyDrive/Colab Notebooks/Resit/sequences/ants1/color/00000030.jpg', '/content/drive/MyDrive/Colab Notebooks/Resit/sequences/ants1/color/00000031.jpg', '/content/drive/MyDrive/Colab Notebooks/Resit/sequences/ants1/color/00000032.jpg', '/content/drive/MyDrive/Colab Notebooks/Resit/sequences/ants1/color/00000033.jpg', '/content/drive/MyDrive/Colab Notebooks/Resit/sequences/ants1/color/00000034.jpg', '/content/drive/MyDrive/Colab Notebooks/Resit/sequences/ants1/color/00000035.jpg', '/content/drive/MyDrive/Colab Notebooks/Resit/sequences/ants1/color/00000036.jpg', '/content/drive/MyDrive/Colab Notebooks/Resit/sequences/ants1/color/00000037.jpg', '/content/drive/MyDrive/Colab Notebooks/Resit/sequences/ants1/color/00000038.jpg', '/content/drive/MyDrive/Colab Notebooks/Resit/sequences/ants1/color/00000039.jpg', '/content/drive/MyDrive/Colab Notebooks/Resit/sequences/ants1/color/00000040.jpg', '/content/drive/MyDrive/Colab Notebooks/Resit/sequences/ants1/color/00000041.jpg', '/content/drive/MyDrive/Colab Notebooks/Resit/sequences/ants1/color/00000042.jpg', '/content/drive/MyDrive/Colab Notebooks/Resit/sequences/ants1/color/00000043.jpg', '/content/drive/MyDrive/Colab Notebooks/Resit/sequences/ants1/color/00000044.jpg', '/content/drive/MyDrive/Colab Notebooks/Resit/sequences/ants1/color/00000045.jpg', '/content/drive/MyDrive/Colab Notebooks/Resit/sequences/ants1/color/00000046.jpg', '/content/drive/MyDrive/Colab Notebooks/Resit/sequences/ants1/color/00000047.jpg', '/content/drive/MyDrive/Colab Notebooks/Resit/sequences/ants1/color/00000048.jpg', '/content/drive/MyDrive/Colab Notebooks/Resit/sequences/ants1/color/00000049.jpg', '/content/drive/MyDrive/Colab Notebooks/Resit/sequences/ants1/color/00000050.jpg', '/content/drive/MyDrive/Colab Notebooks/Resit/sequences/ants1/color/00000051.jpg', '/content/drive/MyDrive/Colab Notebooks/Resit/sequences/ants1/color/00000052.jpg', '/content/drive/MyDrive/Colab Notebooks/Resit/sequences/ants1/color/00000053.jpg', '/content/drive/MyDrive/Colab Notebooks/Resit/sequences/ants1/color/00000054.jpg', '/content/drive/MyDrive/Colab Notebooks/Resit/sequences/ants1/color/00000055.jpg', '/content/drive/MyDrive/Colab Notebooks/Resit/sequences/ants1/color/00000056.jpg', '/content/drive/MyDrive/Colab Notebooks/Resit/sequences/ants1/color/00000057.jpg', '/content/drive/MyDrive/Colab Notebooks/Resit/sequences/ants1/color/00000058.jpg', '/content/drive/MyDrive/Colab Notebooks/Resit/sequences/ants1/color/00000059.jpg', '/content/drive/MyDrive/Colab Notebooks/Resit/sequences/ants1/color/00000060.jpg', '/content/drive/MyDrive/Colab Notebooks/Resit/sequences/ants1/color/00000061.jpg', '/content/drive/MyDrive/Colab Notebooks/Resit/sequences/ants1/color/00000062.jpg', '/content/drive/MyDrive/Colab Notebooks/Resit/sequences/ants1/color/00000063.jpg', '/content/drive/MyDrive/Colab Notebooks/Resit/sequences/ants1/color/00000064.jpg', '/content/drive/MyDrive/Colab Notebooks/Resit/sequences/ants1/color/00000065.jpg', '/content/drive/MyDrive/Colab Notebooks/Resit/sequences/ants1/color/00000066.jpg', '/content/drive/MyDrive/Colab Notebooks/Resit/sequences/ants1/color/00000067.jpg', '/content/drive/MyDrive/Colab Notebooks/Resit/sequences/ants1/color/00000068.jpg', '/content/drive/MyDrive/Colab Notebooks/Resit/sequences/ants1/color/00000069.jpg', '/content/drive/MyDrive/Colab Notebooks/Resit/sequences/ants1/color/00000070.jpg', '/content/drive/MyDrive/Colab Notebooks/Resit/sequences/ants1/color/00000071.jpg', '/content/drive/MyDrive/Colab Notebooks/Resit/sequences/ants1/color/00000072.jpg', '/content/drive/MyDrive/Colab Notebooks/Resit/sequences/ants1/color/00000073.jpg', '/content/drive/MyDrive/Colab Notebooks/Resit/sequences/ants1/color/00000074.jpg', '/content/drive/MyDrive/Colab Notebooks/Resit/sequences/ants1/color/00000075.jpg', '/content/drive/MyDrive/Colab Notebooks/Resit/sequences/ants1/color/00000076.jpg', '/content/drive/MyDrive/Colab Notebooks/Resit/sequences/ants1/color/00000077.jpg', '/content/drive/MyDrive/Colab Notebooks/Resit/sequences/ants1/color/00000078.jpg', '/content/drive/MyDrive/Colab Notebooks/Resit/sequences/ants1/color/00000079.jpg', '/content/drive/MyDrive/Colab Notebooks/Resit/sequences/ants1/color/00000080.jpg', '/content/drive/MyDrive/Colab Notebooks/Resit/sequences/ants1/color/00000081.jpg', '/content/drive/MyDrive/Colab Notebooks/Resit/sequences/ants1/color/00000082.jpg', '/content/drive/MyDrive/Colab Notebooks/Resit/sequences/ants1/color/00000083.jpg', '/content/drive/MyDrive/Colab Notebooks/Resit/sequences/ants1/color/00000084.jpg', '/content/drive/MyDrive/Colab Notebooks/Resit/sequences/ants1/color/00000085.jpg', '/content/drive/MyDrive/Colab Notebooks/Resit/sequences/ants1/color/00000086.jpg', '/content/drive/MyDrive/Colab Notebooks/Resit/sequences/ants1/color/00000087.jpg', '/content/drive/MyDrive/Colab Notebooks/Resit/sequences/ants1/color/00000088.jpg', '/content/drive/MyDrive/Colab Notebooks/Resit/sequences/ants1/color/00000089.jpg', '/content/drive/MyDrive/Colab Notebooks/Resit/sequences/ants1/color/00000090.jpg', '/content/drive/MyDrive/Colab Notebooks/Resit/sequences/ants1/color/00000091.jpg', '/content/drive/MyDrive/Colab Notebooks/Resit/sequences/ants1/color/00000092.jpg', '/content/drive/MyDrive/Colab Notebooks/Resit/sequences/ants1/color/00000093.jpg', '/content/drive/MyDrive/Colab Notebooks/Resit/sequences/ants1/color/00000094.jpg', '/content/drive/MyDrive/Colab Notebooks/Resit/sequences/ants1/color/00000095.jpg', '/content/drive/MyDrive/Colab Notebooks/Resit/sequences/ants1/color/00000096.jpg', '/content/drive/MyDrive/Colab Notebooks/Resit/sequences/ants1/color/00000097.jpg', '/content/drive/MyDrive/Colab Notebooks/Resit/sequences/ants1/color/00000098.jpg', '/content/drive/MyDrive/Colab Notebooks/Resit/sequences/ants1/color/00000099.jpg', '/content/drive/MyDrive/Colab Notebooks/Resit/sequences/ants1/color/00000100.jpg', '/content/drive/MyDrive/Colab Notebooks/Resit/sequences/ants1/color/00000101.jpg', '/content/drive/MyDrive/Colab Notebooks/Resit/sequences/ants1/color/00000102.jpg', '/content/drive/MyDrive/Colab Notebooks/Resit/sequences/ants1/color/00000103.jpg', '/content/drive/MyDrive/Colab Notebooks/Resit/sequences/ants1/color/00000104.jpg', '/content/drive/MyDrive/Colab Notebooks/Resit/sequences/ants1/color/00000105.jpg', '/content/drive/MyDrive/Colab Notebooks/Resit/sequences/ants1/color/00000106.jpg', '/content/drive/MyDrive/Colab Notebooks/Resit/sequences/ants1/color/00000107.jpg', '/content/drive/MyDrive/Colab Notebooks/Resit/sequences/ants1/color/00000108.jpg', '/content/drive/MyDrive/Colab Notebooks/Resit/sequences/ants1/color/00000109.jpg', '/content/drive/MyDrive/Colab Notebooks/Resit/sequences/ants1/color/00000110.jpg', '/content/drive/MyDrive/Colab Notebooks/Resit/sequences/ants1/color/00000111.jpg', '/content/drive/MyDrive/Colab Notebooks/Resit/sequences/ants1/color/00000112.jpg', '/content/drive/MyDrive/Colab Notebooks/Resit/sequences/ants1/color/00000113.jpg', '/content/drive/MyDrive/Colab Notebooks/Resit/sequences/ants1/color/00000114.jpg', '/content/drive/MyDrive/Colab Notebooks/Resit/sequences/ants1/color/00000115.jpg', '/content/drive/MyDrive/Colab Notebooks/Resit/sequences/ants1/color/00000116.jpg', '/content/drive/MyDrive/Colab Notebooks/Resit/sequences/ants1/color/00000117.jpg', '/content/drive/MyDrive/Colab Notebooks/Resit/sequences/ants1/color/00000118.jpg', '/content/drive/MyDrive/Colab Notebooks/Resit/sequences/ants1/color/00000119.jpg', '/content/drive/MyDrive/Colab Notebooks/Resit/sequences/ants1/color/00000120.jpg', '/content/drive/MyDrive/Colab Notebooks/Resit/sequences/ants1/color/00000121.jpg', '/content/drive/MyDrive/Colab Notebooks/Resit/sequences/ants1/color/00000122.jpg', '/content/drive/MyDrive/Colab Notebooks/Resit/sequences/ants1/color/00000123.jpg', '/content/drive/MyDrive/Colab Notebooks/Resit/sequences/ants1/color/00000124.jpg', '/content/drive/MyDrive/Colab Notebooks/Resit/sequences/ants1/color/00000125.jpg', '/content/drive/MyDrive/Colab Notebooks/Resit/sequences/ants1/color/00000126.jpg', '/content/drive/MyDrive/Colab Notebooks/Resit/sequences/ants1/color/00000127.jpg', '/content/drive/MyDrive/Colab Notebooks/Resit/sequences/ants1/color/00000128.jpg', '/content/drive/MyDrive/Colab Notebooks/Resit/sequences/ants1/color/00000129.jpg', '/content/drive/MyDrive/Colab Notebooks/Resit/sequences/ants1/color/00000130.jpg', '/content/drive/MyDrive/Colab Notebooks/Resit/sequences/ants1/color/00000131.jpg', '/content/drive/MyDrive/Colab Notebooks/Resit/sequences/ants1/color/00000132.jpg', '/content/drive/MyDrive/Colab Notebooks/Resit/sequences/ants1/color/00000133.jpg', '/content/drive/MyDrive/Colab Notebooks/Resit/sequences/ants1/color/00000134.jpg', '/content/drive/MyDrive/Colab Notebooks/Resit/sequences/ants1/color/00000135.jpg', '/content/drive/MyDrive/Colab Notebooks/Resit/sequences/ants1/color/00000136.jpg', '/content/drive/MyDrive/Colab Notebooks/Resit/sequences/ants1/color/00000137.jpg', '/content/drive/MyDrive/Colab Notebooks/Resit/sequences/ants1/color/00000138.jpg', '/content/drive/MyDrive/Colab Notebooks/Resit/sequences/ants1/color/00000139.jpg', '/content/drive/MyDrive/Colab Notebooks/Resit/sequences/ants1/color/00000140.jpg', '/content/drive/MyDrive/Colab Notebooks/Resit/sequences/ants1/color/00000141.jpg', '/content/drive/MyDrive/Colab Notebooks/Resit/sequences/ants1/color/00000142.jpg', '/content/drive/MyDrive/Colab Notebooks/Resit/sequences/ants1/color/00000143.jpg', '/content/drive/MyDrive/Colab Notebooks/Resit/sequences/ants1/color/00000144.jpg', '/content/drive/MyDrive/Colab Notebooks/Resit/sequences/ants1/color/00000145.jpg', '/content/drive/MyDrive/Colab Notebooks/Resit/sequences/ants1/color/00000146.jpg', '/content/drive/MyDrive/Colab Notebooks/Resit/sequences/ants1/color/00000147.jpg', '/content/drive/MyDrive/Colab Notebooks/Resit/sequences/ants1/color/00000148.jpg', '/content/drive/MyDrive/Colab Notebooks/Resit/sequences/ants1/color/00000149.jpg', '/content/drive/MyDrive/Colab Notebooks/Resit/sequences/ants1/color/00000150.jpg', '/content/drive/MyDrive/Colab Notebooks/Resit/sequences/ants1/color/00000151.jpg', '/content/drive/MyDrive/Colab Notebooks/Resit/sequences/ants1/color/00000152.jpg', '/content/drive/MyDrive/Colab Notebooks/Resit/sequences/ants1/color/00000153.jpg', '/content/drive/MyDrive/Colab Notebooks/Resit/sequences/ants1/color/00000154.jpg', '/content/drive/MyDrive/Colab Notebooks/Resit/sequences/ants1/color/00000155.jpg', '/content/drive/MyDrive/Colab Notebooks/Resit/sequences/ants1/color/00000156.jpg', '/content/drive/MyDrive/Colab Notebooks/Resit/sequences/ants1/color/00000157.jpg', '/content/drive/MyDrive/Colab Notebooks/Resit/sequences/ants1/color/00000158.jpg', '/content/drive/MyDrive/Colab Notebooks/Resit/sequences/ants1/color/00000159.jpg', '/content/drive/MyDrive/Colab Notebooks/Resit/sequences/ants1/color/00000160.jpg', '/content/drive/MyDrive/Colab Notebooks/Resit/sequences/ants1/color/00000161.jpg', '/content/drive/MyDrive/Colab Notebooks/Resit/sequences/ants1/color/00000162.jpg', '/content/drive/MyDrive/Colab Notebooks/Resit/sequences/ants1/color/00000163.jpg', '/content/drive/MyDrive/Colab Notebooks/Resit/sequences/ants1/color/00000164.jpg', '/content/drive/MyDrive/Colab Notebooks/Resit/sequences/ants1/color/00000165.jpg', '/content/drive/MyDrive/Colab Notebooks/Resit/sequences/ants1/color/00000166.jpg', '/content/drive/MyDrive/Colab Notebooks/Resit/sequences/ants1/color/00000167.jpg', '/content/drive/MyDrive/Colab Notebooks/Resit/sequences/ants1/color/00000168.jpg', '/content/drive/MyDrive/Colab Notebooks/Resit/sequences/ants1/color/00000169.jpg', '/content/drive/MyDrive/Colab Notebooks/Resit/sequences/ants1/color/00000170.jpg', '/content/drive/MyDrive/Colab Notebooks/Resit/sequences/ants1/color/00000171.jpg', '/content/drive/MyDrive/Colab Notebooks/Resit/sequences/ants1/color/00000172.jpg', '/content/drive/MyDrive/Colab Notebooks/Resit/sequences/ants1/color/00000173.jpg', '/content/drive/MyDrive/Colab Notebooks/Resit/sequences/ants1/color/00000174.jpg', '/content/drive/MyDrive/Colab Notebooks/Resit/sequences/ants1/color/00000175.jpg', '/content/drive/MyDrive/Colab Notebooks/Resit/sequences/ants1/color/00000176.jpg', '/content/drive/MyDrive/Colab Notebooks/Resit/sequences/ants1/color/00000177.jpg', '/content/drive/MyDrive/Colab Notebooks/Resit/sequences/ants1/color/00000178.jpg', '/content/drive/MyDrive/Colab Notebooks/Resit/sequences/ants1/color/00000179.jpg', '/content/drive/MyDrive/Colab Notebooks/Resit/sequences/ants1/color/00000180.jpg', '/content/drive/MyDrive/Colab Notebooks/Resit/sequences/ants1/color/00000181.jpg', '/content/drive/MyDrive/Colab Notebooks/Resit/sequences/ants1/color/00000182.jpg', '/content/drive/MyDrive/Colab Notebooks/Resit/sequences/ants1/color/00000183.jpg', '/content/drive/MyDrive/Colab Notebooks/Resit/sequences/ants1/color/00000184.jpg', '/content/drive/MyDrive/Colab Notebooks/Resit/sequences/ants1/color/00000185.jpg', '/content/drive/MyDrive/Colab Notebooks/Resit/sequences/ants1/color/00000186.jpg', '/content/drive/MyDrive/Colab Notebooks/Resit/sequences/ants1/color/00000187.jpg', '/content/drive/MyDrive/Colab Notebooks/Resit/sequences/ants1/color/00000188.jpg', '/content/drive/MyDrive/Colab Notebooks/Resit/sequences/ants1/color/00000189.jpg', '/content/drive/MyDrive/Colab Notebooks/Resit/sequences/ants1/color/00000190.jpg', '/content/drive/MyDrive/Colab Notebooks/Resit/sequences/ants1/color/00000191.jpg', '/content/drive/MyDrive/Colab Notebooks/Resit/sequences/ants1/color/00000192.jpg', '/content/drive/MyDrive/Colab Notebooks/Resit/sequences/ants1/color/00000193.jpg', '/content/drive/MyDrive/Colab Notebooks/Resit/sequences/ants1/color/00000194.jpg', '/content/drive/MyDrive/Colab Notebooks/Resit/sequences/ants1/color/00000195.jpg', '/content/drive/MyDrive/Colab Notebooks/Resit/sequences/ants1/color/00000196.jpg', '/content/drive/MyDrive/Colab Notebooks/Resit/sequences/ants1/color/00000197.jpg', '/content/drive/MyDrive/Colab Notebooks/Resit/sequences/ants1/color/00000198.jpg', '/content/drive/MyDrive/Colab Notebooks/Resit/sequences/ants1/color/00000199.jpg', '/content/drive/MyDrive/Colab Notebooks/Resit/sequences/ants1/color/00000200.jpg', '/content/drive/MyDrive/Colab Notebooks/Resit/sequences/ants1/color/00000201.jpg', '/content/drive/MyDrive/Colab Notebooks/Resit/sequences/ants1/color/00000202.jpg', '/content/drive/MyDrive/Colab Notebooks/Resit/sequences/ants1/color/00000203.jpg', '/content/drive/MyDrive/Colab Notebooks/Resit/sequences/ants1/color/00000204.jpg', '/content/drive/MyDrive/Colab Notebooks/Resit/sequences/ants1/color/00000205.jpg', '/content/drive/MyDrive/Colab Notebooks/Resit/sequences/ants1/color/00000206.jpg', '/content/drive/MyDrive/Colab Notebooks/Resit/sequences/ants1/color/00000207.jpg', '/content/drive/MyDrive/Colab Notebooks/Resit/sequences/ants1/color/00000208.jpg', '/content/drive/MyDrive/Colab Notebooks/Resit/sequences/ants1/color/00000209.jpg', '/content/drive/MyDrive/Colab Notebooks/Resit/sequences/ants1/color/00000210.jpg', '/content/drive/MyDrive/Colab Notebooks/Resit/sequences/ants1/color/00000211.jpg', '/content/drive/MyDrive/Colab Notebooks/Resit/sequences/ants1/color/00000212.jpg', '/content/drive/MyDrive/Colab Notebooks/Resit/sequences/ants1/color/00000213.jpg', '/content/drive/MyDrive/Colab Notebooks/Resit/sequences/ants1/color/00000214.jpg', '/content/drive/MyDrive/Colab Notebooks/Resit/sequences/ants1/color/00000215.jpg', '/content/drive/MyDrive/Colab Notebooks/Resit/sequences/ants1/color/00000216.jpg', '/content/drive/MyDrive/Colab Notebooks/Resit/sequences/ants1/color/00000217.jpg', '/content/drive/MyDrive/Colab Notebooks/Resit/sequences/ants1/color/00000218.jpg', '/content/drive/MyDrive/Colab Notebooks/Resit/sequences/ants1/color/00000219.jpg', '/content/drive/MyDrive/Colab Notebooks/Resit/sequences/ants1/color/00000220.jpg', '/content/drive/MyDrive/Colab Notebooks/Resit/sequences/ants1/color/00000221.jpg', '/content/drive/MyDrive/Colab Notebooks/Resit/sequences/ants1/color/00000222.jpg', '/content/drive/MyDrive/Colab Notebooks/Resit/sequences/ants1/color/00000223.jpg', '/content/drive/MyDrive/Colab Notebooks/Resit/sequences/ants1/color/00000224.jpg', '/content/drive/MyDrive/Colab Notebooks/Resit/sequences/ants1/color/00000225.jpg', '/content/drive/MyDrive/Colab Notebooks/Resit/sequences/ants1/color/00000226.jpg', '/content/drive/MyDrive/Colab Notebooks/Resit/sequences/ants1/color/00000227.jpg', '/content/drive/MyDrive/Colab Notebooks/Resit/sequences/ants1/color/00000228.jpg', '/content/drive/MyDrive/Colab Notebooks/Resit/sequences/ants1/color/00000229.jpg', '/content/drive/MyDrive/Colab Notebooks/Resit/sequences/ants1/color/00000230.jpg', '/content/drive/MyDrive/Colab Notebooks/Resit/sequences/ants1/color/00000231.jpg', '/content/drive/MyDrive/Colab Notebooks/Resit/sequences/ants1/color/00000232.jpg', '/content/drive/MyDrive/Colab Notebooks/Resit/sequences/ants1/color/00000233.jpg', '/content/drive/MyDrive/Colab Notebooks/Resit/sequences/ants1/color/00000234.jpg', '/content/drive/MyDrive/Colab Notebooks/Resit/sequences/ants1/color/00000235.jpg', '/content/drive/MyDrive/Colab Notebooks/Resit/sequences/ants1/color/00000236.jpg', '/content/drive/MyDrive/Colab Notebooks/Resit/sequences/ants1/color/00000237.jpg', '/content/drive/MyDrive/Colab Notebooks/Resit/sequences/ants1/color/00000238.jpg', '/content/drive/MyDrive/Colab Notebooks/Resit/sequences/ants1/color/00000239.jpg', '/content/drive/MyDrive/Colab Notebooks/Resit/sequences/ants1/color/00000240.jpg', '/content/drive/MyDrive/Colab Notebooks/Resit/sequences/ants1/color/00000241.jpg', '/content/drive/MyDrive/Colab Notebooks/Resit/sequences/ants1/color/00000242.jpg', '/content/drive/MyDrive/Colab Notebooks/Resit/sequences/ants1/color/00000243.jpg', '/content/drive/MyDrive/Colab Notebooks/Resit/sequences/ants1/color/00000244.jpg', '/content/drive/MyDrive/Colab Notebooks/Resit/sequences/ants1/color/00000245.jpg', '/content/drive/MyDrive/Colab Notebooks/Resit/sequences/ants1/color/00000246.jpg', '/content/drive/MyDrive/Colab Notebooks/Resit/sequences/ants1/color/00000247.jpg', '/content/drive/MyDrive/Colab Notebooks/Resit/sequences/ants1/color/00000248.jpg', '/content/drive/MyDrive/Colab Notebooks/Resit/sequences/ants1/color/00000249.jpg', '/content/drive/MyDrive/Colab Notebooks/Resit/sequences/ants1/color/00000250.jpg', '/content/drive/MyDrive/Colab Notebooks/Resit/sequences/ants1/color/00000251.jpg', '/content/drive/MyDrive/Colab Notebooks/Resit/sequences/ants1/color/00000252.jpg', '/content/drive/MyDrive/Colab Notebooks/Resit/sequences/ants1/color/00000253.jpg', '/content/drive/MyDrive/Colab Notebooks/Resit/sequences/ants1/color/00000254.jpg', '/content/drive/MyDrive/Colab Notebooks/Resit/sequences/ants1/color/00000255.jpg', '/content/drive/MyDrive/Colab Notebooks/Resit/sequences/ants1/color/00000256.jpg', '/content/drive/MyDrive/Colab Notebooks/Resit/sequences/ants1/color/00000257.jpg', '/content/drive/MyDrive/Colab Notebooks/Resit/sequences/ants1/color/00000258.jpg', '/content/drive/MyDrive/Colab Notebooks/Resit/sequences/ants1/color/00000259.jpg', '/content/drive/MyDrive/Colab Notebooks/Resit/sequences/ants1/color/00000260.jpg', '/content/drive/MyDrive/Colab Notebooks/Resit/sequences/ants1/color/00000261.jpg', '/content/drive/MyDrive/Colab Notebooks/Resit/sequences/ants1/color/00000262.jpg', '/content/drive/MyDrive/Colab Notebooks/Resit/sequences/ants1/color/00000263.jpg', '/content/drive/MyDrive/Colab Notebooks/Resit/sequences/ants1/color/00000264.jpg', '/content/drive/MyDrive/Colab Notebooks/Resit/sequences/ants1/color/00000265.jpg', '/content/drive/MyDrive/Colab Notebooks/Resit/sequences/ants1/color/00000266.jpg', '/content/drive/MyDrive/Colab Notebooks/Resit/sequences/ants1/color/00000267.jpg', '/content/drive/MyDrive/Colab Notebooks/Resit/sequences/ants1/color/00000268.jpg', '/content/drive/MyDrive/Colab Notebooks/Resit/sequences/ants1/color/00000269.jpg', '/content/drive/MyDrive/Colab Notebooks/Resit/sequences/ants1/color/00000270.jpg', '/content/drive/MyDrive/Colab Notebooks/Resit/sequences/ants1/color/00000271.jpg', '/content/drive/MyDrive/Colab Notebooks/Resit/sequences/ants1/color/00000272.jpg', '/content/drive/MyDrive/Colab Notebooks/Resit/sequences/ants1/color/00000273.jpg', '/content/drive/MyDrive/Colab Notebooks/Resit/sequences/ants1/color/00000274.jpg', '/content/drive/MyDrive/Colab Notebooks/Resit/sequences/ants1/color/00000275.jpg', '/content/drive/MyDrive/Colab Notebooks/Resit/sequences/ants1/color/00000276.jpg', '/content/drive/MyDrive/Colab Notebooks/Resit/sequences/ants1/color/00000277.jpg', '/content/drive/MyDrive/Colab Notebooks/Resit/sequences/ants1/color/00000278.jpg', '/content/drive/MyDrive/Colab Notebooks/Resit/sequences/ants1/color/00000279.jpg', '/content/drive/MyDrive/Colab Notebooks/Resit/sequences/ants1/color/00000280.jpg', '/content/drive/MyDrive/Colab Notebooks/Resit/sequences/ants1/color/00000281.jpg', '/content/drive/MyDrive/Colab Notebooks/Resit/sequences/ants1/color/00000282.jpg', '/content/drive/MyDrive/Colab Notebooks/Resit/sequences/ants1/color/00000283.jpg', '/content/drive/MyDrive/Colab Notebooks/Resit/sequences/ants1/color/00000284.jpg', '/content/drive/MyDrive/Colab Notebooks/Resit/sequences/ants1/color/00000285.jpg', '/content/drive/MyDrive/Colab Notebooks/Resit/sequences/ants1/color/00000286.jpg', '/content/drive/MyDrive/Colab Notebooks/Resit/sequences/ants1/color/00000287.jpg', '/content/drive/MyDrive/Colab Notebooks/Resit/sequences/ants1/color/00000288.jpg', '/content/drive/MyDrive/Colab Notebooks/Resit/sequences/ants1/color/00000289.jpg', '/content/drive/MyDrive/Colab Notebooks/Resit/sequences/ants1/color/00000290.jpg', '/content/drive/MyDrive/Colab Notebooks/Resit/sequences/ants1/color/00000291.jpg', '/content/drive/MyDrive/Colab Notebooks/Resit/sequences/ants1/color/00000292.jpg', '/content/drive/MyDrive/Colab Notebooks/Resit/sequences/ants1/color/00000293.jpg', '/content/drive/MyDrive/Colab Notebooks/Resit/sequences/ants1/color/00000294.jpg', '/content/drive/MyDrive/Colab Notebooks/Resit/sequences/ants1/color/00000295.jpg', '/content/drive/MyDrive/Colab Notebooks/Resit/sequences/ants1/color/00000296.jpg', '/content/drive/MyDrive/Colab Notebooks/Resit/sequences/ants1/color/00000297.jpg', '/content/drive/MyDrive/Colab Notebooks/Resit/sequences/ants1/color/00000298.jpg', '/content/drive/MyDrive/Colab Notebooks/Resit/sequences/ants1/color/00000299.jpg', '/content/drive/MyDrive/Colab Notebooks/Resit/sequences/ants1/color/00000300.jpg', '/content/drive/MyDrive/Colab Notebooks/Resit/sequences/ants1/color/00000301.jpg', '/content/drive/MyDrive/Colab Notebooks/Resit/sequences/ants1/color/00000302.jpg', '/content/drive/MyDrive/Colab Notebooks/Resit/sequences/ants1/color/00000303.jpg', '/content/drive/MyDrive/Colab Notebooks/Resit/sequences/ants1/color/00000304.jpg', '/content/drive/MyDrive/Colab Notebooks/Resit/sequences/ants1/color/00000305.jpg', '/content/drive/MyDrive/Colab Notebooks/Resit/sequences/ants1/color/00000306.jpg', '/content/drive/MyDrive/Colab Notebooks/Resit/sequences/ants1/color/00000307.jpg', '/content/drive/MyDrive/Colab Notebooks/Resit/sequences/ants1/color/00000308.jpg', '/content/drive/MyDrive/Colab Notebooks/Resit/sequences/ants1/color/00000309.jpg', '/content/drive/MyDrive/Colab Notebooks/Resit/sequences/ants1/color/00000310.jpg', '/content/drive/MyDrive/Colab Notebooks/Resit/sequences/ants1/color/00000311.jpg', '/content/drive/MyDrive/Colab Notebooks/Resit/sequences/ants1/color/00000312.jpg', '/content/drive/MyDrive/Colab Notebooks/Resit/sequences/ants1/color/00000313.jpg', '/content/drive/MyDrive/Colab Notebooks/Resit/sequences/ants1/color/00000314.jpg', '/content/drive/MyDrive/Colab Notebooks/Resit/sequences/ants1/color/00000315.jpg', '/content/drive/MyDrive/Colab Notebooks/Resit/sequences/ants1/color/00000316.jpg', '/content/drive/MyDrive/Colab Notebooks/Resit/sequences/ants1/color/00000317.jpg', '/content/drive/MyDrive/Colab Notebooks/Resit/sequences/ants1/color/00000318.jpg', '/content/drive/MyDrive/Colab Notebooks/Resit/sequences/ants1/color/00000319.jpg', '/content/drive/MyDrive/Colab Notebooks/Resit/sequences/ants1/color/00000320.jpg', '/content/drive/MyDrive/Colab Notebooks/Resit/sequences/ants1/color/00000321.jpg', '/content/drive/MyDrive/Colab Notebooks/Resit/sequences/ants1/color/00000322.jpg', '/content/drive/MyDrive/Colab Notebooks/Resit/sequences/ants1/color/00000323.jpg', '/content/drive/MyDrive/Colab Notebooks/Resit/sequences/ants1/color/00000324.jpg']\n",
            "['/content/drive/MyDrive/Colab Notebooks/Resit/sequences/bag/color/00000001.jpg', '/content/drive/MyDrive/Colab Notebooks/Resit/sequences/bag/color/00000002.jpg', '/content/drive/MyDrive/Colab Notebooks/Resit/sequences/bag/color/00000003.jpg', '/content/drive/MyDrive/Colab Notebooks/Resit/sequences/bag/color/00000004.jpg', '/content/drive/MyDrive/Colab Notebooks/Resit/sequences/bag/color/00000005.jpg', '/content/drive/MyDrive/Colab Notebooks/Resit/sequences/bag/color/00000006.jpg', '/content/drive/MyDrive/Colab Notebooks/Resit/sequences/bag/color/00000007.jpg', '/content/drive/MyDrive/Colab Notebooks/Resit/sequences/bag/color/00000008.jpg', '/content/drive/MyDrive/Colab Notebooks/Resit/sequences/bag/color/00000009.jpg', '/content/drive/MyDrive/Colab Notebooks/Resit/sequences/bag/color/00000010.jpg', '/content/drive/MyDrive/Colab Notebooks/Resit/sequences/bag/color/00000011.jpg', '/content/drive/MyDrive/Colab Notebooks/Resit/sequences/bag/color/00000012.jpg', '/content/drive/MyDrive/Colab Notebooks/Resit/sequences/bag/color/00000013.jpg', '/content/drive/MyDrive/Colab Notebooks/Resit/sequences/bag/color/00000014.jpg', '/content/drive/MyDrive/Colab Notebooks/Resit/sequences/bag/color/00000015.jpg', '/content/drive/MyDrive/Colab Notebooks/Resit/sequences/bag/color/00000016.jpg', '/content/drive/MyDrive/Colab Notebooks/Resit/sequences/bag/color/00000017.jpg', '/content/drive/MyDrive/Colab Notebooks/Resit/sequences/bag/color/00000018.jpg', '/content/drive/MyDrive/Colab Notebooks/Resit/sequences/bag/color/00000019.jpg', '/content/drive/MyDrive/Colab Notebooks/Resit/sequences/bag/color/00000020.jpg', '/content/drive/MyDrive/Colab Notebooks/Resit/sequences/bag/color/00000021.jpg', '/content/drive/MyDrive/Colab Notebooks/Resit/sequences/bag/color/00000022.jpg', '/content/drive/MyDrive/Colab Notebooks/Resit/sequences/bag/color/00000023.jpg', '/content/drive/MyDrive/Colab Notebooks/Resit/sequences/bag/color/00000024.jpg', '/content/drive/MyDrive/Colab Notebooks/Resit/sequences/bag/color/00000025.jpg', '/content/drive/MyDrive/Colab Notebooks/Resit/sequences/bag/color/00000026.jpg', '/content/drive/MyDrive/Colab Notebooks/Resit/sequences/bag/color/00000027.jpg', '/content/drive/MyDrive/Colab Notebooks/Resit/sequences/bag/color/00000028.jpg', '/content/drive/MyDrive/Colab Notebooks/Resit/sequences/bag/color/00000029.jpg', '/content/drive/MyDrive/Colab Notebooks/Resit/sequences/bag/color/00000030.jpg', '/content/drive/MyDrive/Colab Notebooks/Resit/sequences/bag/color/00000031.jpg', '/content/drive/MyDrive/Colab Notebooks/Resit/sequences/bag/color/00000032.jpg', '/content/drive/MyDrive/Colab Notebooks/Resit/sequences/bag/color/00000033.jpg', '/content/drive/MyDrive/Colab Notebooks/Resit/sequences/bag/color/00000034.jpg', '/content/drive/MyDrive/Colab Notebooks/Resit/sequences/bag/color/00000035.jpg', '/content/drive/MyDrive/Colab Notebooks/Resit/sequences/bag/color/00000036.jpg', '/content/drive/MyDrive/Colab Notebooks/Resit/sequences/bag/color/00000037.jpg', '/content/drive/MyDrive/Colab Notebooks/Resit/sequences/bag/color/00000038.jpg', '/content/drive/MyDrive/Colab Notebooks/Resit/sequences/bag/color/00000039.jpg', '/content/drive/MyDrive/Colab Notebooks/Resit/sequences/bag/color/00000040.jpg', '/content/drive/MyDrive/Colab Notebooks/Resit/sequences/bag/color/00000041.jpg', '/content/drive/MyDrive/Colab Notebooks/Resit/sequences/bag/color/00000042.jpg', '/content/drive/MyDrive/Colab Notebooks/Resit/sequences/bag/color/00000043.jpg', '/content/drive/MyDrive/Colab Notebooks/Resit/sequences/bag/color/00000044.jpg', '/content/drive/MyDrive/Colab Notebooks/Resit/sequences/bag/color/00000045.jpg', '/content/drive/MyDrive/Colab Notebooks/Resit/sequences/bag/color/00000046.jpg', '/content/drive/MyDrive/Colab Notebooks/Resit/sequences/bag/color/00000047.jpg', '/content/drive/MyDrive/Colab Notebooks/Resit/sequences/bag/color/00000048.jpg', '/content/drive/MyDrive/Colab Notebooks/Resit/sequences/bag/color/00000049.jpg', '/content/drive/MyDrive/Colab Notebooks/Resit/sequences/bag/color/00000050.jpg', '/content/drive/MyDrive/Colab Notebooks/Resit/sequences/bag/color/00000051.jpg', '/content/drive/MyDrive/Colab Notebooks/Resit/sequences/bag/color/00000052.jpg', '/content/drive/MyDrive/Colab Notebooks/Resit/sequences/bag/color/00000053.jpg', '/content/drive/MyDrive/Colab Notebooks/Resit/sequences/bag/color/00000054.jpg', '/content/drive/MyDrive/Colab Notebooks/Resit/sequences/bag/color/00000055.jpg', '/content/drive/MyDrive/Colab Notebooks/Resit/sequences/bag/color/00000056.jpg', '/content/drive/MyDrive/Colab Notebooks/Resit/sequences/bag/color/00000057.jpg', '/content/drive/MyDrive/Colab Notebooks/Resit/sequences/bag/color/00000058.jpg', '/content/drive/MyDrive/Colab Notebooks/Resit/sequences/bag/color/00000059.jpg', '/content/drive/MyDrive/Colab Notebooks/Resit/sequences/bag/color/00000060.jpg', '/content/drive/MyDrive/Colab Notebooks/Resit/sequences/bag/color/00000061.jpg', '/content/drive/MyDrive/Colab Notebooks/Resit/sequences/bag/color/00000062.jpg', '/content/drive/MyDrive/Colab Notebooks/Resit/sequences/bag/color/00000063.jpg', '/content/drive/MyDrive/Colab Notebooks/Resit/sequences/bag/color/00000064.jpg', '/content/drive/MyDrive/Colab Notebooks/Resit/sequences/bag/color/00000065.jpg', '/content/drive/MyDrive/Colab Notebooks/Resit/sequences/bag/color/00000066.jpg', '/content/drive/MyDrive/Colab Notebooks/Resit/sequences/bag/color/00000067.jpg', '/content/drive/MyDrive/Colab Notebooks/Resit/sequences/bag/color/00000068.jpg', '/content/drive/MyDrive/Colab Notebooks/Resit/sequences/bag/color/00000069.jpg', '/content/drive/MyDrive/Colab Notebooks/Resit/sequences/bag/color/00000070.jpg', '/content/drive/MyDrive/Colab Notebooks/Resit/sequences/bag/color/00000071.jpg', '/content/drive/MyDrive/Colab Notebooks/Resit/sequences/bag/color/00000072.jpg', '/content/drive/MyDrive/Colab Notebooks/Resit/sequences/bag/color/00000073.jpg', '/content/drive/MyDrive/Colab Notebooks/Resit/sequences/bag/color/00000074.jpg', '/content/drive/MyDrive/Colab Notebooks/Resit/sequences/bag/color/00000075.jpg', '/content/drive/MyDrive/Colab Notebooks/Resit/sequences/bag/color/00000076.jpg', '/content/drive/MyDrive/Colab Notebooks/Resit/sequences/bag/color/00000077.jpg', '/content/drive/MyDrive/Colab Notebooks/Resit/sequences/bag/color/00000078.jpg', '/content/drive/MyDrive/Colab Notebooks/Resit/sequences/bag/color/00000079.jpg', '/content/drive/MyDrive/Colab Notebooks/Resit/sequences/bag/color/00000080.jpg', '/content/drive/MyDrive/Colab Notebooks/Resit/sequences/bag/color/00000081.jpg', '/content/drive/MyDrive/Colab Notebooks/Resit/sequences/bag/color/00000082.jpg', '/content/drive/MyDrive/Colab Notebooks/Resit/sequences/bag/color/00000083.jpg', '/content/drive/MyDrive/Colab Notebooks/Resit/sequences/bag/color/00000084.jpg', '/content/drive/MyDrive/Colab Notebooks/Resit/sequences/bag/color/00000085.jpg', '/content/drive/MyDrive/Colab Notebooks/Resit/sequences/bag/color/00000086.jpg', '/content/drive/MyDrive/Colab Notebooks/Resit/sequences/bag/color/00000087.jpg', '/content/drive/MyDrive/Colab Notebooks/Resit/sequences/bag/color/00000088.jpg', '/content/drive/MyDrive/Colab Notebooks/Resit/sequences/bag/color/00000089.jpg', '/content/drive/MyDrive/Colab Notebooks/Resit/sequences/bag/color/00000090.jpg', '/content/drive/MyDrive/Colab Notebooks/Resit/sequences/bag/color/00000091.jpg', '/content/drive/MyDrive/Colab Notebooks/Resit/sequences/bag/color/00000092.jpg', '/content/drive/MyDrive/Colab Notebooks/Resit/sequences/bag/color/00000093.jpg', '/content/drive/MyDrive/Colab Notebooks/Resit/sequences/bag/color/00000094.jpg', '/content/drive/MyDrive/Colab Notebooks/Resit/sequences/bag/color/00000095.jpg', '/content/drive/MyDrive/Colab Notebooks/Resit/sequences/bag/color/00000096.jpg', '/content/drive/MyDrive/Colab Notebooks/Resit/sequences/bag/color/00000097.jpg', '/content/drive/MyDrive/Colab Notebooks/Resit/sequences/bag/color/00000098.jpg', '/content/drive/MyDrive/Colab Notebooks/Resit/sequences/bag/color/00000099.jpg', '/content/drive/MyDrive/Colab Notebooks/Resit/sequences/bag/color/00000100.jpg', '/content/drive/MyDrive/Colab Notebooks/Resit/sequences/bag/color/00000101.jpg', '/content/drive/MyDrive/Colab Notebooks/Resit/sequences/bag/color/00000102.jpg', '/content/drive/MyDrive/Colab Notebooks/Resit/sequences/bag/color/00000103.jpg', '/content/drive/MyDrive/Colab Notebooks/Resit/sequences/bag/color/00000104.jpg', '/content/drive/MyDrive/Colab Notebooks/Resit/sequences/bag/color/00000105.jpg', '/content/drive/MyDrive/Colab Notebooks/Resit/sequences/bag/color/00000106.jpg', '/content/drive/MyDrive/Colab Notebooks/Resit/sequences/bag/color/00000107.jpg', '/content/drive/MyDrive/Colab Notebooks/Resit/sequences/bag/color/00000108.jpg', '/content/drive/MyDrive/Colab Notebooks/Resit/sequences/bag/color/00000109.jpg', '/content/drive/MyDrive/Colab Notebooks/Resit/sequences/bag/color/00000110.jpg', '/content/drive/MyDrive/Colab Notebooks/Resit/sequences/bag/color/00000111.jpg', '/content/drive/MyDrive/Colab Notebooks/Resit/sequences/bag/color/00000112.jpg', '/content/drive/MyDrive/Colab Notebooks/Resit/sequences/bag/color/00000113.jpg', '/content/drive/MyDrive/Colab Notebooks/Resit/sequences/bag/color/00000114.jpg', '/content/drive/MyDrive/Colab Notebooks/Resit/sequences/bag/color/00000115.jpg', '/content/drive/MyDrive/Colab Notebooks/Resit/sequences/bag/color/00000116.jpg', '/content/drive/MyDrive/Colab Notebooks/Resit/sequences/bag/color/00000117.jpg', '/content/drive/MyDrive/Colab Notebooks/Resit/sequences/bag/color/00000118.jpg', '/content/drive/MyDrive/Colab Notebooks/Resit/sequences/bag/color/00000119.jpg', '/content/drive/MyDrive/Colab Notebooks/Resit/sequences/bag/color/00000120.jpg', '/content/drive/MyDrive/Colab Notebooks/Resit/sequences/bag/color/00000121.jpg', '/content/drive/MyDrive/Colab Notebooks/Resit/sequences/bag/color/00000122.jpg', '/content/drive/MyDrive/Colab Notebooks/Resit/sequences/bag/color/00000123.jpg', '/content/drive/MyDrive/Colab Notebooks/Resit/sequences/bag/color/00000124.jpg', '/content/drive/MyDrive/Colab Notebooks/Resit/sequences/bag/color/00000125.jpg', '/content/drive/MyDrive/Colab Notebooks/Resit/sequences/bag/color/00000126.jpg', '/content/drive/MyDrive/Colab Notebooks/Resit/sequences/bag/color/00000127.jpg', '/content/drive/MyDrive/Colab Notebooks/Resit/sequences/bag/color/00000128.jpg', '/content/drive/MyDrive/Colab Notebooks/Resit/sequences/bag/color/00000129.jpg', '/content/drive/MyDrive/Colab Notebooks/Resit/sequences/bag/color/00000130.jpg', '/content/drive/MyDrive/Colab Notebooks/Resit/sequences/bag/color/00000131.jpg', '/content/drive/MyDrive/Colab Notebooks/Resit/sequences/bag/color/00000132.jpg', '/content/drive/MyDrive/Colab Notebooks/Resit/sequences/bag/color/00000133.jpg', '/content/drive/MyDrive/Colab Notebooks/Resit/sequences/bag/color/00000134.jpg', '/content/drive/MyDrive/Colab Notebooks/Resit/sequences/bag/color/00000135.jpg', '/content/drive/MyDrive/Colab Notebooks/Resit/sequences/bag/color/00000136.jpg', '/content/drive/MyDrive/Colab Notebooks/Resit/sequences/bag/color/00000137.jpg', '/content/drive/MyDrive/Colab Notebooks/Resit/sequences/bag/color/00000138.jpg', '/content/drive/MyDrive/Colab Notebooks/Resit/sequences/bag/color/00000139.jpg', '/content/drive/MyDrive/Colab Notebooks/Resit/sequences/bag/color/00000140.jpg', '/content/drive/MyDrive/Colab Notebooks/Resit/sequences/bag/color/00000141.jpg', '/content/drive/MyDrive/Colab Notebooks/Resit/sequences/bag/color/00000142.jpg', '/content/drive/MyDrive/Colab Notebooks/Resit/sequences/bag/color/00000143.jpg', '/content/drive/MyDrive/Colab Notebooks/Resit/sequences/bag/color/00000144.jpg', '/content/drive/MyDrive/Colab Notebooks/Resit/sequences/bag/color/00000145.jpg', '/content/drive/MyDrive/Colab Notebooks/Resit/sequences/bag/color/00000146.jpg', '/content/drive/MyDrive/Colab Notebooks/Resit/sequences/bag/color/00000147.jpg', '/content/drive/MyDrive/Colab Notebooks/Resit/sequences/bag/color/00000148.jpg', '/content/drive/MyDrive/Colab Notebooks/Resit/sequences/bag/color/00000149.jpg', '/content/drive/MyDrive/Colab Notebooks/Resit/sequences/bag/color/00000150.jpg', '/content/drive/MyDrive/Colab Notebooks/Resit/sequences/bag/color/00000151.jpg', '/content/drive/MyDrive/Colab Notebooks/Resit/sequences/bag/color/00000152.jpg', '/content/drive/MyDrive/Colab Notebooks/Resit/sequences/bag/color/00000153.jpg', '/content/drive/MyDrive/Colab Notebooks/Resit/sequences/bag/color/00000154.jpg', '/content/drive/MyDrive/Colab Notebooks/Resit/sequences/bag/color/00000155.jpg', '/content/drive/MyDrive/Colab Notebooks/Resit/sequences/bag/color/00000156.jpg', '/content/drive/MyDrive/Colab Notebooks/Resit/sequences/bag/color/00000157.jpg', '/content/drive/MyDrive/Colab Notebooks/Resit/sequences/bag/color/00000158.jpg', '/content/drive/MyDrive/Colab Notebooks/Resit/sequences/bag/color/00000159.jpg', '/content/drive/MyDrive/Colab Notebooks/Resit/sequences/bag/color/00000160.jpg', '/content/drive/MyDrive/Colab Notebooks/Resit/sequences/bag/color/00000161.jpg', '/content/drive/MyDrive/Colab Notebooks/Resit/sequences/bag/color/00000162.jpg', '/content/drive/MyDrive/Colab Notebooks/Resit/sequences/bag/color/00000163.jpg', '/content/drive/MyDrive/Colab Notebooks/Resit/sequences/bag/color/00000164.jpg', '/content/drive/MyDrive/Colab Notebooks/Resit/sequences/bag/color/00000165.jpg', '/content/drive/MyDrive/Colab Notebooks/Resit/sequences/bag/color/00000166.jpg', '/content/drive/MyDrive/Colab Notebooks/Resit/sequences/bag/color/00000167.jpg', '/content/drive/MyDrive/Colab Notebooks/Resit/sequences/bag/color/00000168.jpg', '/content/drive/MyDrive/Colab Notebooks/Resit/sequences/bag/color/00000169.jpg', '/content/drive/MyDrive/Colab Notebooks/Resit/sequences/bag/color/00000170.jpg', '/content/drive/MyDrive/Colab Notebooks/Resit/sequences/bag/color/00000171.jpg', '/content/drive/MyDrive/Colab Notebooks/Resit/sequences/bag/color/00000172.jpg', '/content/drive/MyDrive/Colab Notebooks/Resit/sequences/bag/color/00000173.jpg', '/content/drive/MyDrive/Colab Notebooks/Resit/sequences/bag/color/00000174.jpg', '/content/drive/MyDrive/Colab Notebooks/Resit/sequences/bag/color/00000175.jpg', '/content/drive/MyDrive/Colab Notebooks/Resit/sequences/bag/color/00000176.jpg', '/content/drive/MyDrive/Colab Notebooks/Resit/sequences/bag/color/00000177.jpg', '/content/drive/MyDrive/Colab Notebooks/Resit/sequences/bag/color/00000178.jpg', '/content/drive/MyDrive/Colab Notebooks/Resit/sequences/bag/color/00000179.jpg', '/content/drive/MyDrive/Colab Notebooks/Resit/sequences/bag/color/00000180.jpg', '/content/drive/MyDrive/Colab Notebooks/Resit/sequences/bag/color/00000181.jpg', '/content/drive/MyDrive/Colab Notebooks/Resit/sequences/bag/color/00000182.jpg', '/content/drive/MyDrive/Colab Notebooks/Resit/sequences/bag/color/00000183.jpg', '/content/drive/MyDrive/Colab Notebooks/Resit/sequences/bag/color/00000184.jpg', '/content/drive/MyDrive/Colab Notebooks/Resit/sequences/bag/color/00000185.jpg', '/content/drive/MyDrive/Colab Notebooks/Resit/sequences/bag/color/00000186.jpg', '/content/drive/MyDrive/Colab Notebooks/Resit/sequences/bag/color/00000187.jpg', '/content/drive/MyDrive/Colab Notebooks/Resit/sequences/bag/color/00000188.jpg', '/content/drive/MyDrive/Colab Notebooks/Resit/sequences/bag/color/00000189.jpg', '/content/drive/MyDrive/Colab Notebooks/Resit/sequences/bag/color/00000190.jpg', '/content/drive/MyDrive/Colab Notebooks/Resit/sequences/bag/color/00000191.jpg', '/content/drive/MyDrive/Colab Notebooks/Resit/sequences/bag/color/00000192.jpg', '/content/drive/MyDrive/Colab Notebooks/Resit/sequences/bag/color/00000193.jpg', '/content/drive/MyDrive/Colab Notebooks/Resit/sequences/bag/color/00000194.jpg', '/content/drive/MyDrive/Colab Notebooks/Resit/sequences/bag/color/00000195.jpg', '/content/drive/MyDrive/Colab Notebooks/Resit/sequences/bag/color/00000196.jpg', '/content/drive/MyDrive/Colab Notebooks/Resit/sequences/bag/color/00000197.jpg', '/content/drive/MyDrive/Colab Notebooks/Resit/sequences/bag/color/00000198.jpg', '/content/drive/MyDrive/Colab Notebooks/Resit/sequences/bag/color/00000199.jpg', '/content/drive/MyDrive/Colab Notebooks/Resit/sequences/bag/color/00000200.jpg', '/content/drive/MyDrive/Colab Notebooks/Resit/sequences/bag/color/00000201.jpg', '/content/drive/MyDrive/Colab Notebooks/Resit/sequences/bag/color/00000202.jpg', '/content/drive/MyDrive/Colab Notebooks/Resit/sequences/bag/color/00000203.jpg', '/content/drive/MyDrive/Colab Notebooks/Resit/sequences/bag/color/00000204.jpg', '/content/drive/MyDrive/Colab Notebooks/Resit/sequences/bag/color/00000205.jpg', '/content/drive/MyDrive/Colab Notebooks/Resit/sequences/bag/color/00000206.jpg', '/content/drive/MyDrive/Colab Notebooks/Resit/sequences/bag/color/00000207.jpg', '/content/drive/MyDrive/Colab Notebooks/Resit/sequences/bag/color/00000208.jpg', '/content/drive/MyDrive/Colab Notebooks/Resit/sequences/bag/color/00000209.jpg', '/content/drive/MyDrive/Colab Notebooks/Resit/sequences/bag/color/00000210.jpg', '/content/drive/MyDrive/Colab Notebooks/Resit/sequences/bag/color/00000211.jpg', '/content/drive/MyDrive/Colab Notebooks/Resit/sequences/bag/color/00000212.jpg', '/content/drive/MyDrive/Colab Notebooks/Resit/sequences/bag/color/00000213.jpg', '/content/drive/MyDrive/Colab Notebooks/Resit/sequences/bag/color/00000214.jpg', '/content/drive/MyDrive/Colab Notebooks/Resit/sequences/bag/color/00000215.jpg', '/content/drive/MyDrive/Colab Notebooks/Resit/sequences/bag/color/00000216.jpg', '/content/drive/MyDrive/Colab Notebooks/Resit/sequences/bag/color/00000217.jpg', '/content/drive/MyDrive/Colab Notebooks/Resit/sequences/bag/color/00000218.jpg', '/content/drive/MyDrive/Colab Notebooks/Resit/sequences/bag/color/00000219.jpg', '/content/drive/MyDrive/Colab Notebooks/Resit/sequences/bag/color/00000220.jpg', '/content/drive/MyDrive/Colab Notebooks/Resit/sequences/bag/color/00000221.jpg', '/content/drive/MyDrive/Colab Notebooks/Resit/sequences/bag/color/00000222.jpg', '/content/drive/MyDrive/Colab Notebooks/Resit/sequences/bag/color/00000223.jpg', '/content/drive/MyDrive/Colab Notebooks/Resit/sequences/bag/color/00000224.jpg', '/content/drive/MyDrive/Colab Notebooks/Resit/sequences/bag/color/00000225.jpg', '/content/drive/MyDrive/Colab Notebooks/Resit/sequences/bag/color/00000226.jpg', '/content/drive/MyDrive/Colab Notebooks/Resit/sequences/bag/color/00000227.jpg', '/content/drive/MyDrive/Colab Notebooks/Resit/sequences/bag/color/00000228.jpg', '/content/drive/MyDrive/Colab Notebooks/Resit/sequences/bag/color/00000229.jpg', '/content/drive/MyDrive/Colab Notebooks/Resit/sequences/bag/color/00000230.jpg', '/content/drive/MyDrive/Colab Notebooks/Resit/sequences/bag/color/00000231.jpg', '/content/drive/MyDrive/Colab Notebooks/Resit/sequences/bag/color/00000232.jpg', '/content/drive/MyDrive/Colab Notebooks/Resit/sequences/bag/color/00000233.jpg', '/content/drive/MyDrive/Colab Notebooks/Resit/sequences/bag/color/00000234.jpg', '/content/drive/MyDrive/Colab Notebooks/Resit/sequences/bag/color/00000235.jpg', '/content/drive/MyDrive/Colab Notebooks/Resit/sequences/bag/color/00000236.jpg', '/content/drive/MyDrive/Colab Notebooks/Resit/sequences/bag/color/00000237.jpg', '/content/drive/MyDrive/Colab Notebooks/Resit/sequences/bag/color/00000238.jpg', '/content/drive/MyDrive/Colab Notebooks/Resit/sequences/bag/color/00000239.jpg', '/content/drive/MyDrive/Colab Notebooks/Resit/sequences/bag/color/00000240.jpg', '/content/drive/MyDrive/Colab Notebooks/Resit/sequences/bag/color/00000241.jpg', '/content/drive/MyDrive/Colab Notebooks/Resit/sequences/bag/color/00000242.jpg', '/content/drive/MyDrive/Colab Notebooks/Resit/sequences/bag/color/00000243.jpg', '/content/drive/MyDrive/Colab Notebooks/Resit/sequences/bag/color/00000244.jpg', '/content/drive/MyDrive/Colab Notebooks/Resit/sequences/bag/color/00000245.jpg', '/content/drive/MyDrive/Colab Notebooks/Resit/sequences/bag/color/00000246.jpg', '/content/drive/MyDrive/Colab Notebooks/Resit/sequences/bag/color/00000247.jpg', '/content/drive/MyDrive/Colab Notebooks/Resit/sequences/bag/color/00000248.jpg', '/content/drive/MyDrive/Colab Notebooks/Resit/sequences/bag/color/00000249.jpg', '/content/drive/MyDrive/Colab Notebooks/Resit/sequences/bag/color/00000250.jpg', '/content/drive/MyDrive/Colab Notebooks/Resit/sequences/bag/color/00000251.jpg', '/content/drive/MyDrive/Colab Notebooks/Resit/sequences/bag/color/00000252.jpg', '/content/drive/MyDrive/Colab Notebooks/Resit/sequences/bag/color/00000253.jpg', '/content/drive/MyDrive/Colab Notebooks/Resit/sequences/bag/color/00000254.jpg', '/content/drive/MyDrive/Colab Notebooks/Resit/sequences/bag/color/00000255.jpg', '/content/drive/MyDrive/Colab Notebooks/Resit/sequences/bag/color/00000256.jpg', '/content/drive/MyDrive/Colab Notebooks/Resit/sequences/bag/color/00000257.jpg', '/content/drive/MyDrive/Colab Notebooks/Resit/sequences/bag/color/00000258.jpg', '/content/drive/MyDrive/Colab Notebooks/Resit/sequences/bag/color/00000259.jpg', '/content/drive/MyDrive/Colab Notebooks/Resit/sequences/bag/color/00000260.jpg', '/content/drive/MyDrive/Colab Notebooks/Resit/sequences/bag/color/00000261.jpg', '/content/drive/MyDrive/Colab Notebooks/Resit/sequences/bag/color/00000262.jpg', '/content/drive/MyDrive/Colab Notebooks/Resit/sequences/bag/color/00000263.jpg', '/content/drive/MyDrive/Colab Notebooks/Resit/sequences/bag/color/00000264.jpg', '/content/drive/MyDrive/Colab Notebooks/Resit/sequences/bag/color/00000265.jpg', '/content/drive/MyDrive/Colab Notebooks/Resit/sequences/bag/color/00000266.jpg', '/content/drive/MyDrive/Colab Notebooks/Resit/sequences/bag/color/00000267.jpg', '/content/drive/MyDrive/Colab Notebooks/Resit/sequences/bag/color/00000268.jpg', '/content/drive/MyDrive/Colab Notebooks/Resit/sequences/bag/color/00000269.jpg', '/content/drive/MyDrive/Colab Notebooks/Resit/sequences/bag/color/00000270.jpg', '/content/drive/MyDrive/Colab Notebooks/Resit/sequences/bag/color/00000271.jpg', '/content/drive/MyDrive/Colab Notebooks/Resit/sequences/bag/color/00000272.jpg', '/content/drive/MyDrive/Colab Notebooks/Resit/sequences/bag/color/00000273.jpg', '/content/drive/MyDrive/Colab Notebooks/Resit/sequences/bag/color/00000274.jpg', '/content/drive/MyDrive/Colab Notebooks/Resit/sequences/bag/color/00000275.jpg', '/content/drive/MyDrive/Colab Notebooks/Resit/sequences/bag/color/00000276.jpg', '/content/drive/MyDrive/Colab Notebooks/Resit/sequences/bag/color/00000277.jpg', '/content/drive/MyDrive/Colab Notebooks/Resit/sequences/bag/color/00000278.jpg', '/content/drive/MyDrive/Colab Notebooks/Resit/sequences/bag/color/00000279.jpg', '/content/drive/MyDrive/Colab Notebooks/Resit/sequences/bag/color/00000280.jpg', '/content/drive/MyDrive/Colab Notebooks/Resit/sequences/bag/color/00000281.jpg', '/content/drive/MyDrive/Colab Notebooks/Resit/sequences/bag/color/00000282.jpg', '/content/drive/MyDrive/Colab Notebooks/Resit/sequences/bag/color/00000283.jpg', '/content/drive/MyDrive/Colab Notebooks/Resit/sequences/bag/color/00000284.jpg', '/content/drive/MyDrive/Colab Notebooks/Resit/sequences/bag/color/00000285.jpg', '/content/drive/MyDrive/Colab Notebooks/Resit/sequences/bag/color/00000286.jpg', '/content/drive/MyDrive/Colab Notebooks/Resit/sequences/bag/color/00000287.jpg', '/content/drive/MyDrive/Colab Notebooks/Resit/sequences/bag/color/00000288.jpg', '/content/drive/MyDrive/Colab Notebooks/Resit/sequences/bag/color/00000289.jpg', '/content/drive/MyDrive/Colab Notebooks/Resit/sequences/bag/color/00000290.jpg', '/content/drive/MyDrive/Colab Notebooks/Resit/sequences/bag/color/00000291.jpg', '/content/drive/MyDrive/Colab Notebooks/Resit/sequences/bag/color/00000292.jpg', '/content/drive/MyDrive/Colab Notebooks/Resit/sequences/bag/color/00000293.jpg', '/content/drive/MyDrive/Colab Notebooks/Resit/sequences/bag/color/00000294.jpg', '/content/drive/MyDrive/Colab Notebooks/Resit/sequences/bag/color/00000295.jpg', '/content/drive/MyDrive/Colab Notebooks/Resit/sequences/bag/color/00000296.jpg', '/content/drive/MyDrive/Colab Notebooks/Resit/sequences/bag/color/00000297.jpg', '/content/drive/MyDrive/Colab Notebooks/Resit/sequences/bag/color/00000298.jpg', '/content/drive/MyDrive/Colab Notebooks/Resit/sequences/bag/color/00000299.jpg', '/content/drive/MyDrive/Colab Notebooks/Resit/sequences/bag/color/00000300.jpg', '/content/drive/MyDrive/Colab Notebooks/Resit/sequences/bag/color/00000301.jpg', '/content/drive/MyDrive/Colab Notebooks/Resit/sequences/bag/color/00000302.jpg', '/content/drive/MyDrive/Colab Notebooks/Resit/sequences/bag/color/00000303.jpg', '/content/drive/MyDrive/Colab Notebooks/Resit/sequences/bag/color/00000304.jpg', '/content/drive/MyDrive/Colab Notebooks/Resit/sequences/bag/color/00000305.jpg', '/content/drive/MyDrive/Colab Notebooks/Resit/sequences/bag/color/00000306.jpg', '/content/drive/MyDrive/Colab Notebooks/Resit/sequences/bag/color/00000307.jpg', '/content/drive/MyDrive/Colab Notebooks/Resit/sequences/bag/color/00000308.jpg', '/content/drive/MyDrive/Colab Notebooks/Resit/sequences/bag/color/00000309.jpg', '/content/drive/MyDrive/Colab Notebooks/Resit/sequences/bag/color/00000310.jpg']\n",
            "['/content/drive/MyDrive/Colab Notebooks/Resit/sequences/ball2/color/00000001.jpg', '/content/drive/MyDrive/Colab Notebooks/Resit/sequences/ball2/color/00000002.jpg', '/content/drive/MyDrive/Colab Notebooks/Resit/sequences/ball2/color/00000003.jpg', '/content/drive/MyDrive/Colab Notebooks/Resit/sequences/ball2/color/00000004.jpg', '/content/drive/MyDrive/Colab Notebooks/Resit/sequences/ball2/color/00000005.jpg', '/content/drive/MyDrive/Colab Notebooks/Resit/sequences/ball2/color/00000006.jpg', '/content/drive/MyDrive/Colab Notebooks/Resit/sequences/ball2/color/00000007.jpg', '/content/drive/MyDrive/Colab Notebooks/Resit/sequences/ball2/color/00000008.jpg', '/content/drive/MyDrive/Colab Notebooks/Resit/sequences/ball2/color/00000009.jpg', '/content/drive/MyDrive/Colab Notebooks/Resit/sequences/ball2/color/00000010.jpg', '/content/drive/MyDrive/Colab Notebooks/Resit/sequences/ball2/color/00000011.jpg', '/content/drive/MyDrive/Colab Notebooks/Resit/sequences/ball2/color/00000012.jpg', '/content/drive/MyDrive/Colab Notebooks/Resit/sequences/ball2/color/00000013.jpg', '/content/drive/MyDrive/Colab Notebooks/Resit/sequences/ball2/color/00000014.jpg', '/content/drive/MyDrive/Colab Notebooks/Resit/sequences/ball2/color/00000015.jpg', '/content/drive/MyDrive/Colab Notebooks/Resit/sequences/ball2/color/00000016.jpg', '/content/drive/MyDrive/Colab Notebooks/Resit/sequences/ball2/color/00000017.jpg', '/content/drive/MyDrive/Colab Notebooks/Resit/sequences/ball2/color/00000018.jpg', '/content/drive/MyDrive/Colab Notebooks/Resit/sequences/ball2/color/00000019.jpg', '/content/drive/MyDrive/Colab Notebooks/Resit/sequences/ball2/color/00000020.jpg', '/content/drive/MyDrive/Colab Notebooks/Resit/sequences/ball2/color/00000021.jpg', '/content/drive/MyDrive/Colab Notebooks/Resit/sequences/ball2/color/00000022.jpg', '/content/drive/MyDrive/Colab Notebooks/Resit/sequences/ball2/color/00000023.jpg', '/content/drive/MyDrive/Colab Notebooks/Resit/sequences/ball2/color/00000024.jpg', '/content/drive/MyDrive/Colab Notebooks/Resit/sequences/ball2/color/00000025.jpg', '/content/drive/MyDrive/Colab Notebooks/Resit/sequences/ball2/color/00000026.jpg', '/content/drive/MyDrive/Colab Notebooks/Resit/sequences/ball2/color/00000027.jpg', '/content/drive/MyDrive/Colab Notebooks/Resit/sequences/ball2/color/00000028.jpg', '/content/drive/MyDrive/Colab Notebooks/Resit/sequences/ball2/color/00000029.jpg', '/content/drive/MyDrive/Colab Notebooks/Resit/sequences/ball2/color/00000030.jpg', '/content/drive/MyDrive/Colab Notebooks/Resit/sequences/ball2/color/00000031.jpg', '/content/drive/MyDrive/Colab Notebooks/Resit/sequences/ball2/color/00000032.jpg', '/content/drive/MyDrive/Colab Notebooks/Resit/sequences/ball2/color/00000033.jpg', '/content/drive/MyDrive/Colab Notebooks/Resit/sequences/ball2/color/00000034.jpg', '/content/drive/MyDrive/Colab Notebooks/Resit/sequences/ball2/color/00000035.jpg', '/content/drive/MyDrive/Colab Notebooks/Resit/sequences/ball2/color/00000036.jpg', '/content/drive/MyDrive/Colab Notebooks/Resit/sequences/ball2/color/00000037.jpg', '/content/drive/MyDrive/Colab Notebooks/Resit/sequences/ball2/color/00000038.jpg', '/content/drive/MyDrive/Colab Notebooks/Resit/sequences/ball2/color/00000039.jpg', '/content/drive/MyDrive/Colab Notebooks/Resit/sequences/ball2/color/00000040.jpg']\n"
          ]
        }
      ]
    },
    {
      "cell_type": "code",
      "source": [
        "import cv2\n",
        "\n",
        "for frame1_path in range(len(frame1_path_all)/4,len(frame1_path_all)/2):\n",
        "  print(frame1_path[0])\n",
        "  frame1_img_all.append(read_img(frame1_path))"
      ],
      "metadata": {
        "id": "bF0d7CPsO4Zi"
      },
      "execution_count": null,
      "outputs": []
    },
    {
      "cell_type": "code",
      "source": [
        "import cv2\n",
        "\n",
        "for frame1_path in range(len(frame1_path_all)/2,3*(len(frame1_path_all)/4)):\n",
        "  print(frame1_path[0])\n",
        "  frame1_img_all.append(read_img(frame1_path))"
      ],
      "metadata": {
        "id": "x8G_ZjSPO4ni"
      },
      "execution_count": null,
      "outputs": []
    },
    {
      "cell_type": "code",
      "source": [
        "import cv2\n",
        "\n",
        "for frame1_path in range(3*(len(frame1_path_all)/4),len(frame1_path_all)):\n",
        "  print(frame1_path[0])\n",
        "  frame1_img_all.append(read_img(frame1_path))"
      ],
      "metadata": {
        "id": "W3K5uqzmO42b"
      },
      "execution_count": null,
      "outputs": []
    },
    {
      "cell_type": "code",
      "source": [
        "# İkinci frame'i yükleyin\n",
        "frame2 = cv2.imread(frame2_path)\n",
        "\n",
        "# Önceki frame'in sınırlayıcı kutusundan koordinatları alın\n",
        "x2, y2, w2, h2 = bounding_box2\n",
        "\n",
        "# Sınırlayıcı kutuyu 2 kat büyütün\n",
        "x2 -= int(w2 / 2)\n",
        "y2 -= int(h2 / 2)\n",
        "w2 *= 2\n",
        "h2 *= 2\n",
        "\n",
        "# Büyütülmüş sınırlayıcı kutuyla ikinci frame'i kırpın\n",
        "cropped_frame2 = frame2[y2:y2+h2, x2:x2+w2]\n"
      ],
      "metadata": {
        "id": "__TY6HU64bPu"
      },
      "execution_count": null,
      "outputs": []
    }
  ]
}